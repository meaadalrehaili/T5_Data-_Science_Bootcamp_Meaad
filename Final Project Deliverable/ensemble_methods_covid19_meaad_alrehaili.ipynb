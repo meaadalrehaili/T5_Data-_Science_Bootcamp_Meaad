{
 "cells": [
  {
   "cell_type": "markdown",
   "metadata": {},
   "source": [
    "# Importing Libraries"
   ]
  },
  {
   "cell_type": "code",
   "execution_count": 1,
   "metadata": {
    "_cell_guid": "b1076dfc-b9ad-4769-8c92-a6c4dae69d19",
    "_kg_hide-input": false,
    "_kg_hide-output": true,
    "_uuid": "8f2839f25d086af736a60e9eeb907d3b93b6e0e5"
   },
   "outputs": [],
   "source": [
    "import warnings\n",
    "warnings.filterwarnings(\"ignore\") \n",
    "from datetime import datetime\n",
    "import math\n",
    "import pandas as pd\n",
    "import numpy as np\n",
    "import matplotlib.pyplot as plt\n",
    "%matplotlib inline \n",
    "from sklearn.metrics import mean_squared_error\n",
    "from sklearn.metrics import r2_score\n",
    "from sklearn.metrics import median_absolute_error\n",
    "from sklearn.metrics import mean_absolute_error\n",
    "from sklearn.ensemble import GradientBoostingRegressor\n",
    "from sklearn.ensemble import RandomForestRegressor\n",
    "from sklearn.ensemble import VotingRegressor"
   ]
  },
  {
   "cell_type": "markdown",
   "metadata": {},
   "source": [
    "# Importing Confirmed cases of COVID-19 directly from githubusercontent as updated dataset"
   ]
  },
  {
   "cell_type": "code",
   "execution_count": 2,
   "metadata": {
    "_kg_hide-input": false,
    "_kg_hide-output": true
   },
   "outputs": [],
   "source": [
    "data_confirmed_cases= pd.read_csv('https://github.com/meaadalrehaili/Tuwaiq_Data_Science_Bootcamp/blob/main/Dataset/time_series_Confirmed.csv')"
   ]
  },
  {
   "cell_type": "markdown",
   "metadata": {},
   "source": [
    "### Selecting the Specific dates "
   ]
  },
  {
   "cell_type": "code",
   "execution_count": 3,
   "metadata": {},
   "outputs": [],
   "source": [
    "data_confirmed_cases=data_confirmed_cases.iloc[:,0:80] #select dates for one month"
   ]
  },
  {
   "cell_type": "markdown",
   "metadata": {},
   "source": [
    "# Exploratory data analysis"
   ]
  },
  {
   "cell_type": "markdown",
   "metadata": {},
   "source": [
    "### Five top records of data"
   ]
  },
  {
   "cell_type": "code",
   "execution_count": 4,
   "metadata": {},
   "outputs": [
    {
     "data": {
      "text/html": [
       "<div>\n",
       "<style scoped>\n",
       "    .dataframe tbody tr th:only-of-type {\n",
       "        vertical-align: middle;\n",
       "    }\n",
       "\n",
       "    .dataframe tbody tr th {\n",
       "        vertical-align: top;\n",
       "    }\n",
       "\n",
       "    .dataframe thead th {\n",
       "        text-align: right;\n",
       "    }\n",
       "</style>\n",
       "<table border=\"1\" class=\"dataframe\">\n",
       "  <thead>\n",
       "    <tr style=\"text-align: right;\">\n",
       "      <th></th>\n",
       "      <th>Province/State</th>\n",
       "      <th>Country/Region</th>\n",
       "      <th>Lat</th>\n",
       "      <th>Long</th>\n",
       "      <th>1/21/20 22:00</th>\n",
       "      <th>1/22/20 12:00</th>\n",
       "      <th>1/23/20 12:00</th>\n",
       "      <th>1/24/20 0:00</th>\n",
       "      <th>1/24/20 12:00</th>\n",
       "      <th>1/25/20 0:00</th>\n",
       "      <th>...</th>\n",
       "      <th>02/09/2020 23:20</th>\n",
       "      <th>02/10/2020 10:30</th>\n",
       "      <th>02/10/2020 19:30</th>\n",
       "      <th>02/11/2020 10:50</th>\n",
       "      <th>02/11/2020 20:44</th>\n",
       "      <th>02/12/2020 10:20</th>\n",
       "      <th>02/12/2020 22:00</th>\n",
       "      <th>2/13/20 10:00</th>\n",
       "      <th>2/13/20 21:15</th>\n",
       "      <th>2/14/20 11:23</th>\n",
       "    </tr>\n",
       "  </thead>\n",
       "  <tbody>\n",
       "    <tr>\n",
       "      <th>0</th>\n",
       "      <td>Anhui</td>\n",
       "      <td>Mainland China</td>\n",
       "      <td>31.82571</td>\n",
       "      <td>117.2264</td>\n",
       "      <td>NaN</td>\n",
       "      <td>1.0</td>\n",
       "      <td>9.0</td>\n",
       "      <td>15.0</td>\n",
       "      <td>15.0</td>\n",
       "      <td>39.0</td>\n",
       "      <td>...</td>\n",
       "      <td>830.0</td>\n",
       "      <td>830.0</td>\n",
       "      <td>830.0</td>\n",
       "      <td>860.0</td>\n",
       "      <td>889.0</td>\n",
       "      <td>889.0</td>\n",
       "      <td>910.0</td>\n",
       "      <td>910.0</td>\n",
       "      <td>934</td>\n",
       "      <td>934</td>\n",
       "    </tr>\n",
       "    <tr>\n",
       "      <th>1</th>\n",
       "      <td>Beijing</td>\n",
       "      <td>Mainland China</td>\n",
       "      <td>40.18238</td>\n",
       "      <td>116.4142</td>\n",
       "      <td>10.0</td>\n",
       "      <td>14.0</td>\n",
       "      <td>22.0</td>\n",
       "      <td>26.0</td>\n",
       "      <td>36.0</td>\n",
       "      <td>36.0</td>\n",
       "      <td>...</td>\n",
       "      <td>337.0</td>\n",
       "      <td>337.0</td>\n",
       "      <td>337.0</td>\n",
       "      <td>342.0</td>\n",
       "      <td>342.0</td>\n",
       "      <td>352.0</td>\n",
       "      <td>366.0</td>\n",
       "      <td>366.0</td>\n",
       "      <td>366</td>\n",
       "      <td>372</td>\n",
       "    </tr>\n",
       "    <tr>\n",
       "      <th>2</th>\n",
       "      <td>Chongqing</td>\n",
       "      <td>Mainland China</td>\n",
       "      <td>30.05718</td>\n",
       "      <td>107.8740</td>\n",
       "      <td>5.0</td>\n",
       "      <td>6.0</td>\n",
       "      <td>9.0</td>\n",
       "      <td>27.0</td>\n",
       "      <td>27.0</td>\n",
       "      <td>57.0</td>\n",
       "      <td>...</td>\n",
       "      <td>468.0</td>\n",
       "      <td>473.0</td>\n",
       "      <td>486.0</td>\n",
       "      <td>489.0</td>\n",
       "      <td>505.0</td>\n",
       "      <td>509.0</td>\n",
       "      <td>518.0</td>\n",
       "      <td>525.0</td>\n",
       "      <td>529</td>\n",
       "      <td>532</td>\n",
       "    </tr>\n",
       "    <tr>\n",
       "      <th>3</th>\n",
       "      <td>Fujian</td>\n",
       "      <td>Mainland China</td>\n",
       "      <td>26.07783</td>\n",
       "      <td>117.9895</td>\n",
       "      <td>NaN</td>\n",
       "      <td>1.0</td>\n",
       "      <td>5.0</td>\n",
       "      <td>5.0</td>\n",
       "      <td>10.0</td>\n",
       "      <td>10.0</td>\n",
       "      <td>...</td>\n",
       "      <td>261.0</td>\n",
       "      <td>261.0</td>\n",
       "      <td>261.0</td>\n",
       "      <td>267.0</td>\n",
       "      <td>272.0</td>\n",
       "      <td>272.0</td>\n",
       "      <td>279.0</td>\n",
       "      <td>279.0</td>\n",
       "      <td>281</td>\n",
       "      <td>281</td>\n",
       "    </tr>\n",
       "    <tr>\n",
       "      <th>4</th>\n",
       "      <td>Gansu</td>\n",
       "      <td>Mainland China</td>\n",
       "      <td>36.06110</td>\n",
       "      <td>103.8343</td>\n",
       "      <td>NaN</td>\n",
       "      <td>NaN</td>\n",
       "      <td>2.0</td>\n",
       "      <td>2.0</td>\n",
       "      <td>2.0</td>\n",
       "      <td>4.0</td>\n",
       "      <td>...</td>\n",
       "      <td>83.0</td>\n",
       "      <td>83.0</td>\n",
       "      <td>86.0</td>\n",
       "      <td>86.0</td>\n",
       "      <td>86.0</td>\n",
       "      <td>86.0</td>\n",
       "      <td>87.0</td>\n",
       "      <td>87.0</td>\n",
       "      <td>90</td>\n",
       "      <td>90</td>\n",
       "    </tr>\n",
       "  </tbody>\n",
       "</table>\n",
       "<p>5 rows × 49 columns</p>\n",
       "</div>"
      ],
      "text/plain": [
       "  Province/State  Country/Region       Lat      Long  1/21/20 22:00  \\\n",
       "0          Anhui  Mainland China  31.82571  117.2264            NaN   \n",
       "1        Beijing  Mainland China  40.18238  116.4142           10.0   \n",
       "2      Chongqing  Mainland China  30.05718  107.8740            5.0   \n",
       "3         Fujian  Mainland China  26.07783  117.9895            NaN   \n",
       "4          Gansu  Mainland China  36.06110  103.8343            NaN   \n",
       "\n",
       "   1/22/20 12:00  1/23/20 12:00  1/24/20 0:00  1/24/20 12:00  1/25/20 0:00  \\\n",
       "0            1.0            9.0          15.0           15.0          39.0   \n",
       "1           14.0           22.0          26.0           36.0          36.0   \n",
       "2            6.0            9.0          27.0           27.0          57.0   \n",
       "3            1.0            5.0           5.0           10.0          10.0   \n",
       "4            NaN            2.0           2.0            2.0           4.0   \n",
       "\n",
       "   ...  02/09/2020 23:20  02/10/2020 10:30  02/10/2020 19:30  \\\n",
       "0  ...             830.0             830.0             830.0   \n",
       "1  ...             337.0             337.0             337.0   \n",
       "2  ...             468.0             473.0             486.0   \n",
       "3  ...             261.0             261.0             261.0   \n",
       "4  ...              83.0              83.0              86.0   \n",
       "\n",
       "   02/11/2020 10:50  02/11/2020 20:44  02/12/2020 10:20  02/12/2020 22:00  \\\n",
       "0             860.0             889.0             889.0             910.0   \n",
       "1             342.0             342.0             352.0             366.0   \n",
       "2             489.0             505.0             509.0             518.0   \n",
       "3             267.0             272.0             272.0             279.0   \n",
       "4              86.0              86.0              86.0              87.0   \n",
       "\n",
       "   2/13/20 10:00  2/13/20 21:15  2/14/20 11:23  \n",
       "0          910.0            934            934  \n",
       "1          366.0            366            372  \n",
       "2          525.0            529            532  \n",
       "3          279.0            281            281  \n",
       "4           87.0             90             90  \n",
       "\n",
       "[5 rows x 49 columns]"
      ]
     },
     "execution_count": 4,
     "metadata": {},
     "output_type": "execute_result"
    }
   ],
   "source": [
    "data_confirmed_cases.head() #shows the head"
   ]
  },
  {
   "cell_type": "markdown",
   "metadata": {},
   "source": [
    "### Five last records of data"
   ]
  },
  {
   "cell_type": "code",
   "execution_count": 5,
   "metadata": {},
   "outputs": [
    {
     "data": {
      "text/html": [
       "<div>\n",
       "<style scoped>\n",
       "    .dataframe tbody tr th:only-of-type {\n",
       "        vertical-align: middle;\n",
       "    }\n",
       "\n",
       "    .dataframe tbody tr th {\n",
       "        vertical-align: top;\n",
       "    }\n",
       "\n",
       "    .dataframe thead th {\n",
       "        text-align: right;\n",
       "    }\n",
       "</style>\n",
       "<table border=\"1\" class=\"dataframe\">\n",
       "  <thead>\n",
       "    <tr style=\"text-align: right;\">\n",
       "      <th></th>\n",
       "      <th>Province/State</th>\n",
       "      <th>Country/Region</th>\n",
       "      <th>Lat</th>\n",
       "      <th>Long</th>\n",
       "      <th>1/21/20 22:00</th>\n",
       "      <th>1/22/20 12:00</th>\n",
       "      <th>1/23/20 12:00</th>\n",
       "      <th>1/24/20 0:00</th>\n",
       "      <th>1/24/20 12:00</th>\n",
       "      <th>1/25/20 0:00</th>\n",
       "      <th>...</th>\n",
       "      <th>02/09/2020 23:20</th>\n",
       "      <th>02/10/2020 10:30</th>\n",
       "      <th>02/10/2020 19:30</th>\n",
       "      <th>02/11/2020 10:50</th>\n",
       "      <th>02/11/2020 20:44</th>\n",
       "      <th>02/12/2020 10:20</th>\n",
       "      <th>02/12/2020 22:00</th>\n",
       "      <th>2/13/20 10:00</th>\n",
       "      <th>2/13/20 21:15</th>\n",
       "      <th>2/14/20 11:23</th>\n",
       "    </tr>\n",
       "  </thead>\n",
       "  <tbody>\n",
       "    <tr>\n",
       "      <th>7032</th>\n",
       "      <td>Wyoming</td>\n",
       "      <td>US</td>\n",
       "      <td>43.935225</td>\n",
       "      <td>-110.589080</td>\n",
       "      <td>0.0</td>\n",
       "      <td>0.0</td>\n",
       "      <td>0.0</td>\n",
       "      <td>0.0</td>\n",
       "      <td>0.0</td>\n",
       "      <td>0.0</td>\n",
       "      <td>...</td>\n",
       "      <td>0.0</td>\n",
       "      <td>0.0</td>\n",
       "      <td>0.0</td>\n",
       "      <td>0.0</td>\n",
       "      <td>0.0</td>\n",
       "      <td>0.0</td>\n",
       "      <td>0.0</td>\n",
       "      <td>0.0</td>\n",
       "      <td>0</td>\n",
       "      <td>0</td>\n",
       "    </tr>\n",
       "    <tr>\n",
       "      <th>7033</th>\n",
       "      <td>Wyoming</td>\n",
       "      <td>US</td>\n",
       "      <td>41.287818</td>\n",
       "      <td>-110.547578</td>\n",
       "      <td>0.0</td>\n",
       "      <td>0.0</td>\n",
       "      <td>0.0</td>\n",
       "      <td>0.0</td>\n",
       "      <td>0.0</td>\n",
       "      <td>0.0</td>\n",
       "      <td>...</td>\n",
       "      <td>0.0</td>\n",
       "      <td>0.0</td>\n",
       "      <td>0.0</td>\n",
       "      <td>0.0</td>\n",
       "      <td>0.0</td>\n",
       "      <td>0.0</td>\n",
       "      <td>0.0</td>\n",
       "      <td>0.0</td>\n",
       "      <td>0</td>\n",
       "      <td>0</td>\n",
       "    </tr>\n",
       "    <tr>\n",
       "      <th>7034</th>\n",
       "      <td>Wyoming</td>\n",
       "      <td>US</td>\n",
       "      <td>0.000000</td>\n",
       "      <td>0.000000</td>\n",
       "      <td>0.0</td>\n",
       "      <td>0.0</td>\n",
       "      <td>0.0</td>\n",
       "      <td>0.0</td>\n",
       "      <td>0.0</td>\n",
       "      <td>0.0</td>\n",
       "      <td>...</td>\n",
       "      <td>0.0</td>\n",
       "      <td>0.0</td>\n",
       "      <td>0.0</td>\n",
       "      <td>0.0</td>\n",
       "      <td>0.0</td>\n",
       "      <td>0.0</td>\n",
       "      <td>0.0</td>\n",
       "      <td>0.0</td>\n",
       "      <td>0</td>\n",
       "      <td>0</td>\n",
       "    </tr>\n",
       "    <tr>\n",
       "      <th>7035</th>\n",
       "      <td>Wyoming</td>\n",
       "      <td>US</td>\n",
       "      <td>43.904516</td>\n",
       "      <td>-107.680187</td>\n",
       "      <td>0.0</td>\n",
       "      <td>0.0</td>\n",
       "      <td>0.0</td>\n",
       "      <td>0.0</td>\n",
       "      <td>0.0</td>\n",
       "      <td>0.0</td>\n",
       "      <td>...</td>\n",
       "      <td>0.0</td>\n",
       "      <td>0.0</td>\n",
       "      <td>0.0</td>\n",
       "      <td>0.0</td>\n",
       "      <td>0.0</td>\n",
       "      <td>0.0</td>\n",
       "      <td>0.0</td>\n",
       "      <td>0.0</td>\n",
       "      <td>0</td>\n",
       "      <td>0</td>\n",
       "    </tr>\n",
       "    <tr>\n",
       "      <th>7036</th>\n",
       "      <td>Wyoming</td>\n",
       "      <td>US</td>\n",
       "      <td>43.839612</td>\n",
       "      <td>-104.567488</td>\n",
       "      <td>0.0</td>\n",
       "      <td>0.0</td>\n",
       "      <td>0.0</td>\n",
       "      <td>0.0</td>\n",
       "      <td>0.0</td>\n",
       "      <td>0.0</td>\n",
       "      <td>...</td>\n",
       "      <td>0.0</td>\n",
       "      <td>0.0</td>\n",
       "      <td>0.0</td>\n",
       "      <td>0.0</td>\n",
       "      <td>0.0</td>\n",
       "      <td>0.0</td>\n",
       "      <td>0.0</td>\n",
       "      <td>0.0</td>\n",
       "      <td>0</td>\n",
       "      <td>0</td>\n",
       "    </tr>\n",
       "  </tbody>\n",
       "</table>\n",
       "<p>5 rows × 49 columns</p>\n",
       "</div>"
      ],
      "text/plain": [
       "     Province/State Country/Region        Lat        Long  1/21/20 22:00  \\\n",
       "7032        Wyoming             US  43.935225 -110.589080            0.0   \n",
       "7033        Wyoming             US  41.287818 -110.547578            0.0   \n",
       "7034        Wyoming             US   0.000000    0.000000            0.0   \n",
       "7035        Wyoming             US  43.904516 -107.680187            0.0   \n",
       "7036        Wyoming             US  43.839612 -104.567488            0.0   \n",
       "\n",
       "      1/22/20 12:00  1/23/20 12:00  1/24/20 0:00  1/24/20 12:00  1/25/20 0:00  \\\n",
       "7032            0.0            0.0           0.0            0.0           0.0   \n",
       "7033            0.0            0.0           0.0            0.0           0.0   \n",
       "7034            0.0            0.0           0.0            0.0           0.0   \n",
       "7035            0.0            0.0           0.0            0.0           0.0   \n",
       "7036            0.0            0.0           0.0            0.0           0.0   \n",
       "\n",
       "      ...  02/09/2020 23:20  02/10/2020 10:30  02/10/2020 19:30  \\\n",
       "7032  ...               0.0               0.0               0.0   \n",
       "7033  ...               0.0               0.0               0.0   \n",
       "7034  ...               0.0               0.0               0.0   \n",
       "7035  ...               0.0               0.0               0.0   \n",
       "7036  ...               0.0               0.0               0.0   \n",
       "\n",
       "      02/11/2020 10:50  02/11/2020 20:44  02/12/2020 10:20  02/12/2020 22:00  \\\n",
       "7032               0.0               0.0               0.0               0.0   \n",
       "7033               0.0               0.0               0.0               0.0   \n",
       "7034               0.0               0.0               0.0               0.0   \n",
       "7035               0.0               0.0               0.0               0.0   \n",
       "7036               0.0               0.0               0.0               0.0   \n",
       "\n",
       "      2/13/20 10:00  2/13/20 21:15  2/14/20 11:23  \n",
       "7032            0.0              0              0  \n",
       "7033            0.0              0              0  \n",
       "7034            0.0              0              0  \n",
       "7035            0.0              0              0  \n",
       "7036            0.0              0              0  \n",
       "\n",
       "[5 rows x 49 columns]"
      ]
     },
     "execution_count": 5,
     "metadata": {},
     "output_type": "execute_result"
    }
   ],
   "source": [
    "data_confirmed_cases.tail() #show the tail"
   ]
  },
  {
   "cell_type": "markdown",
   "metadata": {},
   "source": [
    "### Coloumns/features in data"
   ]
  },
  {
   "cell_type": "code",
   "execution_count": 6,
   "metadata": {},
   "outputs": [
    {
     "data": {
      "text/plain": [
       "Index(['Province/State', 'Country/Region', 'Lat', 'Long', '1/21/20 22:00',\n",
       "       '1/22/20 12:00', '1/23/20 12:00', '1/24/20 0:00', '1/24/20 12:00',\n",
       "       '1/25/20 0:00', '1/25/20 12:00', '1/25/20 22:00', '1/26/20 11:00',\n",
       "       '1/26/20 23:00', '1/27/20 9:00', '1/27/20 19:00', '1/27/20 20:30',\n",
       "       '1/28/20 13:00', '1/28/20 18:00', '1/28/20 23:00', '1/29/20 13:30',\n",
       "       '1/29/20 14:30', '1/29/20 21:00', '1/30/20 11:00', '1/31/20 14:00',\n",
       "       '02/01/2020 10:00', '02/02/2020 21:00', '02/03/2020 21:00',\n",
       "       '02/04/2020 9:40', '02/04/2020 22:00', '02/05/2020 9:00',\n",
       "       '02/05/2020 23:00', '02/06/2020 9:00', '02/06/2020 14:20',\n",
       "       '02/07/2020 20:13', '02/07/2020 22:50', '02/08/2020 10:24',\n",
       "       '02/08/2020 23:04', '02/09/2020 10:30', '02/09/2020 23:20',\n",
       "       '02/10/2020 10:30', '02/10/2020 19:30', '02/11/2020 10:50',\n",
       "       '02/11/2020 20:44', '02/12/2020 10:20', '02/12/2020 22:00',\n",
       "       '2/13/20 10:00', '2/13/20 21:15', '2/14/20 11:23'],\n",
       "      dtype='object')"
      ]
     },
     "execution_count": 6,
     "metadata": {},
     "output_type": "execute_result"
    }
   ],
   "source": [
    "data_confirmed_cases.columns"
   ]
  },
  {
   "cell_type": "markdown",
   "metadata": {},
   "source": [
    "### Data information"
   ]
  },
  {
   "cell_type": "code",
   "execution_count": 7,
   "metadata": {
    "scrolled": false
   },
   "outputs": [
    {
     "name": "stdout",
     "output_type": "stream",
     "text": [
      "<class 'pandas.core.frame.DataFrame'>\n",
      "RangeIndex: 7037 entries, 0 to 7036\n",
      "Data columns (total 49 columns):\n",
      " #   Column            Non-Null Count  Dtype  \n",
      "---  ------            --------------  -----  \n",
      " 0   Province/State    6824 non-null   object \n",
      " 1   Country/Region    7037 non-null   object \n",
      " 2   Lat               7035 non-null   float64\n",
      " 3   Long              7035 non-null   float64\n",
      " 4   1/21/20 22:00     6979 non-null   float64\n",
      " 5   1/22/20 12:00     6992 non-null   float64\n",
      " 6   1/23/20 12:00     7000 non-null   float64\n",
      " 7   1/24/20 0:00      7001 non-null   float64\n",
      " 8   1/24/20 12:00     7003 non-null   float64\n",
      " 9   1/25/20 0:00      7005 non-null   float64\n",
      " 10  1/25/20 12:00     7006 non-null   float64\n",
      " 11  1/25/20 22:00     7006 non-null   float64\n",
      " 12  1/26/20 11:00     7012 non-null   float64\n",
      " 13  1/26/20 23:00     7012 non-null   float64\n",
      " 14  1/27/20 9:00      7013 non-null   float64\n",
      " 15  1/27/20 19:00     7014 non-null   float64\n",
      " 16  1/27/20 20:30     7015 non-null   float64\n",
      " 17  1/28/20 13:00     7016 non-null   float64\n",
      " 18  1/28/20 18:00     7016 non-null   float64\n",
      " 19  1/28/20 23:00     7016 non-null   float64\n",
      " 20  1/29/20 13:30     7019 non-null   float64\n",
      " 21  1/29/20 14:30     7018 non-null   float64\n",
      " 22  1/29/20 21:00     7020 non-null   float64\n",
      " 23  1/30/20 11:00     7022 non-null   float64\n",
      " 24  1/31/20 14:00     7028 non-null   float64\n",
      " 25  02/01/2020 10:00  7030 non-null   float64\n",
      " 26  02/02/2020 21:00  7031 non-null   float64\n",
      " 27  02/03/2020 21:00  7032 non-null   float64\n",
      " 28  02/04/2020 9:40   7033 non-null   float64\n",
      " 29  02/04/2020 22:00  7033 non-null   float64\n",
      " 30  02/05/2020 9:00   7033 non-null   float64\n",
      " 31  02/05/2020 23:00  7034 non-null   float64\n",
      " 32  02/06/2020 9:00   7034 non-null   float64\n",
      " 33  02/06/2020 14:20  7034 non-null   float64\n",
      " 34  02/07/2020 20:13  7035 non-null   float64\n",
      " 35  02/07/2020 22:50  7035 non-null   float64\n",
      " 36  02/08/2020 10:24  7035 non-null   float64\n",
      " 37  02/08/2020 23:04  7035 non-null   float64\n",
      " 38  02/09/2020 10:30  7035 non-null   float64\n",
      " 39  02/09/2020 23:20  7035 non-null   float64\n",
      " 40  02/10/2020 10:30  7035 non-null   float64\n",
      " 41  02/10/2020 19:30  7035 non-null   float64\n",
      " 42  02/11/2020 10:50  7036 non-null   float64\n",
      " 43  02/11/2020 20:44  7036 non-null   float64\n",
      " 44  02/12/2020 10:20  7036 non-null   float64\n",
      " 45  02/12/2020 22:00  7036 non-null   float64\n",
      " 46  2/13/20 10:00     7036 non-null   float64\n",
      " 47  2/13/20 21:15     7037 non-null   int64  \n",
      " 48  2/14/20 11:23     7037 non-null   int64  \n",
      "dtypes: float64(45), int64(2), object(2)\n",
      "memory usage: 2.6+ MB\n"
     ]
    }
   ],
   "source": [
    "data_confirmed_cases.info() #get the info of the data"
   ]
  },
  {
   "cell_type": "markdown",
   "metadata": {},
   "source": [
    "### Data types of all coloumns"
   ]
  },
  {
   "cell_type": "code",
   "execution_count": 8,
   "metadata": {},
   "outputs": [
    {
     "data": {
      "text/plain": [
       "Province/State       object\n",
       "Country/Region       object\n",
       "Lat                 float64\n",
       "Long                float64\n",
       "1/21/20 22:00       float64\n",
       "1/22/20 12:00       float64\n",
       "1/23/20 12:00       float64\n",
       "1/24/20 0:00        float64\n",
       "1/24/20 12:00       float64\n",
       "1/25/20 0:00        float64\n",
       "1/25/20 12:00       float64\n",
       "1/25/20 22:00       float64\n",
       "1/26/20 11:00       float64\n",
       "1/26/20 23:00       float64\n",
       "1/27/20 9:00        float64\n",
       "1/27/20 19:00       float64\n",
       "1/27/20 20:30       float64\n",
       "1/28/20 13:00       float64\n",
       "1/28/20 18:00       float64\n",
       "1/28/20 23:00       float64\n",
       "1/29/20 13:30       float64\n",
       "1/29/20 14:30       float64\n",
       "1/29/20 21:00       float64\n",
       "1/30/20 11:00       float64\n",
       "1/31/20 14:00       float64\n",
       "02/01/2020 10:00    float64\n",
       "02/02/2020 21:00    float64\n",
       "02/03/2020 21:00    float64\n",
       "02/04/2020 9:40     float64\n",
       "02/04/2020 22:00    float64\n",
       "02/05/2020 9:00     float64\n",
       "02/05/2020 23:00    float64\n",
       "02/06/2020 9:00     float64\n",
       "02/06/2020 14:20    float64\n",
       "02/07/2020 20:13    float64\n",
       "02/07/2020 22:50    float64\n",
       "02/08/2020 10:24    float64\n",
       "02/08/2020 23:04    float64\n",
       "02/09/2020 10:30    float64\n",
       "02/09/2020 23:20    float64\n",
       "02/10/2020 10:30    float64\n",
       "02/10/2020 19:30    float64\n",
       "02/11/2020 10:50    float64\n",
       "02/11/2020 20:44    float64\n",
       "02/12/2020 10:20    float64\n",
       "02/12/2020 22:00    float64\n",
       "2/13/20 10:00       float64\n",
       "2/13/20 21:15         int64\n",
       "2/14/20 11:23         int64\n",
       "dtype: object"
      ]
     },
     "execution_count": 8,
     "metadata": {},
     "output_type": "execute_result"
    }
   ],
   "source": [
    "data_confirmed_cases.dtypes"
   ]
  },
  {
   "cell_type": "markdown",
   "metadata": {},
   "source": [
    "### Checking Null Values and Province/State has Nan values, we will fix next"
   ]
  },
  {
   "cell_type": "code",
   "execution_count": 9,
   "metadata": {
    "scrolled": true
   },
   "outputs": [
    {
     "data": {
      "text/html": [
       "<div>\n",
       "<style scoped>\n",
       "    .dataframe tbody tr th:only-of-type {\n",
       "        vertical-align: middle;\n",
       "    }\n",
       "\n",
       "    .dataframe tbody tr th {\n",
       "        vertical-align: top;\n",
       "    }\n",
       "\n",
       "    .dataframe thead th {\n",
       "        text-align: right;\n",
       "    }\n",
       "</style>\n",
       "<table border=\"1\" class=\"dataframe\">\n",
       "  <thead>\n",
       "    <tr style=\"text-align: right;\">\n",
       "      <th></th>\n",
       "      <th>Province/State</th>\n",
       "      <th>Country/Region</th>\n",
       "      <th>Lat</th>\n",
       "      <th>Long</th>\n",
       "      <th>1/21/20 22:00</th>\n",
       "      <th>1/22/20 12:00</th>\n",
       "      <th>1/23/20 12:00</th>\n",
       "      <th>1/24/20 0:00</th>\n",
       "      <th>1/24/20 12:00</th>\n",
       "      <th>1/25/20 0:00</th>\n",
       "      <th>...</th>\n",
       "      <th>02/09/2020 23:20</th>\n",
       "      <th>02/10/2020 10:30</th>\n",
       "      <th>02/10/2020 19:30</th>\n",
       "      <th>02/11/2020 10:50</th>\n",
       "      <th>02/11/2020 20:44</th>\n",
       "      <th>02/12/2020 10:20</th>\n",
       "      <th>02/12/2020 22:00</th>\n",
       "      <th>2/13/20 10:00</th>\n",
       "      <th>2/13/20 21:15</th>\n",
       "      <th>2/14/20 11:23</th>\n",
       "    </tr>\n",
       "  </thead>\n",
       "  <tbody>\n",
       "    <tr>\n",
       "      <th>0</th>\n",
       "      <td>Anhui</td>\n",
       "      <td>Mainland China</td>\n",
       "      <td>31.82571</td>\n",
       "      <td>117.2264</td>\n",
       "      <td>NaN</td>\n",
       "      <td>1.0</td>\n",
       "      <td>9.0</td>\n",
       "      <td>15.0</td>\n",
       "      <td>15.0</td>\n",
       "      <td>39.0</td>\n",
       "      <td>...</td>\n",
       "      <td>830.0</td>\n",
       "      <td>830.0</td>\n",
       "      <td>830.0</td>\n",
       "      <td>860.0</td>\n",
       "      <td>889.0</td>\n",
       "      <td>889.0</td>\n",
       "      <td>910.0</td>\n",
       "      <td>910.0</td>\n",
       "      <td>934</td>\n",
       "      <td>934</td>\n",
       "    </tr>\n",
       "    <tr>\n",
       "      <th>3</th>\n",
       "      <td>Fujian</td>\n",
       "      <td>Mainland China</td>\n",
       "      <td>26.07783</td>\n",
       "      <td>117.9895</td>\n",
       "      <td>NaN</td>\n",
       "      <td>1.0</td>\n",
       "      <td>5.0</td>\n",
       "      <td>5.0</td>\n",
       "      <td>10.0</td>\n",
       "      <td>10.0</td>\n",
       "      <td>...</td>\n",
       "      <td>261.0</td>\n",
       "      <td>261.0</td>\n",
       "      <td>261.0</td>\n",
       "      <td>267.0</td>\n",
       "      <td>272.0</td>\n",
       "      <td>272.0</td>\n",
       "      <td>279.0</td>\n",
       "      <td>279.0</td>\n",
       "      <td>281</td>\n",
       "      <td>281</td>\n",
       "    </tr>\n",
       "    <tr>\n",
       "      <th>4</th>\n",
       "      <td>Gansu</td>\n",
       "      <td>Mainland China</td>\n",
       "      <td>36.06110</td>\n",
       "      <td>103.8343</td>\n",
       "      <td>NaN</td>\n",
       "      <td>NaN</td>\n",
       "      <td>2.0</td>\n",
       "      <td>2.0</td>\n",
       "      <td>2.0</td>\n",
       "      <td>4.0</td>\n",
       "      <td>...</td>\n",
       "      <td>83.0</td>\n",
       "      <td>83.0</td>\n",
       "      <td>86.0</td>\n",
       "      <td>86.0</td>\n",
       "      <td>86.0</td>\n",
       "      <td>86.0</td>\n",
       "      <td>87.0</td>\n",
       "      <td>87.0</td>\n",
       "      <td>90</td>\n",
       "      <td>90</td>\n",
       "    </tr>\n",
       "    <tr>\n",
       "      <th>6</th>\n",
       "      <td>Guangxi</td>\n",
       "      <td>Mainland China</td>\n",
       "      <td>23.82908</td>\n",
       "      <td>108.7881</td>\n",
       "      <td>NaN</td>\n",
       "      <td>2.0</td>\n",
       "      <td>5.0</td>\n",
       "      <td>13.0</td>\n",
       "      <td>23.0</td>\n",
       "      <td>23.0</td>\n",
       "      <td>...</td>\n",
       "      <td>210.0</td>\n",
       "      <td>210.0</td>\n",
       "      <td>210.0</td>\n",
       "      <td>215.0</td>\n",
       "      <td>222.0</td>\n",
       "      <td>222.0</td>\n",
       "      <td>222.0</td>\n",
       "      <td>222.0</td>\n",
       "      <td>226</td>\n",
       "      <td>226</td>\n",
       "    </tr>\n",
       "    <tr>\n",
       "      <th>7</th>\n",
       "      <td>Guizhou</td>\n",
       "      <td>Mainland China</td>\n",
       "      <td>26.81536</td>\n",
       "      <td>106.8748</td>\n",
       "      <td>NaN</td>\n",
       "      <td>1.0</td>\n",
       "      <td>3.0</td>\n",
       "      <td>3.0</td>\n",
       "      <td>3.0</td>\n",
       "      <td>4.0</td>\n",
       "      <td>...</td>\n",
       "      <td>109.0</td>\n",
       "      <td>109.0</td>\n",
       "      <td>109.0</td>\n",
       "      <td>127.0</td>\n",
       "      <td>131.0</td>\n",
       "      <td>133.0</td>\n",
       "      <td>135.0</td>\n",
       "      <td>135.0</td>\n",
       "      <td>140</td>\n",
       "      <td>140</td>\n",
       "    </tr>\n",
       "  </tbody>\n",
       "</table>\n",
       "<p>5 rows × 49 columns</p>\n",
       "</div>"
      ],
      "text/plain": [
       "  Province/State  Country/Region       Lat      Long  1/21/20 22:00  \\\n",
       "0          Anhui  Mainland China  31.82571  117.2264            NaN   \n",
       "3         Fujian  Mainland China  26.07783  117.9895            NaN   \n",
       "4          Gansu  Mainland China  36.06110  103.8343            NaN   \n",
       "6        Guangxi  Mainland China  23.82908  108.7881            NaN   \n",
       "7        Guizhou  Mainland China  26.81536  106.8748            NaN   \n",
       "\n",
       "   1/22/20 12:00  1/23/20 12:00  1/24/20 0:00  1/24/20 12:00  1/25/20 0:00  \\\n",
       "0            1.0            9.0          15.0           15.0          39.0   \n",
       "3            1.0            5.0           5.0           10.0          10.0   \n",
       "4            NaN            2.0           2.0            2.0           4.0   \n",
       "6            2.0            5.0          13.0           23.0          23.0   \n",
       "7            1.0            3.0           3.0            3.0           4.0   \n",
       "\n",
       "   ...  02/09/2020 23:20  02/10/2020 10:30  02/10/2020 19:30  \\\n",
       "0  ...             830.0             830.0             830.0   \n",
       "3  ...             261.0             261.0             261.0   \n",
       "4  ...              83.0              83.0              86.0   \n",
       "6  ...             210.0             210.0             210.0   \n",
       "7  ...             109.0             109.0             109.0   \n",
       "\n",
       "   02/11/2020 10:50  02/11/2020 20:44  02/12/2020 10:20  02/12/2020 22:00  \\\n",
       "0             860.0             889.0             889.0             910.0   \n",
       "3             267.0             272.0             272.0             279.0   \n",
       "4              86.0              86.0              86.0              87.0   \n",
       "6             215.0             222.0             222.0             222.0   \n",
       "7             127.0             131.0             133.0             135.0   \n",
       "\n",
       "   2/13/20 10:00  2/13/20 21:15  2/14/20 11:23  \n",
       "0          910.0            934            934  \n",
       "3          279.0            281            281  \n",
       "4           87.0             90             90  \n",
       "6          222.0            226            226  \n",
       "7          135.0            140            140  \n",
       "\n",
       "[5 rows x 49 columns]"
      ]
     },
     "execution_count": 9,
     "metadata": {},
     "output_type": "execute_result"
    }
   ],
   "source": [
    "data_confirmed_cases[data_confirmed_cases.isnull().any(axis=1)].head()"
   ]
  },
  {
   "cell_type": "markdown",
   "metadata": {},
   "source": [
    "### Count of Null values,  this count is 254 and all is from Province/State"
   ]
  },
  {
   "cell_type": "code",
   "execution_count": 10,
   "metadata": {
    "scrolled": true
   },
   "outputs": [
    {
     "data": {
      "text/plain": [
       "254"
      ]
     },
     "execution_count": 10,
     "metadata": {},
     "output_type": "execute_result"
    }
   ],
   "source": [
    "np.sum(data_confirmed_cases.isnull().any(axis=1))"
   ]
  },
  {
   "cell_type": "markdown",
   "metadata": {},
   "source": [
    "### Data Description, here we can see the values of columns as minimum value, maximum value, counts etc"
   ]
  },
  {
   "cell_type": "code",
   "execution_count": 11,
   "metadata": {},
   "outputs": [
    {
     "data": {
      "text/html": [
       "<div>\n",
       "<style scoped>\n",
       "    .dataframe tbody tr th:only-of-type {\n",
       "        vertical-align: middle;\n",
       "    }\n",
       "\n",
       "    .dataframe tbody tr th {\n",
       "        vertical-align: top;\n",
       "    }\n",
       "\n",
       "    .dataframe thead th {\n",
       "        text-align: right;\n",
       "    }\n",
       "</style>\n",
       "<table border=\"1\" class=\"dataframe\">\n",
       "  <thead>\n",
       "    <tr style=\"text-align: right;\">\n",
       "      <th></th>\n",
       "      <th>Lat</th>\n",
       "      <th>Long</th>\n",
       "      <th>1/21/20 22:00</th>\n",
       "      <th>1/22/20 12:00</th>\n",
       "      <th>1/23/20 12:00</th>\n",
       "      <th>1/24/20 0:00</th>\n",
       "      <th>1/24/20 12:00</th>\n",
       "      <th>1/25/20 0:00</th>\n",
       "      <th>1/25/20 12:00</th>\n",
       "      <th>1/25/20 22:00</th>\n",
       "      <th>...</th>\n",
       "      <th>02/09/2020 23:20</th>\n",
       "      <th>02/10/2020 10:30</th>\n",
       "      <th>02/10/2020 19:30</th>\n",
       "      <th>02/11/2020 10:50</th>\n",
       "      <th>02/11/2020 20:44</th>\n",
       "      <th>02/12/2020 10:20</th>\n",
       "      <th>02/12/2020 22:00</th>\n",
       "      <th>2/13/20 10:00</th>\n",
       "      <th>2/13/20 21:15</th>\n",
       "      <th>2/14/20 11:23</th>\n",
       "    </tr>\n",
       "  </thead>\n",
       "  <tbody>\n",
       "    <tr>\n",
       "      <th>count</th>\n",
       "      <td>7035.000000</td>\n",
       "      <td>7035.000000</td>\n",
       "      <td>6979.000000</td>\n",
       "      <td>6992.000000</td>\n",
       "      <td>7000.000000</td>\n",
       "      <td>7001.000000</td>\n",
       "      <td>7003.000000</td>\n",
       "      <td>7005.000000</td>\n",
       "      <td>7006.000000</td>\n",
       "      <td>7006.000000</td>\n",
       "      <td>...</td>\n",
       "      <td>7035.000000</td>\n",
       "      <td>7035.000000</td>\n",
       "      <td>7035.000000</td>\n",
       "      <td>7036.000000</td>\n",
       "      <td>7036.000000</td>\n",
       "      <td>7036.000000</td>\n",
       "      <td>7036.000000</td>\n",
       "      <td>7036.000000</td>\n",
       "      <td>7037.000000</td>\n",
       "      <td>7037.000000</td>\n",
       "    </tr>\n",
       "    <tr>\n",
       "      <th>mean</th>\n",
       "      <td>36.007337</td>\n",
       "      <td>-82.702337</td>\n",
       "      <td>0.127382</td>\n",
       "      <td>0.173341</td>\n",
       "      <td>0.228429</td>\n",
       "      <td>0.331238</td>\n",
       "      <td>0.438241</td>\n",
       "      <td>0.612420</td>\n",
       "      <td>1.002284</td>\n",
       "      <td>1.169426</td>\n",
       "      <td>...</td>\n",
       "      <td>17.335466</td>\n",
       "      <td>17.534044</td>\n",
       "      <td>18.043070</td>\n",
       "      <td>18.364838</td>\n",
       "      <td>18.987351</td>\n",
       "      <td>19.286384</td>\n",
       "      <td>21.811541</td>\n",
       "      <td>22.152928</td>\n",
       "      <td>23.147648</td>\n",
       "      <td>23.727441</td>\n",
       "    </tr>\n",
       "    <tr>\n",
       "      <th>std</th>\n",
       "      <td>10.850737</td>\n",
       "      <td>37.909232</td>\n",
       "      <td>6.239945</td>\n",
       "      <td>7.548971</td>\n",
       "      <td>8.544980</td>\n",
       "      <td>11.419337</td>\n",
       "      <td>14.593277</td>\n",
       "      <td>19.628055</td>\n",
       "      <td>43.810972</td>\n",
       "      <td>44.995040</td>\n",
       "      <td>...</td>\n",
       "      <td>855.256677</td>\n",
       "      <td>859.841071</td>\n",
       "      <td>874.042947</td>\n",
       "      <td>878.965648</td>\n",
       "      <td>894.131411</td>\n",
       "      <td>896.805720</td>\n",
       "      <td>990.142680</td>\n",
       "      <td>992.050816</td>\n",
       "      <td>1021.056492</td>\n",
       "      <td>1023.890286</td>\n",
       "    </tr>\n",
       "    <tr>\n",
       "      <th>min</th>\n",
       "      <td>-51.796300</td>\n",
       "      <td>-178.116500</td>\n",
       "      <td>0.000000</td>\n",
       "      <td>0.000000</td>\n",
       "      <td>0.000000</td>\n",
       "      <td>0.000000</td>\n",
       "      <td>0.000000</td>\n",
       "      <td>0.000000</td>\n",
       "      <td>0.000000</td>\n",
       "      <td>0.000000</td>\n",
       "      <td>...</td>\n",
       "      <td>0.000000</td>\n",
       "      <td>0.000000</td>\n",
       "      <td>0.000000</td>\n",
       "      <td>0.000000</td>\n",
       "      <td>0.000000</td>\n",
       "      <td>0.000000</td>\n",
       "      <td>0.000000</td>\n",
       "      <td>0.000000</td>\n",
       "      <td>0.000000</td>\n",
       "      <td>0.000000</td>\n",
       "    </tr>\n",
       "    <tr>\n",
       "      <th>25%</th>\n",
       "      <td>33.542626</td>\n",
       "      <td>-97.595757</td>\n",
       "      <td>0.000000</td>\n",
       "      <td>0.000000</td>\n",
       "      <td>0.000000</td>\n",
       "      <td>0.000000</td>\n",
       "      <td>0.000000</td>\n",
       "      <td>0.000000</td>\n",
       "      <td>0.000000</td>\n",
       "      <td>0.000000</td>\n",
       "      <td>...</td>\n",
       "      <td>0.000000</td>\n",
       "      <td>0.000000</td>\n",
       "      <td>0.000000</td>\n",
       "      <td>0.000000</td>\n",
       "      <td>0.000000</td>\n",
       "      <td>0.000000</td>\n",
       "      <td>0.000000</td>\n",
       "      <td>0.000000</td>\n",
       "      <td>0.000000</td>\n",
       "      <td>0.000000</td>\n",
       "    </tr>\n",
       "    <tr>\n",
       "      <th>50%</th>\n",
       "      <td>37.851064</td>\n",
       "      <td>-88.764439</td>\n",
       "      <td>0.000000</td>\n",
       "      <td>0.000000</td>\n",
       "      <td>0.000000</td>\n",
       "      <td>0.000000</td>\n",
       "      <td>0.000000</td>\n",
       "      <td>0.000000</td>\n",
       "      <td>0.000000</td>\n",
       "      <td>0.000000</td>\n",
       "      <td>...</td>\n",
       "      <td>0.000000</td>\n",
       "      <td>0.000000</td>\n",
       "      <td>0.000000</td>\n",
       "      <td>0.000000</td>\n",
       "      <td>0.000000</td>\n",
       "      <td>0.000000</td>\n",
       "      <td>0.000000</td>\n",
       "      <td>0.000000</td>\n",
       "      <td>0.000000</td>\n",
       "      <td>0.000000</td>\n",
       "    </tr>\n",
       "    <tr>\n",
       "      <th>75%</th>\n",
       "      <td>41.568469</td>\n",
       "      <td>-81.180859</td>\n",
       "      <td>0.000000</td>\n",
       "      <td>0.000000</td>\n",
       "      <td>0.000000</td>\n",
       "      <td>0.000000</td>\n",
       "      <td>0.000000</td>\n",
       "      <td>0.000000</td>\n",
       "      <td>0.000000</td>\n",
       "      <td>0.000000</td>\n",
       "      <td>...</td>\n",
       "      <td>0.000000</td>\n",
       "      <td>0.000000</td>\n",
       "      <td>0.000000</td>\n",
       "      <td>0.000000</td>\n",
       "      <td>0.000000</td>\n",
       "      <td>0.000000</td>\n",
       "      <td>0.000000</td>\n",
       "      <td>0.000000</td>\n",
       "      <td>0.000000</td>\n",
       "      <td>0.000000</td>\n",
       "    </tr>\n",
       "    <tr>\n",
       "      <th>max</th>\n",
       "      <td>71.706900</td>\n",
       "      <td>178.065000</td>\n",
       "      <td>444.000000</td>\n",
       "      <td>444.000000</td>\n",
       "      <td>549.000000</td>\n",
       "      <td>761.000000</td>\n",
       "      <td>1058.000000</td>\n",
       "      <td>1423.000000</td>\n",
       "      <td>3554.000000</td>\n",
       "      <td>3554.000000</td>\n",
       "      <td>...</td>\n",
       "      <td>65187.000000</td>\n",
       "      <td>65596.000000</td>\n",
       "      <td>65914.000000</td>\n",
       "      <td>66337.000000</td>\n",
       "      <td>66907.000000</td>\n",
       "      <td>67103.000000</td>\n",
       "      <td>67217.000000</td>\n",
       "      <td>67332.000000</td>\n",
       "      <td>67466.000000</td>\n",
       "      <td>67592.000000</td>\n",
       "    </tr>\n",
       "  </tbody>\n",
       "</table>\n",
       "<p>8 rows × 47 columns</p>\n",
       "</div>"
      ],
      "text/plain": [
       "               Lat         Long  1/21/20 22:00  1/22/20 12:00  1/23/20 12:00  \\\n",
       "count  7035.000000  7035.000000    6979.000000    6992.000000    7000.000000   \n",
       "mean     36.007337   -82.702337       0.127382       0.173341       0.228429   \n",
       "std      10.850737    37.909232       6.239945       7.548971       8.544980   \n",
       "min     -51.796300  -178.116500       0.000000       0.000000       0.000000   \n",
       "25%      33.542626   -97.595757       0.000000       0.000000       0.000000   \n",
       "50%      37.851064   -88.764439       0.000000       0.000000       0.000000   \n",
       "75%      41.568469   -81.180859       0.000000       0.000000       0.000000   \n",
       "max      71.706900   178.065000     444.000000     444.000000     549.000000   \n",
       "\n",
       "       1/24/20 0:00  1/24/20 12:00  1/25/20 0:00  1/25/20 12:00  \\\n",
       "count   7001.000000    7003.000000   7005.000000    7006.000000   \n",
       "mean       0.331238       0.438241      0.612420       1.002284   \n",
       "std       11.419337      14.593277     19.628055      43.810972   \n",
       "min        0.000000       0.000000      0.000000       0.000000   \n",
       "25%        0.000000       0.000000      0.000000       0.000000   \n",
       "50%        0.000000       0.000000      0.000000       0.000000   \n",
       "75%        0.000000       0.000000      0.000000       0.000000   \n",
       "max      761.000000    1058.000000   1423.000000    3554.000000   \n",
       "\n",
       "       1/25/20 22:00  ...  02/09/2020 23:20  02/10/2020 10:30  \\\n",
       "count    7006.000000  ...       7035.000000       7035.000000   \n",
       "mean        1.169426  ...         17.335466         17.534044   \n",
       "std        44.995040  ...        855.256677        859.841071   \n",
       "min         0.000000  ...          0.000000          0.000000   \n",
       "25%         0.000000  ...          0.000000          0.000000   \n",
       "50%         0.000000  ...          0.000000          0.000000   \n",
       "75%         0.000000  ...          0.000000          0.000000   \n",
       "max      3554.000000  ...      65187.000000      65596.000000   \n",
       "\n",
       "       02/10/2020 19:30  02/11/2020 10:50  02/11/2020 20:44  02/12/2020 10:20  \\\n",
       "count       7035.000000       7036.000000       7036.000000       7036.000000   \n",
       "mean          18.043070         18.364838         18.987351         19.286384   \n",
       "std          874.042947        878.965648        894.131411        896.805720   \n",
       "min            0.000000          0.000000          0.000000          0.000000   \n",
       "25%            0.000000          0.000000          0.000000          0.000000   \n",
       "50%            0.000000          0.000000          0.000000          0.000000   \n",
       "75%            0.000000          0.000000          0.000000          0.000000   \n",
       "max        65914.000000      66337.000000      66907.000000      67103.000000   \n",
       "\n",
       "       02/12/2020 22:00  2/13/20 10:00  2/13/20 21:15  2/14/20 11:23  \n",
       "count       7036.000000    7036.000000    7037.000000    7037.000000  \n",
       "mean          21.811541      22.152928      23.147648      23.727441  \n",
       "std          990.142680     992.050816    1021.056492    1023.890286  \n",
       "min            0.000000       0.000000       0.000000       0.000000  \n",
       "25%            0.000000       0.000000       0.000000       0.000000  \n",
       "50%            0.000000       0.000000       0.000000       0.000000  \n",
       "75%            0.000000       0.000000       0.000000       0.000000  \n",
       "max        67217.000000   67332.000000   67466.000000   67592.000000  \n",
       "\n",
       "[8 rows x 47 columns]"
      ]
     },
     "execution_count": 11,
     "metadata": {},
     "output_type": "execute_result"
    }
   ],
   "source": [
    "data_confirmed_cases.describe()"
   ]
  },
  {
   "cell_type": "markdown",
   "metadata": {},
   "source": [
    "# Prepartion of data_confirmed_cases data"
   ]
  },
  {
   "cell_type": "markdown",
   "metadata": {},
   "source": [
    "### Deleitng the Province/State\tCountry/Region\tLat\tLong\t coloumns"
   ]
  },
  {
   "cell_type": "code",
   "execution_count": 12,
   "metadata": {},
   "outputs": [],
   "source": [
    "data_confirmed_cases=data_confirmed_cases.drop(columns=['Province/State','Country/Region', 'Lat','Long'])"
   ]
  },
  {
   "cell_type": "code",
   "execution_count": 13,
   "metadata": {},
   "outputs": [
    {
     "data": {
      "text/html": [
       "<div>\n",
       "<style scoped>\n",
       "    .dataframe tbody tr th:only-of-type {\n",
       "        vertical-align: middle;\n",
       "    }\n",
       "\n",
       "    .dataframe tbody tr th {\n",
       "        vertical-align: top;\n",
       "    }\n",
       "\n",
       "    .dataframe thead th {\n",
       "        text-align: right;\n",
       "    }\n",
       "</style>\n",
       "<table border=\"1\" class=\"dataframe\">\n",
       "  <thead>\n",
       "    <tr style=\"text-align: right;\">\n",
       "      <th></th>\n",
       "      <th>1/21/20 22:00</th>\n",
       "      <th>1/22/20 12:00</th>\n",
       "      <th>1/23/20 12:00</th>\n",
       "      <th>1/24/20 0:00</th>\n",
       "      <th>1/24/20 12:00</th>\n",
       "      <th>1/25/20 0:00</th>\n",
       "      <th>1/25/20 12:00</th>\n",
       "      <th>1/25/20 22:00</th>\n",
       "      <th>1/26/20 11:00</th>\n",
       "      <th>1/26/20 23:00</th>\n",
       "      <th>...</th>\n",
       "      <th>02/09/2020 23:20</th>\n",
       "      <th>02/10/2020 10:30</th>\n",
       "      <th>02/10/2020 19:30</th>\n",
       "      <th>02/11/2020 10:50</th>\n",
       "      <th>02/11/2020 20:44</th>\n",
       "      <th>02/12/2020 10:20</th>\n",
       "      <th>02/12/2020 22:00</th>\n",
       "      <th>2/13/20 10:00</th>\n",
       "      <th>2/13/20 21:15</th>\n",
       "      <th>2/14/20 11:23</th>\n",
       "    </tr>\n",
       "  </thead>\n",
       "  <tbody>\n",
       "    <tr>\n",
       "      <th>0</th>\n",
       "      <td>NaN</td>\n",
       "      <td>1.0</td>\n",
       "      <td>9.0</td>\n",
       "      <td>15.0</td>\n",
       "      <td>15.0</td>\n",
       "      <td>39.0</td>\n",
       "      <td>39.0</td>\n",
       "      <td>60.0</td>\n",
       "      <td>60.0</td>\n",
       "      <td>70.0</td>\n",
       "      <td>...</td>\n",
       "      <td>830.0</td>\n",
       "      <td>830.0</td>\n",
       "      <td>830.0</td>\n",
       "      <td>860.0</td>\n",
       "      <td>889.0</td>\n",
       "      <td>889.0</td>\n",
       "      <td>910.0</td>\n",
       "      <td>910.0</td>\n",
       "      <td>934</td>\n",
       "      <td>934</td>\n",
       "    </tr>\n",
       "    <tr>\n",
       "      <th>1</th>\n",
       "      <td>10.0</td>\n",
       "      <td>14.0</td>\n",
       "      <td>22.0</td>\n",
       "      <td>26.0</td>\n",
       "      <td>36.0</td>\n",
       "      <td>36.0</td>\n",
       "      <td>41.0</td>\n",
       "      <td>51.0</td>\n",
       "      <td>68.0</td>\n",
       "      <td>68.0</td>\n",
       "      <td>...</td>\n",
       "      <td>337.0</td>\n",
       "      <td>337.0</td>\n",
       "      <td>337.0</td>\n",
       "      <td>342.0</td>\n",
       "      <td>342.0</td>\n",
       "      <td>352.0</td>\n",
       "      <td>366.0</td>\n",
       "      <td>366.0</td>\n",
       "      <td>366</td>\n",
       "      <td>372</td>\n",
       "    </tr>\n",
       "    <tr>\n",
       "      <th>2</th>\n",
       "      <td>5.0</td>\n",
       "      <td>6.0</td>\n",
       "      <td>9.0</td>\n",
       "      <td>27.0</td>\n",
       "      <td>27.0</td>\n",
       "      <td>57.0</td>\n",
       "      <td>57.0</td>\n",
       "      <td>75.0</td>\n",
       "      <td>75.0</td>\n",
       "      <td>110.0</td>\n",
       "      <td>...</td>\n",
       "      <td>468.0</td>\n",
       "      <td>473.0</td>\n",
       "      <td>486.0</td>\n",
       "      <td>489.0</td>\n",
       "      <td>505.0</td>\n",
       "      <td>509.0</td>\n",
       "      <td>518.0</td>\n",
       "      <td>525.0</td>\n",
       "      <td>529</td>\n",
       "      <td>532</td>\n",
       "    </tr>\n",
       "    <tr>\n",
       "      <th>3</th>\n",
       "      <td>NaN</td>\n",
       "      <td>1.0</td>\n",
       "      <td>5.0</td>\n",
       "      <td>5.0</td>\n",
       "      <td>10.0</td>\n",
       "      <td>10.0</td>\n",
       "      <td>18.0</td>\n",
       "      <td>18.0</td>\n",
       "      <td>35.0</td>\n",
       "      <td>35.0</td>\n",
       "      <td>...</td>\n",
       "      <td>261.0</td>\n",
       "      <td>261.0</td>\n",
       "      <td>261.0</td>\n",
       "      <td>267.0</td>\n",
       "      <td>272.0</td>\n",
       "      <td>272.0</td>\n",
       "      <td>279.0</td>\n",
       "      <td>279.0</td>\n",
       "      <td>281</td>\n",
       "      <td>281</td>\n",
       "    </tr>\n",
       "    <tr>\n",
       "      <th>4</th>\n",
       "      <td>NaN</td>\n",
       "      <td>NaN</td>\n",
       "      <td>2.0</td>\n",
       "      <td>2.0</td>\n",
       "      <td>2.0</td>\n",
       "      <td>4.0</td>\n",
       "      <td>4.0</td>\n",
       "      <td>7.0</td>\n",
       "      <td>7.0</td>\n",
       "      <td>14.0</td>\n",
       "      <td>...</td>\n",
       "      <td>83.0</td>\n",
       "      <td>83.0</td>\n",
       "      <td>86.0</td>\n",
       "      <td>86.0</td>\n",
       "      <td>86.0</td>\n",
       "      <td>86.0</td>\n",
       "      <td>87.0</td>\n",
       "      <td>87.0</td>\n",
       "      <td>90</td>\n",
       "      <td>90</td>\n",
       "    </tr>\n",
       "  </tbody>\n",
       "</table>\n",
       "<p>5 rows × 45 columns</p>\n",
       "</div>"
      ],
      "text/plain": [
       "   1/21/20 22:00  1/22/20 12:00  1/23/20 12:00  1/24/20 0:00  1/24/20 12:00  \\\n",
       "0            NaN            1.0            9.0          15.0           15.0   \n",
       "1           10.0           14.0           22.0          26.0           36.0   \n",
       "2            5.0            6.0            9.0          27.0           27.0   \n",
       "3            NaN            1.0            5.0           5.0           10.0   \n",
       "4            NaN            NaN            2.0           2.0            2.0   \n",
       "\n",
       "   1/25/20 0:00  1/25/20 12:00  1/25/20 22:00  1/26/20 11:00  1/26/20 23:00  \\\n",
       "0          39.0           39.0           60.0           60.0           70.0   \n",
       "1          36.0           41.0           51.0           68.0           68.0   \n",
       "2          57.0           57.0           75.0           75.0          110.0   \n",
       "3          10.0           18.0           18.0           35.0           35.0   \n",
       "4           4.0            4.0            7.0            7.0           14.0   \n",
       "\n",
       "   ...  02/09/2020 23:20  02/10/2020 10:30  02/10/2020 19:30  \\\n",
       "0  ...             830.0             830.0             830.0   \n",
       "1  ...             337.0             337.0             337.0   \n",
       "2  ...             468.0             473.0             486.0   \n",
       "3  ...             261.0             261.0             261.0   \n",
       "4  ...              83.0              83.0              86.0   \n",
       "\n",
       "   02/11/2020 10:50  02/11/2020 20:44  02/12/2020 10:20  02/12/2020 22:00  \\\n",
       "0             860.0             889.0             889.0             910.0   \n",
       "1             342.0             342.0             352.0             366.0   \n",
       "2             489.0             505.0             509.0             518.0   \n",
       "3             267.0             272.0             272.0             279.0   \n",
       "4              86.0              86.0              86.0              87.0   \n",
       "\n",
       "   2/13/20 10:00  2/13/20 21:15  2/14/20 11:23  \n",
       "0          910.0            934            934  \n",
       "1          366.0            366            372  \n",
       "2          525.0            529            532  \n",
       "3          279.0            281            281  \n",
       "4           87.0             90             90  \n",
       "\n",
       "[5 rows x 45 columns]"
      ]
     },
     "execution_count": 13,
     "metadata": {},
     "output_type": "execute_result"
    }
   ],
   "source": [
    "data_confirmed_cases.head()"
   ]
  },
  {
   "cell_type": "markdown",
   "metadata": {},
   "source": [
    "### Getting sum of all dates"
   ]
  },
  {
   "cell_type": "code",
   "execution_count": 14,
   "metadata": {},
   "outputs": [
    {
     "data": {
      "text/plain": [
       "1/21/20 22:00     889.0\n",
       "1/22/20 12:00    1212.0\n",
       "1/23/20 12:00    1599.0\n",
       "1/24/20 0:00     2319.0\n",
       "1/24/20 12:00    3069.0\n",
       "dtype: float64"
      ]
     },
     "execution_count": 14,
     "metadata": {},
     "output_type": "execute_result"
    }
   ],
   "source": [
    "data_confirmed_cases=data_confirmed_cases.sum()\n",
    "data_confirmed_cases.head()"
   ]
  },
  {
   "cell_type": "markdown",
   "metadata": {},
   "source": [
    "### Saving the sum of all dates in dataframe"
   ]
  },
  {
   "cell_type": "code",
   "execution_count": 15,
   "metadata": {},
   "outputs": [
    {
     "data": {
      "text/html": [
       "<div>\n",
       "<style scoped>\n",
       "    .dataframe tbody tr th:only-of-type {\n",
       "        vertical-align: middle;\n",
       "    }\n",
       "\n",
       "    .dataframe tbody tr th {\n",
       "        vertical-align: top;\n",
       "    }\n",
       "\n",
       "    .dataframe thead th {\n",
       "        text-align: right;\n",
       "    }\n",
       "</style>\n",
       "<table border=\"1\" class=\"dataframe\">\n",
       "  <thead>\n",
       "    <tr style=\"text-align: right;\">\n",
       "      <th></th>\n",
       "      <th>0</th>\n",
       "    </tr>\n",
       "  </thead>\n",
       "  <tbody>\n",
       "    <tr>\n",
       "      <th>1/21/20 22:00</th>\n",
       "      <td>889.0</td>\n",
       "    </tr>\n",
       "    <tr>\n",
       "      <th>1/22/20 12:00</th>\n",
       "      <td>1212.0</td>\n",
       "    </tr>\n",
       "    <tr>\n",
       "      <th>1/23/20 12:00</th>\n",
       "      <td>1599.0</td>\n",
       "    </tr>\n",
       "    <tr>\n",
       "      <th>1/24/20 0:00</th>\n",
       "      <td>2319.0</td>\n",
       "    </tr>\n",
       "    <tr>\n",
       "      <th>1/24/20 12:00</th>\n",
       "      <td>3069.0</td>\n",
       "    </tr>\n",
       "  </tbody>\n",
       "</table>\n",
       "</div>"
      ],
      "text/plain": [
       "                    0\n",
       "1/21/20 22:00   889.0\n",
       "1/22/20 12:00  1212.0\n",
       "1/23/20 12:00  1599.0\n",
       "1/24/20 0:00   2319.0\n",
       "1/24/20 12:00  3069.0"
      ]
     },
     "execution_count": 15,
     "metadata": {},
     "output_type": "execute_result"
    }
   ],
   "source": [
    "data_confirmed_cases=pd.DataFrame(data_confirmed_cases)\n",
    "data_confirmed_cases.head()"
   ]
  },
  {
   "cell_type": "markdown",
   "metadata": {},
   "source": [
    "### Creating new column of Dates"
   ]
  },
  {
   "cell_type": "code",
   "execution_count": 16,
   "metadata": {},
   "outputs": [
    {
     "data": {
      "text/html": [
       "<div>\n",
       "<style scoped>\n",
       "    .dataframe tbody tr th:only-of-type {\n",
       "        vertical-align: middle;\n",
       "    }\n",
       "\n",
       "    .dataframe tbody tr th {\n",
       "        vertical-align: top;\n",
       "    }\n",
       "\n",
       "    .dataframe thead th {\n",
       "        text-align: right;\n",
       "    }\n",
       "</style>\n",
       "<table border=\"1\" class=\"dataframe\">\n",
       "  <thead>\n",
       "    <tr style=\"text-align: right;\">\n",
       "      <th></th>\n",
       "      <th>0</th>\n",
       "      <th>Dates</th>\n",
       "    </tr>\n",
       "  </thead>\n",
       "  <tbody>\n",
       "    <tr>\n",
       "      <th>1/21/20 22:00</th>\n",
       "      <td>889.0</td>\n",
       "      <td>1/21/20 22:00</td>\n",
       "    </tr>\n",
       "    <tr>\n",
       "      <th>1/22/20 12:00</th>\n",
       "      <td>1212.0</td>\n",
       "      <td>1/22/20 12:00</td>\n",
       "    </tr>\n",
       "    <tr>\n",
       "      <th>1/23/20 12:00</th>\n",
       "      <td>1599.0</td>\n",
       "      <td>1/23/20 12:00</td>\n",
       "    </tr>\n",
       "    <tr>\n",
       "      <th>1/24/20 0:00</th>\n",
       "      <td>2319.0</td>\n",
       "      <td>1/24/20 0:00</td>\n",
       "    </tr>\n",
       "    <tr>\n",
       "      <th>1/24/20 12:00</th>\n",
       "      <td>3069.0</td>\n",
       "      <td>1/24/20 12:00</td>\n",
       "    </tr>\n",
       "  </tbody>\n",
       "</table>\n",
       "</div>"
      ],
      "text/plain": [
       "                    0          Dates\n",
       "1/21/20 22:00   889.0  1/21/20 22:00\n",
       "1/22/20 12:00  1212.0  1/22/20 12:00\n",
       "1/23/20 12:00  1599.0  1/23/20 12:00\n",
       "1/24/20 0:00   2319.0   1/24/20 0:00\n",
       "1/24/20 12:00  3069.0  1/24/20 12:00"
      ]
     },
     "execution_count": 16,
     "metadata": {},
     "output_type": "execute_result"
    }
   ],
   "source": [
    "data_confirmed_cases['Dates']=data_confirmed_cases.index\n",
    "data_confirmed_cases.head()"
   ]
  },
  {
   "cell_type": "markdown",
   "metadata": {},
   "source": [
    "### Reseting the index"
   ]
  },
  {
   "cell_type": "code",
   "execution_count": 17,
   "metadata": {},
   "outputs": [
    {
     "data": {
      "text/html": [
       "<div>\n",
       "<style scoped>\n",
       "    .dataframe tbody tr th:only-of-type {\n",
       "        vertical-align: middle;\n",
       "    }\n",
       "\n",
       "    .dataframe tbody tr th {\n",
       "        vertical-align: top;\n",
       "    }\n",
       "\n",
       "    .dataframe thead th {\n",
       "        text-align: right;\n",
       "    }\n",
       "</style>\n",
       "<table border=\"1\" class=\"dataframe\">\n",
       "  <thead>\n",
       "    <tr style=\"text-align: right;\">\n",
       "      <th></th>\n",
       "      <th>0</th>\n",
       "      <th>Dates</th>\n",
       "    </tr>\n",
       "  </thead>\n",
       "  <tbody>\n",
       "    <tr>\n",
       "      <th>0</th>\n",
       "      <td>889.0</td>\n",
       "      <td>1/21/20 22:00</td>\n",
       "    </tr>\n",
       "    <tr>\n",
       "      <th>1</th>\n",
       "      <td>1212.0</td>\n",
       "      <td>1/22/20 12:00</td>\n",
       "    </tr>\n",
       "    <tr>\n",
       "      <th>2</th>\n",
       "      <td>1599.0</td>\n",
       "      <td>1/23/20 12:00</td>\n",
       "    </tr>\n",
       "    <tr>\n",
       "      <th>3</th>\n",
       "      <td>2319.0</td>\n",
       "      <td>1/24/20 0:00</td>\n",
       "    </tr>\n",
       "    <tr>\n",
       "      <th>4</th>\n",
       "      <td>3069.0</td>\n",
       "      <td>1/24/20 12:00</td>\n",
       "    </tr>\n",
       "  </tbody>\n",
       "</table>\n",
       "</div>"
      ],
      "text/plain": [
       "        0          Dates\n",
       "0   889.0  1/21/20 22:00\n",
       "1  1212.0  1/22/20 12:00\n",
       "2  1599.0  1/23/20 12:00\n",
       "3  2319.0   1/24/20 0:00\n",
       "4  3069.0  1/24/20 12:00"
      ]
     },
     "execution_count": 17,
     "metadata": {},
     "output_type": "execute_result"
    }
   ],
   "source": [
    "data_confirmed_cases=data_confirmed_cases.reset_index(drop=True)\n",
    "data_confirmed_cases.head()"
   ]
  },
  {
   "cell_type": "markdown",
   "metadata": {},
   "source": [
    "### Renaming the column"
   ]
  },
  {
   "cell_type": "code",
   "execution_count": 18,
   "metadata": {},
   "outputs": [
    {
     "data": {
      "text/html": [
       "<div>\n",
       "<style scoped>\n",
       "    .dataframe tbody tr th:only-of-type {\n",
       "        vertical-align: middle;\n",
       "    }\n",
       "\n",
       "    .dataframe tbody tr th {\n",
       "        vertical-align: top;\n",
       "    }\n",
       "\n",
       "    .dataframe thead th {\n",
       "        text-align: right;\n",
       "    }\n",
       "</style>\n",
       "<table border=\"1\" class=\"dataframe\">\n",
       "  <thead>\n",
       "    <tr style=\"text-align: right;\">\n",
       "      <th></th>\n",
       "      <th>Dates</th>\n",
       "      <th>data_confirmed_cases</th>\n",
       "    </tr>\n",
       "  </thead>\n",
       "  <tbody>\n",
       "    <tr>\n",
       "      <th>0</th>\n",
       "      <td>1/21/20 22:00</td>\n",
       "      <td>889.0</td>\n",
       "    </tr>\n",
       "    <tr>\n",
       "      <th>1</th>\n",
       "      <td>1/22/20 12:00</td>\n",
       "      <td>1212.0</td>\n",
       "    </tr>\n",
       "    <tr>\n",
       "      <th>2</th>\n",
       "      <td>1/23/20 12:00</td>\n",
       "      <td>1599.0</td>\n",
       "    </tr>\n",
       "    <tr>\n",
       "      <th>3</th>\n",
       "      <td>1/24/20 0:00</td>\n",
       "      <td>2319.0</td>\n",
       "    </tr>\n",
       "    <tr>\n",
       "      <th>4</th>\n",
       "      <td>1/24/20 12:00</td>\n",
       "      <td>3069.0</td>\n",
       "    </tr>\n",
       "  </tbody>\n",
       "</table>\n",
       "</div>"
      ],
      "text/plain": [
       "           Dates  data_confirmed_cases\n",
       "0  1/21/20 22:00                 889.0\n",
       "1  1/22/20 12:00                1212.0\n",
       "2  1/23/20 12:00                1599.0\n",
       "3   1/24/20 0:00                2319.0\n",
       "4  1/24/20 12:00                3069.0"
      ]
     },
     "execution_count": 18,
     "metadata": {},
     "output_type": "execute_result"
    }
   ],
   "source": [
    "data_confirmed_cases=data_confirmed_cases.rename(columns={0:'data_confirmed_cases'})\n",
    "data_confirmed_cases=data_confirmed_cases[['Dates','data_confirmed_cases']]\n",
    "data_confirmed_cases.head()"
   ]
  },
  {
   "cell_type": "markdown",
   "metadata": {},
   "source": [
    "### Date settings and data preparation"
   ]
  },
  {
   "cell_type": "code",
   "execution_count": 19,
   "metadata": {},
   "outputs": [],
   "source": [
    "data_confirmed_cases['times'] = pd.to_datetime(data_confirmed_cases['Dates'])  \n",
    "data_confirmed_cases.set_index('times', inplace=True)                   \n",
    "data_confirmed_cases.sort_index(ascending=True, inplace=True)\n",
    "tar='Confirmed Cases Predictions'\n",
    "data_confirmed_cases.rename(columns={'data_confirmed_cases':tar}, inplace=True)\n",
    "data_confirmed_cases=data_confirmed_cases[[tar]]"
   ]
  },
  {
   "cell_type": "markdown",
   "metadata": {},
   "source": [
    "### Spliting date into  month, year and Day of month"
   ]
  },
  {
   "cell_type": "code",
   "execution_count": 20,
   "metadata": {
    "colab": {},
    "colab_type": "code",
    "id": "Ex001kdIl_3y"
   },
   "outputs": [],
   "source": [
    "def create_features(data, label=None):\n",
    "    data['date'] = data.index\n",
    "    data['month'] = data['date'].dt.month\n",
    "    data['year'] = data['date'].dt.year\n",
    "    data['dayofmonth'] = data['date'].dt.day\n",
    "    X = data[['month','year','dayofmonth']]\n",
    "    if label:\n",
    "        y = data[label]\n",
    "        return X, y\n",
    "    return X"
   ]
  },
  {
   "cell_type": "markdown",
   "metadata": {},
   "source": [
    "### Data for training input and prediction output"
   ]
  },
  {
   "cell_type": "code",
   "execution_count": 21,
   "metadata": {
    "colab": {},
    "colab_type": "code",
    "id": "UqWiH-M8l_tr"
   },
   "outputs": [],
   "source": [
    "X=data_confirmed_cases.copy()\n",
    "X= create_features(X)\n",
    "y=data_confirmed_cases\n",
    "y=np.array(y)\n",
    "y_t = y[:int(0.87*(len(y)))]"
   ]
  },
  {
   "cell_type": "markdown",
   "metadata": {
    "_cell_guid": "47f0fdc5-2871-494f-9158-1a88c449a7d6",
    "_uuid": "609d7ed4c45f18359ad51745f03b2a686175b7ad",
    "colab_type": "text",
    "id": "fT9MAv0Dww7f"
   },
   "source": [
    "# Ensemble Technique to combine algorithms (GradientBoostingRegressor + random Forest Regressor) "
   ]
  },
  {
   "cell_type": "code",
   "execution_count": 22,
   "metadata": {
    "_cell_guid": "532dcc6f-33a1-4726-a07a-e4bb2ef0b396",
    "_kg_hide-input": true,
    "_uuid": "40c82b43dd34bb9b7685c76bea0f5ca7e761c1d4",
    "colab": {},
    "colab_type": "code",
    "id": "0lcJ9UZSww7f"
   },
   "outputs": [],
   "source": [
    "RF_model = RandomForestRegressor()\n",
    "GB_model  = GradientBoostingRegressor()"
   ]
  },
  {
   "cell_type": "code",
   "execution_count": 23,
   "metadata": {},
   "outputs": [
    {
     "data": {
      "text/plain": [
       "VotingRegressor(estimators=[('model1', RandomForestRegressor()),\n",
       "                            ('model2', GradientBoostingRegressor())])"
      ]
     },
     "execution_count": 23,
     "metadata": {},
     "output_type": "execute_result"
    }
   ],
   "source": [
    "Ens = VotingRegressor( estimators= [('model1',RF_model),('model2',GB_model)])\n",
    "Ens= Ens.fit(X , y)\n",
    "Ens"
   ]
  },
  {
   "cell_type": "markdown",
   "metadata": {},
   "source": [
    "## Graph of the actual and predicted Confirmed cases with 10 days forecasting"
   ]
  },
  {
   "cell_type": "code",
   "execution_count": 24,
   "metadata": {},
   "outputs": [
    {
     "data": {
      "image/png": "[encoded data removed]",
      "text/plain": [
       "<Figure size 1440x720 with 1 Axes>"
      ]
     },
     "metadata": {
      "needs_background": "light"
     },
     "output_type": "display_data"
    }
   ],
   "source": [
    "plt.figure(figsize=(20, 10))\n",
    "plt.subplot(1,1,1)\n",
    "pred=Ens.predict(X)\n",
    "plt.plot(y_t,color='blue',label='Confirmed cases')\n",
    "plt.plot(pred,color='purple',label='Enemble Predictions',marker= \"s\")\n",
    "plt.title('Predicted Confirmed Cases')\n",
    "plt.xlabel('Days since 1/22/2020')\n",
    "plt.ylabel('NO. of Confirmed cases ')\n",
    "plt.legend(bbox_to_anchor=(1, 1))\n",
    "plt.show()"
   ]
  },
  {
   "cell_type": "markdown",
   "metadata": {
    "id": "Pf58ZqXBLG92"
   },
   "source": [
    "# Evaluation Measures"
   ]
  },
  {
   "cell_type": "markdown",
   "metadata": {
    "id": "qkcalTi0ZGC2"
   },
   "source": [
    "### R2"
   ]
  },
  {
   "cell_type": "code",
   "execution_count": 25,
   "metadata": {
    "colab": {
     "base_uri": "https://localhost:8080/"
    },
    "id": "1XrbLKYnZGC4",
    "outputId": "c0542e93-bd99-4eae-c134-5268a4e2c3fc"
   },
   "outputs": [
    {
     "name": "stdout",
     "output_type": "stream",
     "text": [
      "R2 :  0.9967\n"
     ]
    }
   ],
   "source": [
    "y_pred = Ens.predict(X)\n",
    "R_square=r2_score(y,y_pred)\n",
    "print('R2 : ', round(R_square,5))"
   ]
  },
  {
   "cell_type": "markdown",
   "metadata": {},
   "source": [
    "### Adjusted R2"
   ]
  },
  {
   "cell_type": "code",
   "execution_count": 26,
   "metadata": {},
   "outputs": [
    {
     "name": "stdout",
     "output_type": "stream",
     "text": [
      "Adjusted R2 : 0.99655\n"
     ]
    }
   ],
   "source": [
    "print('Adjusted R2 :', round(1-(1-R_square)*(len(X)-1)/(len(X)-2-1), 5))"
   ]
  },
  {
   "cell_type": "markdown",
   "metadata": {
    "id": "w1BTf8THZGC-"
   },
   "source": [
    "### MSE"
   ]
  },
  {
   "cell_type": "code",
   "execution_count": 27,
   "metadata": {
    "colab": {
     "base_uri": "https://localhost:8080/"
    },
    "id": "UGGMF4-KZGDA",
    "outputId": "d9ed4eb7-a5f9-499f-a185-458f7f001012"
   },
   "outputs": [
    {
     "name": "stdout",
     "output_type": "stream",
     "text": [
      "Mean Squared Error:  9168257.21\n"
     ]
    }
   ],
   "source": [
    "mse=mean_squared_error(y,y_pred)\n",
    "print('Mean Squared Error: ', round(mse,2))"
   ]
  },
  {
   "cell_type": "markdown",
   "metadata": {
    "id": "ecIh2V5aZGDG"
   },
   "source": [
    "### MAE"
   ]
  },
  {
   "cell_type": "code",
   "execution_count": 28,
   "metadata": {
    "colab": {
     "base_uri": "https://localhost:8080/"
    },
    "id": "EPewmcfSZGDJ",
    "outputId": "5153a04e-29c0-44a5-82d3-9e5c083eae89"
   },
   "outputs": [
    {
     "name": "stdout",
     "output_type": "stream",
     "text": [
      "Mean Absolute Error:  2275.79\n"
     ]
    }
   ],
   "source": [
    "mae=mean_absolute_error(y,y_pred)\n",
    "print('Mean Absolute Error: ', round(mae,2))"
   ]
  },
  {
   "cell_type": "markdown",
   "metadata": {},
   "source": [
    "### RMSE"
   ]
  },
  {
   "cell_type": "code",
   "execution_count": 29,
   "metadata": {},
   "outputs": [
    {
     "name": "stdout",
     "output_type": "stream",
     "text": [
      "RMSE:  3027.91\n"
     ]
    }
   ],
   "source": [
    "rmse = math.sqrt(mse)\n",
    "print('RMSE: ', round(rmse,2))"
   ]
  },
  {
   "cell_type": "markdown",
   "metadata": {},
   "source": [
    "# Importing Recovred cases of COVID-19 directly from githubusercontent as updated dataset"
   ]
  },
  {
   "cell_type": "code",
   "execution_count": 70,
   "metadata": {
    "_kg_hide-input": false,
    "_kg_hide-output": true
   },
   "outputs": [],
   "source": [
    "data_recovered=pd.read_csv('https://raw.githubusercontent.com/CSSEGISandData/COVID-19/master/csse_covid_19_data/csse_covid_19_time_series/time_series_covid19_recovered_global.csv')"
   ]
  },
  {
   "cell_type": "markdown",
   "metadata": {},
   "source": [
    "### Selecting the Specific dates "
   ]
  },
  {
   "cell_type": "code",
   "execution_count": 71,
   "metadata": {},
   "outputs": [],
   "source": [
    "data_recovered=data_recovered.iloc[:,0:80]"
   ]
  },
  {
   "cell_type": "markdown",
   "metadata": {},
   "source": [
    "# Exploratory data analysis"
   ]
  },
  {
   "cell_type": "markdown",
   "metadata": {},
   "source": [
    "### Five top records of data"
   ]
  },
  {
   "cell_type": "code",
   "execution_count": 72,
   "metadata": {},
   "outputs": [
    {
     "data": {
      "text/html": [
       "<div>\n",
       "<style scoped>\n",
       "    .dataframe tbody tr th:only-of-type {\n",
       "        vertical-align: middle;\n",
       "    }\n",
       "\n",
       "    .dataframe tbody tr th {\n",
       "        vertical-align: top;\n",
       "    }\n",
       "\n",
       "    .dataframe thead th {\n",
       "        text-align: right;\n",
       "    }\n",
       "</style>\n",
       "<table border=\"1\" class=\"dataframe\">\n",
       "  <thead>\n",
       "    <tr style=\"text-align: right;\">\n",
       "      <th></th>\n",
       "      <th>Province/State</th>\n",
       "      <th>Country/Region</th>\n",
       "      <th>Lat</th>\n",
       "      <th>Long</th>\n",
       "      <th>1/22/20</th>\n",
       "      <th>1/23/20</th>\n",
       "      <th>1/24/20</th>\n",
       "      <th>1/25/20</th>\n",
       "      <th>1/26/20</th>\n",
       "      <th>1/27/20</th>\n",
       "      <th>...</th>\n",
       "      <th>3/28/20</th>\n",
       "      <th>3/29/20</th>\n",
       "      <th>3/30/20</th>\n",
       "      <th>3/31/20</th>\n",
       "      <th>4/1/20</th>\n",
       "      <th>4/2/20</th>\n",
       "      <th>4/3/20</th>\n",
       "      <th>4/4/20</th>\n",
       "      <th>4/5/20</th>\n",
       "      <th>4/6/20</th>\n",
       "    </tr>\n",
       "  </thead>\n",
       "  <tbody>\n",
       "    <tr>\n",
       "      <th>0</th>\n",
       "      <td>NaN</td>\n",
       "      <td>Afghanistan</td>\n",
       "      <td>33.93911</td>\n",
       "      <td>67.709953</td>\n",
       "      <td>0</td>\n",
       "      <td>0</td>\n",
       "      <td>0</td>\n",
       "      <td>0</td>\n",
       "      <td>0</td>\n",
       "      <td>0</td>\n",
       "      <td>...</td>\n",
       "      <td>2</td>\n",
       "      <td>2</td>\n",
       "      <td>2</td>\n",
       "      <td>5</td>\n",
       "      <td>5</td>\n",
       "      <td>10</td>\n",
       "      <td>10</td>\n",
       "      <td>10</td>\n",
       "      <td>15</td>\n",
       "      <td>18</td>\n",
       "    </tr>\n",
       "    <tr>\n",
       "      <th>1</th>\n",
       "      <td>NaN</td>\n",
       "      <td>Albania</td>\n",
       "      <td>41.15330</td>\n",
       "      <td>20.168300</td>\n",
       "      <td>0</td>\n",
       "      <td>0</td>\n",
       "      <td>0</td>\n",
       "      <td>0</td>\n",
       "      <td>0</td>\n",
       "      <td>0</td>\n",
       "      <td>...</td>\n",
       "      <td>31</td>\n",
       "      <td>33</td>\n",
       "      <td>44</td>\n",
       "      <td>52</td>\n",
       "      <td>67</td>\n",
       "      <td>76</td>\n",
       "      <td>89</td>\n",
       "      <td>99</td>\n",
       "      <td>104</td>\n",
       "      <td>116</td>\n",
       "    </tr>\n",
       "    <tr>\n",
       "      <th>2</th>\n",
       "      <td>NaN</td>\n",
       "      <td>Algeria</td>\n",
       "      <td>28.03390</td>\n",
       "      <td>1.659600</td>\n",
       "      <td>0</td>\n",
       "      <td>0</td>\n",
       "      <td>0</td>\n",
       "      <td>0</td>\n",
       "      <td>0</td>\n",
       "      <td>0</td>\n",
       "      <td>...</td>\n",
       "      <td>31</td>\n",
       "      <td>31</td>\n",
       "      <td>37</td>\n",
       "      <td>46</td>\n",
       "      <td>61</td>\n",
       "      <td>61</td>\n",
       "      <td>62</td>\n",
       "      <td>90</td>\n",
       "      <td>90</td>\n",
       "      <td>90</td>\n",
       "    </tr>\n",
       "    <tr>\n",
       "      <th>3</th>\n",
       "      <td>NaN</td>\n",
       "      <td>Andorra</td>\n",
       "      <td>42.50630</td>\n",
       "      <td>1.521800</td>\n",
       "      <td>0</td>\n",
       "      <td>0</td>\n",
       "      <td>0</td>\n",
       "      <td>0</td>\n",
       "      <td>0</td>\n",
       "      <td>0</td>\n",
       "      <td>...</td>\n",
       "      <td>1</td>\n",
       "      <td>1</td>\n",
       "      <td>10</td>\n",
       "      <td>10</td>\n",
       "      <td>10</td>\n",
       "      <td>10</td>\n",
       "      <td>16</td>\n",
       "      <td>21</td>\n",
       "      <td>26</td>\n",
       "      <td>31</td>\n",
       "    </tr>\n",
       "    <tr>\n",
       "      <th>4</th>\n",
       "      <td>NaN</td>\n",
       "      <td>Angola</td>\n",
       "      <td>-11.20270</td>\n",
       "      <td>17.873900</td>\n",
       "      <td>0</td>\n",
       "      <td>0</td>\n",
       "      <td>0</td>\n",
       "      <td>0</td>\n",
       "      <td>0</td>\n",
       "      <td>0</td>\n",
       "      <td>...</td>\n",
       "      <td>0</td>\n",
       "      <td>0</td>\n",
       "      <td>0</td>\n",
       "      <td>1</td>\n",
       "      <td>1</td>\n",
       "      <td>1</td>\n",
       "      <td>1</td>\n",
       "      <td>2</td>\n",
       "      <td>2</td>\n",
       "      <td>2</td>\n",
       "    </tr>\n",
       "  </tbody>\n",
       "</table>\n",
       "<p>5 rows × 80 columns</p>\n",
       "</div>"
      ],
      "text/plain": [
       "  Province/State Country/Region       Lat       Long  1/22/20  1/23/20  \\\n",
       "0            NaN    Afghanistan  33.93911  67.709953        0        0   \n",
       "1            NaN        Albania  41.15330  20.168300        0        0   \n",
       "2            NaN        Algeria  28.03390   1.659600        0        0   \n",
       "3            NaN        Andorra  42.50630   1.521800        0        0   \n",
       "4            NaN         Angola -11.20270  17.873900        0        0   \n",
       "\n",
       "   1/24/20  1/25/20  1/26/20  1/27/20  ...  3/28/20  3/29/20  3/30/20  \\\n",
       "0        0        0        0        0  ...        2        2        2   \n",
       "1        0        0        0        0  ...       31       33       44   \n",
       "2        0        0        0        0  ...       31       31       37   \n",
       "3        0        0        0        0  ...        1        1       10   \n",
       "4        0        0        0        0  ...        0        0        0   \n",
       "\n",
       "   3/31/20  4/1/20  4/2/20  4/3/20  4/4/20  4/5/20  4/6/20  \n",
       "0        5       5      10      10      10      15      18  \n",
       "1       52      67      76      89      99     104     116  \n",
       "2       46      61      61      62      90      90      90  \n",
       "3       10      10      10      16      21      26      31  \n",
       "4        1       1       1       1       2       2       2  \n",
       "\n",
       "[5 rows x 80 columns]"
      ]
     },
     "execution_count": 72,
     "metadata": {},
     "output_type": "execute_result"
    }
   ],
   "source": [
    "data_recovered.head()"
   ]
  },
  {
   "cell_type": "markdown",
   "metadata": {},
   "source": [
    "### Five last records of data"
   ]
  },
  {
   "cell_type": "code",
   "execution_count": 73,
   "metadata": {},
   "outputs": [
    {
     "data": {
      "text/html": [
       "<div>\n",
       "<style scoped>\n",
       "    .dataframe tbody tr th:only-of-type {\n",
       "        vertical-align: middle;\n",
       "    }\n",
       "\n",
       "    .dataframe tbody tr th {\n",
       "        vertical-align: top;\n",
       "    }\n",
       "\n",
       "    .dataframe thead th {\n",
       "        text-align: right;\n",
       "    }\n",
       "</style>\n",
       "<table border=\"1\" class=\"dataframe\">\n",
       "  <thead>\n",
       "    <tr style=\"text-align: right;\">\n",
       "      <th></th>\n",
       "      <th>Province/State</th>\n",
       "      <th>Country/Region</th>\n",
       "      <th>Lat</th>\n",
       "      <th>Long</th>\n",
       "      <th>1/22/20</th>\n",
       "      <th>1/23/20</th>\n",
       "      <th>1/24/20</th>\n",
       "      <th>1/25/20</th>\n",
       "      <th>1/26/20</th>\n",
       "      <th>1/27/20</th>\n",
       "      <th>...</th>\n",
       "      <th>3/28/20</th>\n",
       "      <th>3/29/20</th>\n",
       "      <th>3/30/20</th>\n",
       "      <th>3/31/20</th>\n",
       "      <th>4/1/20</th>\n",
       "      <th>4/2/20</th>\n",
       "      <th>4/3/20</th>\n",
       "      <th>4/4/20</th>\n",
       "      <th>4/5/20</th>\n",
       "      <th>4/6/20</th>\n",
       "    </tr>\n",
       "  </thead>\n",
       "  <tbody>\n",
       "    <tr>\n",
       "      <th>259</th>\n",
       "      <td>NaN</td>\n",
       "      <td>Vietnam</td>\n",
       "      <td>14.058324</td>\n",
       "      <td>108.277199</td>\n",
       "      <td>0</td>\n",
       "      <td>0</td>\n",
       "      <td>0</td>\n",
       "      <td>0</td>\n",
       "      <td>0</td>\n",
       "      <td>0</td>\n",
       "      <td>...</td>\n",
       "      <td>21</td>\n",
       "      <td>25</td>\n",
       "      <td>55</td>\n",
       "      <td>58</td>\n",
       "      <td>63</td>\n",
       "      <td>75</td>\n",
       "      <td>85</td>\n",
       "      <td>90</td>\n",
       "      <td>90</td>\n",
       "      <td>95</td>\n",
       "    </tr>\n",
       "    <tr>\n",
       "      <th>260</th>\n",
       "      <td>NaN</td>\n",
       "      <td>West Bank and Gaza</td>\n",
       "      <td>31.952200</td>\n",
       "      <td>35.233200</td>\n",
       "      <td>0</td>\n",
       "      <td>0</td>\n",
       "      <td>0</td>\n",
       "      <td>0</td>\n",
       "      <td>0</td>\n",
       "      <td>0</td>\n",
       "      <td>...</td>\n",
       "      <td>18</td>\n",
       "      <td>18</td>\n",
       "      <td>18</td>\n",
       "      <td>18</td>\n",
       "      <td>18</td>\n",
       "      <td>18</td>\n",
       "      <td>21</td>\n",
       "      <td>21</td>\n",
       "      <td>25</td>\n",
       "      <td>24</td>\n",
       "    </tr>\n",
       "    <tr>\n",
       "      <th>261</th>\n",
       "      <td>NaN</td>\n",
       "      <td>Yemen</td>\n",
       "      <td>15.552727</td>\n",
       "      <td>48.516388</td>\n",
       "      <td>0</td>\n",
       "      <td>0</td>\n",
       "      <td>0</td>\n",
       "      <td>0</td>\n",
       "      <td>0</td>\n",
       "      <td>0</td>\n",
       "      <td>...</td>\n",
       "      <td>0</td>\n",
       "      <td>0</td>\n",
       "      <td>0</td>\n",
       "      <td>0</td>\n",
       "      <td>0</td>\n",
       "      <td>0</td>\n",
       "      <td>0</td>\n",
       "      <td>0</td>\n",
       "      <td>0</td>\n",
       "      <td>0</td>\n",
       "    </tr>\n",
       "    <tr>\n",
       "      <th>262</th>\n",
       "      <td>NaN</td>\n",
       "      <td>Zambia</td>\n",
       "      <td>-13.133897</td>\n",
       "      <td>27.849332</td>\n",
       "      <td>0</td>\n",
       "      <td>0</td>\n",
       "      <td>0</td>\n",
       "      <td>0</td>\n",
       "      <td>0</td>\n",
       "      <td>0</td>\n",
       "      <td>...</td>\n",
       "      <td>0</td>\n",
       "      <td>0</td>\n",
       "      <td>0</td>\n",
       "      <td>0</td>\n",
       "      <td>0</td>\n",
       "      <td>0</td>\n",
       "      <td>2</td>\n",
       "      <td>2</td>\n",
       "      <td>3</td>\n",
       "      <td>5</td>\n",
       "    </tr>\n",
       "    <tr>\n",
       "      <th>263</th>\n",
       "      <td>NaN</td>\n",
       "      <td>Zimbabwe</td>\n",
       "      <td>-19.015438</td>\n",
       "      <td>29.154857</td>\n",
       "      <td>0</td>\n",
       "      <td>0</td>\n",
       "      <td>0</td>\n",
       "      <td>0</td>\n",
       "      <td>0</td>\n",
       "      <td>0</td>\n",
       "      <td>...</td>\n",
       "      <td>0</td>\n",
       "      <td>0</td>\n",
       "      <td>0</td>\n",
       "      <td>0</td>\n",
       "      <td>0</td>\n",
       "      <td>0</td>\n",
       "      <td>0</td>\n",
       "      <td>0</td>\n",
       "      <td>0</td>\n",
       "      <td>0</td>\n",
       "    </tr>\n",
       "  </tbody>\n",
       "</table>\n",
       "<p>5 rows × 80 columns</p>\n",
       "</div>"
      ],
      "text/plain": [
       "    Province/State      Country/Region        Lat        Long  1/22/20  \\\n",
       "259            NaN             Vietnam  14.058324  108.277199        0   \n",
       "260            NaN  West Bank and Gaza  31.952200   35.233200        0   \n",
       "261            NaN               Yemen  15.552727   48.516388        0   \n",
       "262            NaN              Zambia -13.133897   27.849332        0   \n",
       "263            NaN            Zimbabwe -19.015438   29.154857        0   \n",
       "\n",
       "     1/23/20  1/24/20  1/25/20  1/26/20  1/27/20  ...  3/28/20  3/29/20  \\\n",
       "259        0        0        0        0        0  ...       21       25   \n",
       "260        0        0        0        0        0  ...       18       18   \n",
       "261        0        0        0        0        0  ...        0        0   \n",
       "262        0        0        0        0        0  ...        0        0   \n",
       "263        0        0        0        0        0  ...        0        0   \n",
       "\n",
       "     3/30/20  3/31/20  4/1/20  4/2/20  4/3/20  4/4/20  4/5/20  4/6/20  \n",
       "259       55       58      63      75      85      90      90      95  \n",
       "260       18       18      18      18      21      21      25      24  \n",
       "261        0        0       0       0       0       0       0       0  \n",
       "262        0        0       0       0       2       2       3       5  \n",
       "263        0        0       0       0       0       0       0       0  \n",
       "\n",
       "[5 rows x 80 columns]"
      ]
     },
     "execution_count": 73,
     "metadata": {},
     "output_type": "execute_result"
    }
   ],
   "source": [
    "data_recovered.tail()"
   ]
  },
  {
   "cell_type": "markdown",
   "metadata": {},
   "source": [
    "### Coloumns/features in data"
   ]
  },
  {
   "cell_type": "code",
   "execution_count": 74,
   "metadata": {},
   "outputs": [
    {
     "data": {
      "text/plain": [
       "Index(['Province/State', 'Country/Region', 'Lat', 'Long', '1/22/20', '1/23/20',\n",
       "       '1/24/20', '1/25/20', '1/26/20', '1/27/20', '1/28/20', '1/29/20',\n",
       "       '1/30/20', '1/31/20', '2/1/20', '2/2/20', '2/3/20', '2/4/20', '2/5/20',\n",
       "       '2/6/20', '2/7/20', '2/8/20', '2/9/20', '2/10/20', '2/11/20', '2/12/20',\n",
       "       '2/13/20', '2/14/20', '2/15/20', '2/16/20', '2/17/20', '2/18/20',\n",
       "       '2/19/20', '2/20/20', '2/21/20', '2/22/20', '2/23/20', '2/24/20',\n",
       "       '2/25/20', '2/26/20', '2/27/20', '2/28/20', '2/29/20', '3/1/20',\n",
       "       '3/2/20', '3/3/20', '3/4/20', '3/5/20', '3/6/20', '3/7/20', '3/8/20',\n",
       "       '3/9/20', '3/10/20', '3/11/20', '3/12/20', '3/13/20', '3/14/20',\n",
       "       '3/15/20', '3/16/20', '3/17/20', '3/18/20', '3/19/20', '3/20/20',\n",
       "       '3/21/20', '3/22/20', '3/23/20', '3/24/20', '3/25/20', '3/26/20',\n",
       "       '3/27/20', '3/28/20', '3/29/20', '3/30/20', '3/31/20', '4/1/20',\n",
       "       '4/2/20', '4/3/20', '4/4/20', '4/5/20', '4/6/20'],\n",
       "      dtype='object')"
      ]
     },
     "execution_count": 74,
     "metadata": {},
     "output_type": "execute_result"
    }
   ],
   "source": [
    "data_recovered.columns"
   ]
  },
  {
   "cell_type": "markdown",
   "metadata": {},
   "source": [
    "### Data information"
   ]
  },
  {
   "cell_type": "code",
   "execution_count": 75,
   "metadata": {
    "scrolled": false
   },
   "outputs": [
    {
     "name": "stdout",
     "output_type": "stream",
     "text": [
      "<class 'pandas.core.frame.DataFrame'>\n",
      "RangeIndex: 264 entries, 0 to 263\n",
      "Data columns (total 80 columns):\n",
      " #   Column          Non-Null Count  Dtype  \n",
      "---  ------          --------------  -----  \n",
      " 0   Province/State  71 non-null     object \n",
      " 1   Country/Region  264 non-null    object \n",
      " 2   Lat             263 non-null    float64\n",
      " 3   Long            263 non-null    float64\n",
      " 4   1/22/20         264 non-null    int64  \n",
      " 5   1/23/20         264 non-null    int64  \n",
      " 6   1/24/20         264 non-null    int64  \n",
      " 7   1/25/20         264 non-null    int64  \n",
      " 8   1/26/20         264 non-null    int64  \n",
      " 9   1/27/20         264 non-null    int64  \n",
      " 10  1/28/20         264 non-null    int64  \n",
      " 11  1/29/20         264 non-null    int64  \n",
      " 12  1/30/20         264 non-null    int64  \n",
      " 13  1/31/20         264 non-null    int64  \n",
      " 14  2/1/20          264 non-null    int64  \n",
      " 15  2/2/20          264 non-null    int64  \n",
      " 16  2/3/20          264 non-null    int64  \n",
      " 17  2/4/20          264 non-null    int64  \n",
      " 18  2/5/20          264 non-null    int64  \n",
      " 19  2/6/20          264 non-null    int64  \n",
      " 20  2/7/20          264 non-null    int64  \n",
      " 21  2/8/20          264 non-null    int64  \n",
      " 22  2/9/20          264 non-null    int64  \n",
      " 23  2/10/20         264 non-null    int64  \n",
      " 24  2/11/20         264 non-null    int64  \n",
      " 25  2/12/20         264 non-null    int64  \n",
      " 26  2/13/20         264 non-null    int64  \n",
      " 27  2/14/20         264 non-null    int64  \n",
      " 28  2/15/20         264 non-null    int64  \n",
      " 29  2/16/20         264 non-null    int64  \n",
      " 30  2/17/20         264 non-null    int64  \n",
      " 31  2/18/20         264 non-null    int64  \n",
      " 32  2/19/20         264 non-null    int64  \n",
      " 33  2/20/20         264 non-null    int64  \n",
      " 34  2/21/20         264 non-null    int64  \n",
      " 35  2/22/20         264 non-null    int64  \n",
      " 36  2/23/20         264 non-null    int64  \n",
      " 37  2/24/20         264 non-null    int64  \n",
      " 38  2/25/20         264 non-null    int64  \n",
      " 39  2/26/20         264 non-null    int64  \n",
      " 40  2/27/20         264 non-null    int64  \n",
      " 41  2/28/20         264 non-null    int64  \n",
      " 42  2/29/20         264 non-null    int64  \n",
      " 43  3/1/20          264 non-null    int64  \n",
      " 44  3/2/20          264 non-null    int64  \n",
      " 45  3/3/20          264 non-null    int64  \n",
      " 46  3/4/20          264 non-null    int64  \n",
      " 47  3/5/20          264 non-null    int64  \n",
      " 48  3/6/20          264 non-null    int64  \n",
      " 49  3/7/20          264 non-null    int64  \n",
      " 50  3/8/20          264 non-null    int64  \n",
      " 51  3/9/20          264 non-null    int64  \n",
      " 52  3/10/20         264 non-null    int64  \n",
      " 53  3/11/20         264 non-null    int64  \n",
      " 54  3/12/20         264 non-null    int64  \n",
      " 55  3/13/20         264 non-null    int64  \n",
      " 56  3/14/20         264 non-null    int64  \n",
      " 57  3/15/20         264 non-null    int64  \n",
      " 58  3/16/20         264 non-null    int64  \n",
      " 59  3/17/20         264 non-null    int64  \n",
      " 60  3/18/20         264 non-null    int64  \n",
      " 61  3/19/20         264 non-null    int64  \n",
      " 62  3/20/20         264 non-null    int64  \n",
      " 63  3/21/20         264 non-null    int64  \n",
      " 64  3/22/20         264 non-null    int64  \n",
      " 65  3/23/20         264 non-null    int64  \n",
      " 66  3/24/20         264 non-null    int64  \n",
      " 67  3/25/20         264 non-null    int64  \n",
      " 68  3/26/20         264 non-null    int64  \n",
      " 69  3/27/20         264 non-null    int64  \n",
      " 70  3/28/20         264 non-null    int64  \n",
      " 71  3/29/20         264 non-null    int64  \n",
      " 72  3/30/20         264 non-null    int64  \n",
      " 73  3/31/20         264 non-null    int64  \n",
      " 74  4/1/20          264 non-null    int64  \n",
      " 75  4/2/20          264 non-null    int64  \n",
      " 76  4/3/20          264 non-null    int64  \n",
      " 77  4/4/20          264 non-null    int64  \n",
      " 78  4/5/20          264 non-null    int64  \n",
      " 79  4/6/20          264 non-null    int64  \n",
      "dtypes: float64(2), int64(76), object(2)\n",
      "memory usage: 165.1+ KB\n"
     ]
    }
   ],
   "source": [
    "data_recovered.info()"
   ]
  },
  {
   "cell_type": "markdown",
   "metadata": {},
   "source": [
    "### Data types of all coloumns"
   ]
  },
  {
   "cell_type": "code",
   "execution_count": 76,
   "metadata": {},
   "outputs": [
    {
     "data": {
      "text/plain": [
       "Province/State     object\n",
       "Country/Region     object\n",
       "Lat               float64\n",
       "Long              float64\n",
       "1/22/20             int64\n",
       "                   ...   \n",
       "4/2/20              int64\n",
       "4/3/20              int64\n",
       "4/4/20              int64\n",
       "4/5/20              int64\n",
       "4/6/20              int64\n",
       "Length: 80, dtype: object"
      ]
     },
     "execution_count": 76,
     "metadata": {},
     "output_type": "execute_result"
    }
   ],
   "source": [
    "data_recovered.dtypes"
   ]
  },
  {
   "cell_type": "markdown",
   "metadata": {},
   "source": [
    "### Checking Null Values and Province/State has Nan values, we will fix next"
   ]
  },
  {
   "cell_type": "code",
   "execution_count": 77,
   "metadata": {
    "scrolled": true
   },
   "outputs": [
    {
     "data": {
      "text/html": [
       "<div>\n",
       "<style scoped>\n",
       "    .dataframe tbody tr th:only-of-type {\n",
       "        vertical-align: middle;\n",
       "    }\n",
       "\n",
       "    .dataframe tbody tr th {\n",
       "        vertical-align: top;\n",
       "    }\n",
       "\n",
       "    .dataframe thead th {\n",
       "        text-align: right;\n",
       "    }\n",
       "</style>\n",
       "<table border=\"1\" class=\"dataframe\">\n",
       "  <thead>\n",
       "    <tr style=\"text-align: right;\">\n",
       "      <th></th>\n",
       "      <th>Province/State</th>\n",
       "      <th>Country/Region</th>\n",
       "      <th>Lat</th>\n",
       "      <th>Long</th>\n",
       "      <th>1/22/20</th>\n",
       "      <th>1/23/20</th>\n",
       "      <th>1/24/20</th>\n",
       "      <th>1/25/20</th>\n",
       "      <th>1/26/20</th>\n",
       "      <th>1/27/20</th>\n",
       "      <th>...</th>\n",
       "      <th>3/28/20</th>\n",
       "      <th>3/29/20</th>\n",
       "      <th>3/30/20</th>\n",
       "      <th>3/31/20</th>\n",
       "      <th>4/1/20</th>\n",
       "      <th>4/2/20</th>\n",
       "      <th>4/3/20</th>\n",
       "      <th>4/4/20</th>\n",
       "      <th>4/5/20</th>\n",
       "      <th>4/6/20</th>\n",
       "    </tr>\n",
       "  </thead>\n",
       "  <tbody>\n",
       "    <tr>\n",
       "      <th>0</th>\n",
       "      <td>NaN</td>\n",
       "      <td>Afghanistan</td>\n",
       "      <td>33.93911</td>\n",
       "      <td>67.709953</td>\n",
       "      <td>0</td>\n",
       "      <td>0</td>\n",
       "      <td>0</td>\n",
       "      <td>0</td>\n",
       "      <td>0</td>\n",
       "      <td>0</td>\n",
       "      <td>...</td>\n",
       "      <td>2</td>\n",
       "      <td>2</td>\n",
       "      <td>2</td>\n",
       "      <td>5</td>\n",
       "      <td>5</td>\n",
       "      <td>10</td>\n",
       "      <td>10</td>\n",
       "      <td>10</td>\n",
       "      <td>15</td>\n",
       "      <td>18</td>\n",
       "    </tr>\n",
       "    <tr>\n",
       "      <th>1</th>\n",
       "      <td>NaN</td>\n",
       "      <td>Albania</td>\n",
       "      <td>41.15330</td>\n",
       "      <td>20.168300</td>\n",
       "      <td>0</td>\n",
       "      <td>0</td>\n",
       "      <td>0</td>\n",
       "      <td>0</td>\n",
       "      <td>0</td>\n",
       "      <td>0</td>\n",
       "      <td>...</td>\n",
       "      <td>31</td>\n",
       "      <td>33</td>\n",
       "      <td>44</td>\n",
       "      <td>52</td>\n",
       "      <td>67</td>\n",
       "      <td>76</td>\n",
       "      <td>89</td>\n",
       "      <td>99</td>\n",
       "      <td>104</td>\n",
       "      <td>116</td>\n",
       "    </tr>\n",
       "    <tr>\n",
       "      <th>2</th>\n",
       "      <td>NaN</td>\n",
       "      <td>Algeria</td>\n",
       "      <td>28.03390</td>\n",
       "      <td>1.659600</td>\n",
       "      <td>0</td>\n",
       "      <td>0</td>\n",
       "      <td>0</td>\n",
       "      <td>0</td>\n",
       "      <td>0</td>\n",
       "      <td>0</td>\n",
       "      <td>...</td>\n",
       "      <td>31</td>\n",
       "      <td>31</td>\n",
       "      <td>37</td>\n",
       "      <td>46</td>\n",
       "      <td>61</td>\n",
       "      <td>61</td>\n",
       "      <td>62</td>\n",
       "      <td>90</td>\n",
       "      <td>90</td>\n",
       "      <td>90</td>\n",
       "    </tr>\n",
       "    <tr>\n",
       "      <th>3</th>\n",
       "      <td>NaN</td>\n",
       "      <td>Andorra</td>\n",
       "      <td>42.50630</td>\n",
       "      <td>1.521800</td>\n",
       "      <td>0</td>\n",
       "      <td>0</td>\n",
       "      <td>0</td>\n",
       "      <td>0</td>\n",
       "      <td>0</td>\n",
       "      <td>0</td>\n",
       "      <td>...</td>\n",
       "      <td>1</td>\n",
       "      <td>1</td>\n",
       "      <td>10</td>\n",
       "      <td>10</td>\n",
       "      <td>10</td>\n",
       "      <td>10</td>\n",
       "      <td>16</td>\n",
       "      <td>21</td>\n",
       "      <td>26</td>\n",
       "      <td>31</td>\n",
       "    </tr>\n",
       "    <tr>\n",
       "      <th>4</th>\n",
       "      <td>NaN</td>\n",
       "      <td>Angola</td>\n",
       "      <td>-11.20270</td>\n",
       "      <td>17.873900</td>\n",
       "      <td>0</td>\n",
       "      <td>0</td>\n",
       "      <td>0</td>\n",
       "      <td>0</td>\n",
       "      <td>0</td>\n",
       "      <td>0</td>\n",
       "      <td>...</td>\n",
       "      <td>0</td>\n",
       "      <td>0</td>\n",
       "      <td>0</td>\n",
       "      <td>1</td>\n",
       "      <td>1</td>\n",
       "      <td>1</td>\n",
       "      <td>1</td>\n",
       "      <td>2</td>\n",
       "      <td>2</td>\n",
       "      <td>2</td>\n",
       "    </tr>\n",
       "  </tbody>\n",
       "</table>\n",
       "<p>5 rows × 80 columns</p>\n",
       "</div>"
      ],
      "text/plain": [
       "  Province/State Country/Region       Lat       Long  1/22/20  1/23/20  \\\n",
       "0            NaN    Afghanistan  33.93911  67.709953        0        0   \n",
       "1            NaN        Albania  41.15330  20.168300        0        0   \n",
       "2            NaN        Algeria  28.03390   1.659600        0        0   \n",
       "3            NaN        Andorra  42.50630   1.521800        0        0   \n",
       "4            NaN         Angola -11.20270  17.873900        0        0   \n",
       "\n",
       "   1/24/20  1/25/20  1/26/20  1/27/20  ...  3/28/20  3/29/20  3/30/20  \\\n",
       "0        0        0        0        0  ...        2        2        2   \n",
       "1        0        0        0        0  ...       31       33       44   \n",
       "2        0        0        0        0  ...       31       31       37   \n",
       "3        0        0        0        0  ...        1        1       10   \n",
       "4        0        0        0        0  ...        0        0        0   \n",
       "\n",
       "   3/31/20  4/1/20  4/2/20  4/3/20  4/4/20  4/5/20  4/6/20  \n",
       "0        5       5      10      10      10      15      18  \n",
       "1       52      67      76      89      99     104     116  \n",
       "2       46      61      61      62      90      90      90  \n",
       "3       10      10      10      16      21      26      31  \n",
       "4        1       1       1       1       2       2       2  \n",
       "\n",
       "[5 rows x 80 columns]"
      ]
     },
     "execution_count": 77,
     "metadata": {},
     "output_type": "execute_result"
    }
   ],
   "source": [
    "data_recovered[data_recovered.isnull().any(axis=1)].head()"
   ]
  },
  {
   "cell_type": "markdown",
   "metadata": {},
   "source": [
    "### Count of Null values,  this count is 185 and all is from Province/State"
   ]
  },
  {
   "cell_type": "code",
   "execution_count": 78,
   "metadata": {
    "scrolled": true
   },
   "outputs": [
    {
     "data": {
      "text/plain": [
       "194"
      ]
     },
     "execution_count": 78,
     "metadata": {},
     "output_type": "execute_result"
    }
   ],
   "source": [
    "np.sum(data_recovered.isnull().any(axis=1))"
   ]
  },
  {
   "cell_type": "markdown",
   "metadata": {},
   "source": [
    "### Data Description, here we can see the values of columns as minimum value, maximum value, counts etc"
   ]
  },
  {
   "cell_type": "code",
   "execution_count": 79,
   "metadata": {},
   "outputs": [
    {
     "data": {
      "text/html": [
       "<div>\n",
       "<style scoped>\n",
       "    .dataframe tbody tr th:only-of-type {\n",
       "        vertical-align: middle;\n",
       "    }\n",
       "\n",
       "    .dataframe tbody tr th {\n",
       "        vertical-align: top;\n",
       "    }\n",
       "\n",
       "    .dataframe thead th {\n",
       "        text-align: right;\n",
       "    }\n",
       "</style>\n",
       "<table border=\"1\" class=\"dataframe\">\n",
       "  <thead>\n",
       "    <tr style=\"text-align: right;\">\n",
       "      <th></th>\n",
       "      <th>Lat</th>\n",
       "      <th>Long</th>\n",
       "      <th>1/22/20</th>\n",
       "      <th>1/23/20</th>\n",
       "      <th>1/24/20</th>\n",
       "      <th>1/25/20</th>\n",
       "      <th>1/26/20</th>\n",
       "      <th>1/27/20</th>\n",
       "      <th>1/28/20</th>\n",
       "      <th>1/29/20</th>\n",
       "      <th>...</th>\n",
       "      <th>3/28/20</th>\n",
       "      <th>3/29/20</th>\n",
       "      <th>3/30/20</th>\n",
       "      <th>3/31/20</th>\n",
       "      <th>4/1/20</th>\n",
       "      <th>4/2/20</th>\n",
       "      <th>4/3/20</th>\n",
       "      <th>4/4/20</th>\n",
       "      <th>4/5/20</th>\n",
       "      <th>4/6/20</th>\n",
       "    </tr>\n",
       "  </thead>\n",
       "  <tbody>\n",
       "    <tr>\n",
       "      <th>count</th>\n",
       "      <td>263.000000</td>\n",
       "      <td>263.000000</td>\n",
       "      <td>264.000000</td>\n",
       "      <td>264.000000</td>\n",
       "      <td>264.000000</td>\n",
       "      <td>264.000000</td>\n",
       "      <td>264.000000</td>\n",
       "      <td>264.000000</td>\n",
       "      <td>264.000000</td>\n",
       "      <td>264.000000</td>\n",
       "      <td>...</td>\n",
       "      <td>264.000000</td>\n",
       "      <td>264.000000</td>\n",
       "      <td>264.000000</td>\n",
       "      <td>264.000000</td>\n",
       "      <td>264.000000</td>\n",
       "      <td>264.000000</td>\n",
       "      <td>264.000000</td>\n",
       "      <td>264.000000</td>\n",
       "      <td>264.000000</td>\n",
       "      <td>264.000000</td>\n",
       "    </tr>\n",
       "    <tr>\n",
       "      <th>mean</th>\n",
       "      <td>18.882762</td>\n",
       "      <td>27.856510</td>\n",
       "      <td>0.113636</td>\n",
       "      <td>0.121212</td>\n",
       "      <td>0.147727</td>\n",
       "      <td>0.159091</td>\n",
       "      <td>0.212121</td>\n",
       "      <td>0.246212</td>\n",
       "      <td>0.409091</td>\n",
       "      <td>0.481061</td>\n",
       "      <td>...</td>\n",
       "      <td>528.109848</td>\n",
       "      <td>563.928030</td>\n",
       "      <td>622.018939</td>\n",
       "      <td>673.496212</td>\n",
       "      <td>731.344697</td>\n",
       "      <td>796.280303</td>\n",
       "      <td>854.696970</td>\n",
       "      <td>932.015152</td>\n",
       "      <td>984.424242</td>\n",
       "      <td>1047.715909</td>\n",
       "    </tr>\n",
       "    <tr>\n",
       "      <th>std</th>\n",
       "      <td>24.648543</td>\n",
       "      <td>72.997754</td>\n",
       "      <td>1.727205</td>\n",
       "      <td>1.731086</td>\n",
       "      <td>1.921698</td>\n",
       "      <td>1.985995</td>\n",
       "      <td>2.616212</td>\n",
       "      <td>2.812923</td>\n",
       "      <td>4.957545</td>\n",
       "      <td>5.452841</td>\n",
       "      <td>...</td>\n",
       "      <td>4074.822807</td>\n",
       "      <td>4162.164111</td>\n",
       "      <td>4300.468435</td>\n",
       "      <td>4425.465950</td>\n",
       "      <td>4576.369742</td>\n",
       "      <td>4778.860741</td>\n",
       "      <td>4965.516336</td>\n",
       "      <td>5199.751730</td>\n",
       "      <td>5401.725016</td>\n",
       "      <td>5592.868219</td>\n",
       "    </tr>\n",
       "    <tr>\n",
       "      <th>min</th>\n",
       "      <td>-51.796300</td>\n",
       "      <td>-178.116500</td>\n",
       "      <td>0.000000</td>\n",
       "      <td>0.000000</td>\n",
       "      <td>0.000000</td>\n",
       "      <td>0.000000</td>\n",
       "      <td>0.000000</td>\n",
       "      <td>0.000000</td>\n",
       "      <td>0.000000</td>\n",
       "      <td>0.000000</td>\n",
       "      <td>...</td>\n",
       "      <td>0.000000</td>\n",
       "      <td>0.000000</td>\n",
       "      <td>0.000000</td>\n",
       "      <td>0.000000</td>\n",
       "      <td>0.000000</td>\n",
       "      <td>0.000000</td>\n",
       "      <td>0.000000</td>\n",
       "      <td>0.000000</td>\n",
       "      <td>0.000000</td>\n",
       "      <td>0.000000</td>\n",
       "    </tr>\n",
       "    <tr>\n",
       "      <th>25%</th>\n",
       "      <td>4.553100</td>\n",
       "      <td>-9.563049</td>\n",
       "      <td>0.000000</td>\n",
       "      <td>0.000000</td>\n",
       "      <td>0.000000</td>\n",
       "      <td>0.000000</td>\n",
       "      <td>0.000000</td>\n",
       "      <td>0.000000</td>\n",
       "      <td>0.000000</td>\n",
       "      <td>0.000000</td>\n",
       "      <td>...</td>\n",
       "      <td>0.000000</td>\n",
       "      <td>0.000000</td>\n",
       "      <td>0.000000</td>\n",
       "      <td>0.000000</td>\n",
       "      <td>0.000000</td>\n",
       "      <td>0.000000</td>\n",
       "      <td>0.000000</td>\n",
       "      <td>1.000000</td>\n",
       "      <td>1.000000</td>\n",
       "      <td>1.000000</td>\n",
       "    </tr>\n",
       "    <tr>\n",
       "      <th>50%</th>\n",
       "      <td>19.313300</td>\n",
       "      <td>24.603200</td>\n",
       "      <td>0.000000</td>\n",
       "      <td>0.000000</td>\n",
       "      <td>0.000000</td>\n",
       "      <td>0.000000</td>\n",
       "      <td>0.000000</td>\n",
       "      <td>0.000000</td>\n",
       "      <td>0.000000</td>\n",
       "      <td>0.000000</td>\n",
       "      <td>...</td>\n",
       "      <td>3.000000</td>\n",
       "      <td>3.000000</td>\n",
       "      <td>4.500000</td>\n",
       "      <td>7.000000</td>\n",
       "      <td>10.000000</td>\n",
       "      <td>12.500000</td>\n",
       "      <td>16.000000</td>\n",
       "      <td>17.000000</td>\n",
       "      <td>21.000000</td>\n",
       "      <td>27.500000</td>\n",
       "    </tr>\n",
       "    <tr>\n",
       "      <th>75%</th>\n",
       "      <td>38.912350</td>\n",
       "      <td>93.194800</td>\n",
       "      <td>0.000000</td>\n",
       "      <td>0.000000</td>\n",
       "      <td>0.000000</td>\n",
       "      <td>0.000000</td>\n",
       "      <td>0.000000</td>\n",
       "      <td>0.000000</td>\n",
       "      <td>0.000000</td>\n",
       "      <td>0.000000</td>\n",
       "      <td>...</td>\n",
       "      <td>45.000000</td>\n",
       "      <td>53.000000</td>\n",
       "      <td>63.750000</td>\n",
       "      <td>73.250000</td>\n",
       "      <td>75.000000</td>\n",
       "      <td>82.750000</td>\n",
       "      <td>97.000000</td>\n",
       "      <td>120.500000</td>\n",
       "      <td>126.250000</td>\n",
       "      <td>136.250000</td>\n",
       "    </tr>\n",
       "    <tr>\n",
       "      <th>max</th>\n",
       "      <td>71.706900</td>\n",
       "      <td>178.065000</td>\n",
       "      <td>28.000000</td>\n",
       "      <td>28.000000</td>\n",
       "      <td>31.000000</td>\n",
       "      <td>32.000000</td>\n",
       "      <td>42.000000</td>\n",
       "      <td>45.000000</td>\n",
       "      <td>80.000000</td>\n",
       "      <td>88.000000</td>\n",
       "      <td>...</td>\n",
       "      <td>62098.000000</td>\n",
       "      <td>62570.000000</td>\n",
       "      <td>62889.000000</td>\n",
       "      <td>63153.000000</td>\n",
       "      <td>63326.000000</td>\n",
       "      <td>63471.000000</td>\n",
       "      <td>63612.000000</td>\n",
       "      <td>63762.000000</td>\n",
       "      <td>63945.000000</td>\n",
       "      <td>64014.000000</td>\n",
       "    </tr>\n",
       "  </tbody>\n",
       "</table>\n",
       "<p>8 rows × 78 columns</p>\n",
       "</div>"
      ],
      "text/plain": [
       "              Lat        Long     1/22/20     1/23/20     1/24/20     1/25/20  \\\n",
       "count  263.000000  263.000000  264.000000  264.000000  264.000000  264.000000   \n",
       "mean    18.882762   27.856510    0.113636    0.121212    0.147727    0.159091   \n",
       "std     24.648543   72.997754    1.727205    1.731086    1.921698    1.985995   \n",
       "min    -51.796300 -178.116500    0.000000    0.000000    0.000000    0.000000   \n",
       "25%      4.553100   -9.563049    0.000000    0.000000    0.000000    0.000000   \n",
       "50%     19.313300   24.603200    0.000000    0.000000    0.000000    0.000000   \n",
       "75%     38.912350   93.194800    0.000000    0.000000    0.000000    0.000000   \n",
       "max     71.706900  178.065000   28.000000   28.000000   31.000000   32.000000   \n",
       "\n",
       "          1/26/20     1/27/20     1/28/20     1/29/20  ...       3/28/20  \\\n",
       "count  264.000000  264.000000  264.000000  264.000000  ...    264.000000   \n",
       "mean     0.212121    0.246212    0.409091    0.481061  ...    528.109848   \n",
       "std      2.616212    2.812923    4.957545    5.452841  ...   4074.822807   \n",
       "min      0.000000    0.000000    0.000000    0.000000  ...      0.000000   \n",
       "25%      0.000000    0.000000    0.000000    0.000000  ...      0.000000   \n",
       "50%      0.000000    0.000000    0.000000    0.000000  ...      3.000000   \n",
       "75%      0.000000    0.000000    0.000000    0.000000  ...     45.000000   \n",
       "max     42.000000   45.000000   80.000000   88.000000  ...  62098.000000   \n",
       "\n",
       "            3/29/20       3/30/20       3/31/20        4/1/20        4/2/20  \\\n",
       "count    264.000000    264.000000    264.000000    264.000000    264.000000   \n",
       "mean     563.928030    622.018939    673.496212    731.344697    796.280303   \n",
       "std     4162.164111   4300.468435   4425.465950   4576.369742   4778.860741   \n",
       "min        0.000000      0.000000      0.000000      0.000000      0.000000   \n",
       "25%        0.000000      0.000000      0.000000      0.000000      0.000000   \n",
       "50%        3.000000      4.500000      7.000000     10.000000     12.500000   \n",
       "75%       53.000000     63.750000     73.250000     75.000000     82.750000   \n",
       "max    62570.000000  62889.000000  63153.000000  63326.000000  63471.000000   \n",
       "\n",
       "             4/3/20        4/4/20        4/5/20        4/6/20  \n",
       "count    264.000000    264.000000    264.000000    264.000000  \n",
       "mean     854.696970    932.015152    984.424242   1047.715909  \n",
       "std     4965.516336   5199.751730   5401.725016   5592.868219  \n",
       "min        0.000000      0.000000      0.000000      0.000000  \n",
       "25%        0.000000      1.000000      1.000000      1.000000  \n",
       "50%       16.000000     17.000000     21.000000     27.500000  \n",
       "75%       97.000000    120.500000    126.250000    136.250000  \n",
       "max    63612.000000  63762.000000  63945.000000  64014.000000  \n",
       "\n",
       "[8 rows x 78 columns]"
      ]
     },
     "execution_count": 79,
     "metadata": {},
     "output_type": "execute_result"
    }
   ],
   "source": [
    "data_recovered.describe()"
   ]
  },
  {
   "cell_type": "markdown",
   "metadata": {},
   "source": [
    "# Prepartion of data_recovered cases data"
   ]
  },
  {
   "cell_type": "markdown",
   "metadata": {},
   "source": [
    "### Deleitng the Province/State\tCountry/Region\tLat\tLong\t coloumns"
   ]
  },
  {
   "cell_type": "code",
   "execution_count": 80,
   "metadata": {},
   "outputs": [],
   "source": [
    "data_recovered=data_recovered.drop(columns=['Province/State','Country/Region', 'Lat','Long'])"
   ]
  },
  {
   "cell_type": "code",
   "execution_count": 81,
   "metadata": {},
   "outputs": [
    {
     "data": {
      "text/html": [
       "<div>\n",
       "<style scoped>\n",
       "    .dataframe tbody tr th:only-of-type {\n",
       "        vertical-align: middle;\n",
       "    }\n",
       "\n",
       "    .dataframe tbody tr th {\n",
       "        vertical-align: top;\n",
       "    }\n",
       "\n",
       "    .dataframe thead th {\n",
       "        text-align: right;\n",
       "    }\n",
       "</style>\n",
       "<table border=\"1\" class=\"dataframe\">\n",
       "  <thead>\n",
       "    <tr style=\"text-align: right;\">\n",
       "      <th></th>\n",
       "      <th>1/22/20</th>\n",
       "      <th>1/23/20</th>\n",
       "      <th>1/24/20</th>\n",
       "      <th>1/25/20</th>\n",
       "      <th>1/26/20</th>\n",
       "      <th>1/27/20</th>\n",
       "      <th>1/28/20</th>\n",
       "      <th>1/29/20</th>\n",
       "      <th>1/30/20</th>\n",
       "      <th>1/31/20</th>\n",
       "      <th>...</th>\n",
       "      <th>3/28/20</th>\n",
       "      <th>3/29/20</th>\n",
       "      <th>3/30/20</th>\n",
       "      <th>3/31/20</th>\n",
       "      <th>4/1/20</th>\n",
       "      <th>4/2/20</th>\n",
       "      <th>4/3/20</th>\n",
       "      <th>4/4/20</th>\n",
       "      <th>4/5/20</th>\n",
       "      <th>4/6/20</th>\n",
       "    </tr>\n",
       "  </thead>\n",
       "  <tbody>\n",
       "    <tr>\n",
       "      <th>0</th>\n",
       "      <td>0</td>\n",
       "      <td>0</td>\n",
       "      <td>0</td>\n",
       "      <td>0</td>\n",
       "      <td>0</td>\n",
       "      <td>0</td>\n",
       "      <td>0</td>\n",
       "      <td>0</td>\n",
       "      <td>0</td>\n",
       "      <td>0</td>\n",
       "      <td>...</td>\n",
       "      <td>2</td>\n",
       "      <td>2</td>\n",
       "      <td>2</td>\n",
       "      <td>5</td>\n",
       "      <td>5</td>\n",
       "      <td>10</td>\n",
       "      <td>10</td>\n",
       "      <td>10</td>\n",
       "      <td>15</td>\n",
       "      <td>18</td>\n",
       "    </tr>\n",
       "    <tr>\n",
       "      <th>1</th>\n",
       "      <td>0</td>\n",
       "      <td>0</td>\n",
       "      <td>0</td>\n",
       "      <td>0</td>\n",
       "      <td>0</td>\n",
       "      <td>0</td>\n",
       "      <td>0</td>\n",
       "      <td>0</td>\n",
       "      <td>0</td>\n",
       "      <td>0</td>\n",
       "      <td>...</td>\n",
       "      <td>31</td>\n",
       "      <td>33</td>\n",
       "      <td>44</td>\n",
       "      <td>52</td>\n",
       "      <td>67</td>\n",
       "      <td>76</td>\n",
       "      <td>89</td>\n",
       "      <td>99</td>\n",
       "      <td>104</td>\n",
       "      <td>116</td>\n",
       "    </tr>\n",
       "    <tr>\n",
       "      <th>2</th>\n",
       "      <td>0</td>\n",
       "      <td>0</td>\n",
       "      <td>0</td>\n",
       "      <td>0</td>\n",
       "      <td>0</td>\n",
       "      <td>0</td>\n",
       "      <td>0</td>\n",
       "      <td>0</td>\n",
       "      <td>0</td>\n",
       "      <td>0</td>\n",
       "      <td>...</td>\n",
       "      <td>31</td>\n",
       "      <td>31</td>\n",
       "      <td>37</td>\n",
       "      <td>46</td>\n",
       "      <td>61</td>\n",
       "      <td>61</td>\n",
       "      <td>62</td>\n",
       "      <td>90</td>\n",
       "      <td>90</td>\n",
       "      <td>90</td>\n",
       "    </tr>\n",
       "    <tr>\n",
       "      <th>3</th>\n",
       "      <td>0</td>\n",
       "      <td>0</td>\n",
       "      <td>0</td>\n",
       "      <td>0</td>\n",
       "      <td>0</td>\n",
       "      <td>0</td>\n",
       "      <td>0</td>\n",
       "      <td>0</td>\n",
       "      <td>0</td>\n",
       "      <td>0</td>\n",
       "      <td>...</td>\n",
       "      <td>1</td>\n",
       "      <td>1</td>\n",
       "      <td>10</td>\n",
       "      <td>10</td>\n",
       "      <td>10</td>\n",
       "      <td>10</td>\n",
       "      <td>16</td>\n",
       "      <td>21</td>\n",
       "      <td>26</td>\n",
       "      <td>31</td>\n",
       "    </tr>\n",
       "    <tr>\n",
       "      <th>4</th>\n",
       "      <td>0</td>\n",
       "      <td>0</td>\n",
       "      <td>0</td>\n",
       "      <td>0</td>\n",
       "      <td>0</td>\n",
       "      <td>0</td>\n",
       "      <td>0</td>\n",
       "      <td>0</td>\n",
       "      <td>0</td>\n",
       "      <td>0</td>\n",
       "      <td>...</td>\n",
       "      <td>0</td>\n",
       "      <td>0</td>\n",
       "      <td>0</td>\n",
       "      <td>1</td>\n",
       "      <td>1</td>\n",
       "      <td>1</td>\n",
       "      <td>1</td>\n",
       "      <td>2</td>\n",
       "      <td>2</td>\n",
       "      <td>2</td>\n",
       "    </tr>\n",
       "  </tbody>\n",
       "</table>\n",
       "<p>5 rows × 76 columns</p>\n",
       "</div>"
      ],
      "text/plain": [
       "   1/22/20  1/23/20  1/24/20  1/25/20  1/26/20  1/27/20  1/28/20  1/29/20  \\\n",
       "0        0        0        0        0        0        0        0        0   \n",
       "1        0        0        0        0        0        0        0        0   \n",
       "2        0        0        0        0        0        0        0        0   \n",
       "3        0        0        0        0        0        0        0        0   \n",
       "4        0        0        0        0        0        0        0        0   \n",
       "\n",
       "   1/30/20  1/31/20  ...  3/28/20  3/29/20  3/30/20  3/31/20  4/1/20  4/2/20  \\\n",
       "0        0        0  ...        2        2        2        5       5      10   \n",
       "1        0        0  ...       31       33       44       52      67      76   \n",
       "2        0        0  ...       31       31       37       46      61      61   \n",
       "3        0        0  ...        1        1       10       10      10      10   \n",
       "4        0        0  ...        0        0        0        1       1       1   \n",
       "\n",
       "   4/3/20  4/4/20  4/5/20  4/6/20  \n",
       "0      10      10      15      18  \n",
       "1      89      99     104     116  \n",
       "2      62      90      90      90  \n",
       "3      16      21      26      31  \n",
       "4       1       2       2       2  \n",
       "\n",
       "[5 rows x 76 columns]"
      ]
     },
     "execution_count": 81,
     "metadata": {},
     "output_type": "execute_result"
    }
   ],
   "source": [
    "data_recovered.head()"
   ]
  },
  {
   "cell_type": "markdown",
   "metadata": {},
   "source": [
    "### Getting sum of all dates"
   ]
  },
  {
   "cell_type": "code",
   "execution_count": 82,
   "metadata": {},
   "outputs": [
    {
     "data": {
      "text/plain": [
       "1/22/20    30\n",
       "1/23/20    32\n",
       "1/24/20    39\n",
       "1/25/20    42\n",
       "1/26/20    56\n",
       "dtype: int64"
      ]
     },
     "execution_count": 82,
     "metadata": {},
     "output_type": "execute_result"
    }
   ],
   "source": [
    "data_recovered_cases=data_recovered.sum()\n",
    "data_recovered_cases.head()"
   ]
  },
  {
   "cell_type": "markdown",
   "metadata": {},
   "source": [
    "### Saving the sum of all dates in dataframe"
   ]
  },
  {
   "cell_type": "code",
   "execution_count": 83,
   "metadata": {},
   "outputs": [
    {
     "data": {
      "text/html": [
       "<div>\n",
       "<style scoped>\n",
       "    .dataframe tbody tr th:only-of-type {\n",
       "        vertical-align: middle;\n",
       "    }\n",
       "\n",
       "    .dataframe tbody tr th {\n",
       "        vertical-align: top;\n",
       "    }\n",
       "\n",
       "    .dataframe thead th {\n",
       "        text-align: right;\n",
       "    }\n",
       "</style>\n",
       "<table border=\"1\" class=\"dataframe\">\n",
       "  <thead>\n",
       "    <tr style=\"text-align: right;\">\n",
       "      <th></th>\n",
       "      <th>0</th>\n",
       "    </tr>\n",
       "  </thead>\n",
       "  <tbody>\n",
       "    <tr>\n",
       "      <th>1/22/20</th>\n",
       "      <td>30</td>\n",
       "    </tr>\n",
       "    <tr>\n",
       "      <th>1/23/20</th>\n",
       "      <td>32</td>\n",
       "    </tr>\n",
       "    <tr>\n",
       "      <th>1/24/20</th>\n",
       "      <td>39</td>\n",
       "    </tr>\n",
       "    <tr>\n",
       "      <th>1/25/20</th>\n",
       "      <td>42</td>\n",
       "    </tr>\n",
       "    <tr>\n",
       "      <th>1/26/20</th>\n",
       "      <td>56</td>\n",
       "    </tr>\n",
       "  </tbody>\n",
       "</table>\n",
       "</div>"
      ],
      "text/plain": [
       "          0\n",
       "1/22/20  30\n",
       "1/23/20  32\n",
       "1/24/20  39\n",
       "1/25/20  42\n",
       "1/26/20  56"
      ]
     },
     "execution_count": 83,
     "metadata": {},
     "output_type": "execute_result"
    }
   ],
   "source": [
    "data_recovered_cases=pd.DataFrame(data_recovered_cases)\n",
    "data_recovered_cases.head()"
   ]
  },
  {
   "cell_type": "markdown",
   "metadata": {},
   "source": [
    "### Creating new column of Dates"
   ]
  },
  {
   "cell_type": "code",
   "execution_count": 84,
   "metadata": {},
   "outputs": [
    {
     "data": {
      "text/html": [
       "<div>\n",
       "<style scoped>\n",
       "    .dataframe tbody tr th:only-of-type {\n",
       "        vertical-align: middle;\n",
       "    }\n",
       "\n",
       "    .dataframe tbody tr th {\n",
       "        vertical-align: top;\n",
       "    }\n",
       "\n",
       "    .dataframe thead th {\n",
       "        text-align: right;\n",
       "    }\n",
       "</style>\n",
       "<table border=\"1\" class=\"dataframe\">\n",
       "  <thead>\n",
       "    <tr style=\"text-align: right;\">\n",
       "      <th></th>\n",
       "      <th>0</th>\n",
       "      <th>Dates</th>\n",
       "    </tr>\n",
       "  </thead>\n",
       "  <tbody>\n",
       "    <tr>\n",
       "      <th>1/22/20</th>\n",
       "      <td>30</td>\n",
       "      <td>1/22/20</td>\n",
       "    </tr>\n",
       "    <tr>\n",
       "      <th>1/23/20</th>\n",
       "      <td>32</td>\n",
       "      <td>1/23/20</td>\n",
       "    </tr>\n",
       "    <tr>\n",
       "      <th>1/24/20</th>\n",
       "      <td>39</td>\n",
       "      <td>1/24/20</td>\n",
       "    </tr>\n",
       "    <tr>\n",
       "      <th>1/25/20</th>\n",
       "      <td>42</td>\n",
       "      <td>1/25/20</td>\n",
       "    </tr>\n",
       "    <tr>\n",
       "      <th>1/26/20</th>\n",
       "      <td>56</td>\n",
       "      <td>1/26/20</td>\n",
       "    </tr>\n",
       "  </tbody>\n",
       "</table>\n",
       "</div>"
      ],
      "text/plain": [
       "          0    Dates\n",
       "1/22/20  30  1/22/20\n",
       "1/23/20  32  1/23/20\n",
       "1/24/20  39  1/24/20\n",
       "1/25/20  42  1/25/20\n",
       "1/26/20  56  1/26/20"
      ]
     },
     "execution_count": 84,
     "metadata": {},
     "output_type": "execute_result"
    }
   ],
   "source": [
    "data_recovered_cases['Dates']=data_recovered_cases.index\n",
    "data_recovered_cases.head()"
   ]
  },
  {
   "cell_type": "markdown",
   "metadata": {},
   "source": [
    "### Reseting the index"
   ]
  },
  {
   "cell_type": "code",
   "execution_count": 85,
   "metadata": {},
   "outputs": [
    {
     "data": {
      "text/html": [
       "<div>\n",
       "<style scoped>\n",
       "    .dataframe tbody tr th:only-of-type {\n",
       "        vertical-align: middle;\n",
       "    }\n",
       "\n",
       "    .dataframe tbody tr th {\n",
       "        vertical-align: top;\n",
       "    }\n",
       "\n",
       "    .dataframe thead th {\n",
       "        text-align: right;\n",
       "    }\n",
       "</style>\n",
       "<table border=\"1\" class=\"dataframe\">\n",
       "  <thead>\n",
       "    <tr style=\"text-align: right;\">\n",
       "      <th></th>\n",
       "      <th>0</th>\n",
       "      <th>Dates</th>\n",
       "    </tr>\n",
       "  </thead>\n",
       "  <tbody>\n",
       "    <tr>\n",
       "      <th>0</th>\n",
       "      <td>30</td>\n",
       "      <td>1/22/20</td>\n",
       "    </tr>\n",
       "    <tr>\n",
       "      <th>1</th>\n",
       "      <td>32</td>\n",
       "      <td>1/23/20</td>\n",
       "    </tr>\n",
       "    <tr>\n",
       "      <th>2</th>\n",
       "      <td>39</td>\n",
       "      <td>1/24/20</td>\n",
       "    </tr>\n",
       "    <tr>\n",
       "      <th>3</th>\n",
       "      <td>42</td>\n",
       "      <td>1/25/20</td>\n",
       "    </tr>\n",
       "    <tr>\n",
       "      <th>4</th>\n",
       "      <td>56</td>\n",
       "      <td>1/26/20</td>\n",
       "    </tr>\n",
       "  </tbody>\n",
       "</table>\n",
       "</div>"
      ],
      "text/plain": [
       "    0    Dates\n",
       "0  30  1/22/20\n",
       "1  32  1/23/20\n",
       "2  39  1/24/20\n",
       "3  42  1/25/20\n",
       "4  56  1/26/20"
      ]
     },
     "execution_count": 85,
     "metadata": {},
     "output_type": "execute_result"
    }
   ],
   "source": [
    "data_recovered_cases=data_recovered_cases.reset_index(drop=True)\n",
    "data_recovered_cases.head()"
   ]
  },
  {
   "cell_type": "markdown",
   "metadata": {},
   "source": [
    "### Renaming the column"
   ]
  },
  {
   "cell_type": "code",
   "execution_count": 86,
   "metadata": {},
   "outputs": [
    {
     "data": {
      "text/html": [
       "<div>\n",
       "<style scoped>\n",
       "    .dataframe tbody tr th:only-of-type {\n",
       "        vertical-align: middle;\n",
       "    }\n",
       "\n",
       "    .dataframe tbody tr th {\n",
       "        vertical-align: top;\n",
       "    }\n",
       "\n",
       "    .dataframe thead th {\n",
       "        text-align: right;\n",
       "    }\n",
       "</style>\n",
       "<table border=\"1\" class=\"dataframe\">\n",
       "  <thead>\n",
       "    <tr style=\"text-align: right;\">\n",
       "      <th></th>\n",
       "      <th>Dates</th>\n",
       "      <th>data_recovered_cases</th>\n",
       "    </tr>\n",
       "  </thead>\n",
       "  <tbody>\n",
       "    <tr>\n",
       "      <th>0</th>\n",
       "      <td>1/22/20</td>\n",
       "      <td>30</td>\n",
       "    </tr>\n",
       "    <tr>\n",
       "      <th>1</th>\n",
       "      <td>1/23/20</td>\n",
       "      <td>32</td>\n",
       "    </tr>\n",
       "    <tr>\n",
       "      <th>2</th>\n",
       "      <td>1/24/20</td>\n",
       "      <td>39</td>\n",
       "    </tr>\n",
       "    <tr>\n",
       "      <th>3</th>\n",
       "      <td>1/25/20</td>\n",
       "      <td>42</td>\n",
       "    </tr>\n",
       "    <tr>\n",
       "      <th>4</th>\n",
       "      <td>1/26/20</td>\n",
       "      <td>56</td>\n",
       "    </tr>\n",
       "  </tbody>\n",
       "</table>\n",
       "</div>"
      ],
      "text/plain": [
       "     Dates  data_recovered_cases\n",
       "0  1/22/20                    30\n",
       "1  1/23/20                    32\n",
       "2  1/24/20                    39\n",
       "3  1/25/20                    42\n",
       "4  1/26/20                    56"
      ]
     },
     "execution_count": 86,
     "metadata": {},
     "output_type": "execute_result"
    }
   ],
   "source": [
    "data_recovered_cases=data_recovered_cases.rename(columns={0:'data_recovered_cases'})\n",
    "data_recovered_cases=data_recovered_cases[['Dates','data_recovered_cases']]\n",
    "data_recovered_cases.head()"
   ]
  },
  {
   "cell_type": "markdown",
   "metadata": {},
   "source": [
    "### Date settings and data preparation"
   ]
  },
  {
   "cell_type": "code",
   "execution_count": 87,
   "metadata": {},
   "outputs": [],
   "source": [
    "data_recovered_cases['times'] = pd.to_datetime(data_recovered_cases['Dates'])  \n",
    "data_recovered_cases.set_index('times', inplace=True)                   \n",
    "data_recovered_cases.sort_index(ascending=True, inplace=True)\n",
    "tar='Recovered Predictions'\n",
    "data_recovered_cases.rename(columns={'data_recovered_cases':tar}, inplace=True)\n",
    "data_recovered_cases=data_recovered_cases[[tar]]"
   ]
  },
  {
   "cell_type": "markdown",
   "metadata": {},
   "source": [
    "### Spliting date into  month, year and Day of month"
   ]
  },
  {
   "cell_type": "code",
   "execution_count": 88,
   "metadata": {
    "colab": {},
    "colab_type": "code",
    "id": "Ex001kdIl_3y"
   },
   "outputs": [],
   "source": [
    "def create_features(data, label=None):\n",
    "    data['date'] = data.index\n",
    "    data['month'] = data['date'].dt.month\n",
    "    data['year'] = data['date'].dt.year\n",
    "    data['dayofmonth'] = data['date'].dt.day\n",
    "    X = data[['month','year','dayofmonth']]\n",
    "    if label:\n",
    "        y = data[label]\n",
    "        return X, y\n",
    "    return X"
   ]
  },
  {
   "cell_type": "markdown",
   "metadata": {},
   "source": [
    "### Data for training input and prediction output"
   ]
  },
  {
   "cell_type": "code",
   "execution_count": 89,
   "metadata": {
    "colab": {},
    "colab_type": "code",
    "id": "UqWiH-M8l_tr"
   },
   "outputs": [],
   "source": [
    "X=data_recovered_cases.copy()\n",
    "X= create_features(X)\n",
    "y=data_recovered_cases\n",
    "y=np.array(y)\n",
    "y_t = y[:int(0.87*(len(y)))]"
   ]
  },
  {
   "cell_type": "markdown",
   "metadata": {
    "_cell_guid": "47f0fdc5-2871-494f-9158-1a88c449a7d6",
    "_uuid": "609d7ed4c45f18359ad51745f03b2a686175b7ad",
    "colab_type": "text",
    "id": "fT9MAv0Dww7f"
   },
   "source": [
    "# Ensemble Technique to combine algorithms (GradientBoostingRegressor + random Forest Regressor) and making one"
   ]
  },
  {
   "cell_type": "code",
   "execution_count": 90,
   "metadata": {
    "_cell_guid": "532dcc6f-33a1-4726-a07a-e4bb2ef0b396",
    "_kg_hide-input": true,
    "_uuid": "40c82b43dd34bb9b7685c76bea0f5ca7e761c1d4",
    "colab": {},
    "colab_type": "code",
    "id": "0lcJ9UZSww7f"
   },
   "outputs": [],
   "source": [
    "RF_model = RandomForestRegressor()\n",
    "GB_model  = GradientBoostingRegressor()"
   ]
  },
  {
   "cell_type": "code",
   "execution_count": 91,
   "metadata": {},
   "outputs": [
    {
     "data": {
      "text/plain": [
       "VotingRegressor(estimators=[('model1', RandomForestRegressor()),\n",
       "                            ('model2', GradientBoostingRegressor())])"
      ]
     },
     "execution_count": 91,
     "metadata": {},
     "output_type": "execute_result"
    }
   ],
   "source": [
    "Ens = VotingRegressor( estimators= [('model1',RF_model),('model2',GB_model)])\n",
    "Ens= Ens.fit(X , y)\n",
    "Ens"
   ]
  },
  {
   "cell_type": "markdown",
   "metadata": {},
   "source": [
    "## Graph of the actual and predicted Recovered cases with 10 days forecasting"
   ]
  },
  {
   "cell_type": "code",
   "execution_count": 92,
   "metadata": {},
   "outputs": [
    {
     "data": {
      "image/png": "[encoded data removed]",
      "text/plain": [
       "<Figure size 1440x720 with 1 Axes>"
      ]
     },
     "metadata": {
      "needs_background": "light"
     },
     "output_type": "display_data"
    }
   ],
   "source": [
    "plt.figure(figsize=(20, 10))\n",
    "plt.subplot(1,1,1)\n",
    "pred=Ens.predict(X)\n",
    "plt.plot(y_t,color='blue',label='Recovered cases')\n",
    "plt.plot(pred,color='purple',label='Enemble Predictions',marker= \"s\")\n",
    "plt.title('Predicted Recovered Cases')\n",
    "plt.xlabel('Days since 1/22/2020')\n",
    "plt.ylabel('NO. of Recovered Cases')\n",
    "plt.legend(bbox_to_anchor=(1, 1))\n",
    "plt.show()"
   ]
  },
  {
   "cell_type": "markdown",
   "metadata": {
    "id": "Pf58ZqXBLG92"
   },
   "source": [
    "# Evaluation Measures"
   ]
  },
  {
   "cell_type": "markdown",
   "metadata": {
    "id": "qkcalTi0ZGC2"
   },
   "source": [
    "### R2"
   ]
  },
  {
   "cell_type": "code",
   "execution_count": 93,
   "metadata": {
    "colab": {
     "base_uri": "https://localhost:8080/"
    },
    "id": "1XrbLKYnZGC4",
    "outputId": "c0542e93-bd99-4eae-c134-5268a4e2c3fc"
   },
   "outputs": [
    {
     "name": "stdout",
     "output_type": "stream",
     "text": [
      "R2 :  0.99971\n"
     ]
    }
   ],
   "source": [
    "y_pred = Ens.predict(X)\n",
    "R_square=r2_score(y,y_pred)\n",
    "print('R2 : ', round(R_square,5))"
   ]
  },
  {
   "cell_type": "markdown",
   "metadata": {},
   "source": [
    "### Adjusted R2"
   ]
  },
  {
   "cell_type": "code",
   "execution_count": 94,
   "metadata": {},
   "outputs": [
    {
     "name": "stdout",
     "output_type": "stream",
     "text": [
      "Adjusted R2 : 0.9997\n"
     ]
    }
   ],
   "source": [
    "print('Adjusted R2 :', round(1-(1-R_square)*(len(X)-1)/(len(X)-2-1), 5))"
   ]
  },
  {
   "cell_type": "markdown",
   "metadata": {
    "id": "w1BTf8THZGC-"
   },
   "source": [
    "### MSE"
   ]
  },
  {
   "cell_type": "code",
   "execution_count": 95,
   "metadata": {
    "colab": {
     "base_uri": "https://localhost:8080/"
    },
    "id": "UGGMF4-KZGDA",
    "outputId": "d9ed4eb7-a5f9-499f-a185-458f7f001012"
   },
   "outputs": [
    {
     "name": "stdout",
     "output_type": "stream",
     "text": [
      "Mean Squared Error:  1373850.47\n"
     ]
    }
   ],
   "source": [
    "mse=mean_squared_error(y,y_pred)\n",
    "print('Mean Squared Error: ', round(mse,2))"
   ]
  },
  {
   "cell_type": "markdown",
   "metadata": {
    "id": "ecIh2V5aZGDG"
   },
   "source": [
    "### MAE"
   ]
  },
  {
   "cell_type": "code",
   "execution_count": 96,
   "metadata": {
    "colab": {
     "base_uri": "https://localhost:8080/"
    },
    "id": "EPewmcfSZGDJ",
    "outputId": "5153a04e-29c0-44a5-82d3-9e5c083eae89"
   },
   "outputs": [
    {
     "name": "stdout",
     "output_type": "stream",
     "text": [
      "Mean Absolute Error:  655.36\n"
     ]
    }
   ],
   "source": [
    "mae=mean_absolute_error(y,y_pred)\n",
    "print('Mean Absolute Error: ', round(mae,2))"
   ]
  },
  {
   "cell_type": "markdown",
   "metadata": {},
   "source": [
    "### RMSE"
   ]
  },
  {
   "cell_type": "code",
   "execution_count": 97,
   "metadata": {},
   "outputs": [
    {
     "name": "stdout",
     "output_type": "stream",
     "text": [
      "RMSE:  1172.11\n"
     ]
    }
   ],
   "source": [
    "rmse = math.sqrt(mse)\n",
    "print('RMSE: ', round(rmse,2))"
   ]
  },
  {
   "cell_type": "markdown",
   "metadata": {},
   "source": [
    "# Importing Deaths cases of COVID-19 directly from githubusercontent as updated dataset"
   ]
  },
  {
   "cell_type": "code",
   "execution_count": 99,
   "metadata": {
    "_kg_hide-input": false,
    "_kg_hide-output": true
   },
   "outputs": [],
   "source": [
    "data_deaths=pd.read_csv('https://raw.githubusercontent.com/CSSEGISandData/COVID-19/master/csse_covid_19_data/csse_covid_19_time_series/time_series_covid19_deaths_global.csv')"
   ]
  },
  {
   "cell_type": "markdown",
   "metadata": {},
   "source": [
    "### Selecting the Specific dates "
   ]
  },
  {
   "cell_type": "code",
   "execution_count": 103,
   "metadata": {},
   "outputs": [],
   "source": [
    "data_deaths=data_deaths.iloc[:,0:80]"
   ]
  },
  {
   "cell_type": "markdown",
   "metadata": {},
   "source": [
    "# Exploratory data analysis"
   ]
  },
  {
   "cell_type": "markdown",
   "metadata": {},
   "source": [
    "### Five top records of data"
   ]
  },
  {
   "cell_type": "code",
   "execution_count": 104,
   "metadata": {},
   "outputs": [
    {
     "data": {
      "text/html": [
       "<div>\n",
       "<style scoped>\n",
       "    .dataframe tbody tr th:only-of-type {\n",
       "        vertical-align: middle;\n",
       "    }\n",
       "\n",
       "    .dataframe tbody tr th {\n",
       "        vertical-align: top;\n",
       "    }\n",
       "\n",
       "    .dataframe thead th {\n",
       "        text-align: right;\n",
       "    }\n",
       "</style>\n",
       "<table border=\"1\" class=\"dataframe\">\n",
       "  <thead>\n",
       "    <tr style=\"text-align: right;\">\n",
       "      <th></th>\n",
       "      <th>Province/State</th>\n",
       "      <th>Country/Region</th>\n",
       "      <th>Lat</th>\n",
       "      <th>Long</th>\n",
       "      <th>1/22/20</th>\n",
       "      <th>1/23/20</th>\n",
       "      <th>1/24/20</th>\n",
       "      <th>1/25/20</th>\n",
       "      <th>1/26/20</th>\n",
       "      <th>1/27/20</th>\n",
       "      <th>...</th>\n",
       "      <th>3/28/20</th>\n",
       "      <th>3/29/20</th>\n",
       "      <th>3/30/20</th>\n",
       "      <th>3/31/20</th>\n",
       "      <th>4/1/20</th>\n",
       "      <th>4/2/20</th>\n",
       "      <th>4/3/20</th>\n",
       "      <th>4/4/20</th>\n",
       "      <th>4/5/20</th>\n",
       "      <th>4/6/20</th>\n",
       "    </tr>\n",
       "  </thead>\n",
       "  <tbody>\n",
       "    <tr>\n",
       "      <th>0</th>\n",
       "      <td>NaN</td>\n",
       "      <td>Afghanistan</td>\n",
       "      <td>33.93911</td>\n",
       "      <td>67.709953</td>\n",
       "      <td>0</td>\n",
       "      <td>0</td>\n",
       "      <td>0</td>\n",
       "      <td>0</td>\n",
       "      <td>0</td>\n",
       "      <td>0</td>\n",
       "      <td>...</td>\n",
       "      <td>4</td>\n",
       "      <td>4</td>\n",
       "      <td>4</td>\n",
       "      <td>4</td>\n",
       "      <td>4</td>\n",
       "      <td>6</td>\n",
       "      <td>6</td>\n",
       "      <td>7</td>\n",
       "      <td>7</td>\n",
       "      <td>11</td>\n",
       "    </tr>\n",
       "    <tr>\n",
       "      <th>1</th>\n",
       "      <td>NaN</td>\n",
       "      <td>Albania</td>\n",
       "      <td>41.15330</td>\n",
       "      <td>20.168300</td>\n",
       "      <td>0</td>\n",
       "      <td>0</td>\n",
       "      <td>0</td>\n",
       "      <td>0</td>\n",
       "      <td>0</td>\n",
       "      <td>0</td>\n",
       "      <td>...</td>\n",
       "      <td>10</td>\n",
       "      <td>10</td>\n",
       "      <td>11</td>\n",
       "      <td>15</td>\n",
       "      <td>15</td>\n",
       "      <td>16</td>\n",
       "      <td>17</td>\n",
       "      <td>20</td>\n",
       "      <td>20</td>\n",
       "      <td>21</td>\n",
       "    </tr>\n",
       "    <tr>\n",
       "      <th>2</th>\n",
       "      <td>NaN</td>\n",
       "      <td>Algeria</td>\n",
       "      <td>28.03390</td>\n",
       "      <td>1.659600</td>\n",
       "      <td>0</td>\n",
       "      <td>0</td>\n",
       "      <td>0</td>\n",
       "      <td>0</td>\n",
       "      <td>0</td>\n",
       "      <td>0</td>\n",
       "      <td>...</td>\n",
       "      <td>29</td>\n",
       "      <td>31</td>\n",
       "      <td>35</td>\n",
       "      <td>44</td>\n",
       "      <td>58</td>\n",
       "      <td>86</td>\n",
       "      <td>105</td>\n",
       "      <td>130</td>\n",
       "      <td>152</td>\n",
       "      <td>173</td>\n",
       "    </tr>\n",
       "    <tr>\n",
       "      <th>3</th>\n",
       "      <td>NaN</td>\n",
       "      <td>Andorra</td>\n",
       "      <td>42.50630</td>\n",
       "      <td>1.521800</td>\n",
       "      <td>0</td>\n",
       "      <td>0</td>\n",
       "      <td>0</td>\n",
       "      <td>0</td>\n",
       "      <td>0</td>\n",
       "      <td>0</td>\n",
       "      <td>...</td>\n",
       "      <td>3</td>\n",
       "      <td>6</td>\n",
       "      <td>8</td>\n",
       "      <td>12</td>\n",
       "      <td>14</td>\n",
       "      <td>15</td>\n",
       "      <td>16</td>\n",
       "      <td>17</td>\n",
       "      <td>18</td>\n",
       "      <td>21</td>\n",
       "    </tr>\n",
       "    <tr>\n",
       "      <th>4</th>\n",
       "      <td>NaN</td>\n",
       "      <td>Angola</td>\n",
       "      <td>-11.20270</td>\n",
       "      <td>17.873900</td>\n",
       "      <td>0</td>\n",
       "      <td>0</td>\n",
       "      <td>0</td>\n",
       "      <td>0</td>\n",
       "      <td>0</td>\n",
       "      <td>0</td>\n",
       "      <td>...</td>\n",
       "      <td>0</td>\n",
       "      <td>2</td>\n",
       "      <td>2</td>\n",
       "      <td>2</td>\n",
       "      <td>2</td>\n",
       "      <td>2</td>\n",
       "      <td>2</td>\n",
       "      <td>2</td>\n",
       "      <td>2</td>\n",
       "      <td>2</td>\n",
       "    </tr>\n",
       "  </tbody>\n",
       "</table>\n",
       "<p>5 rows × 80 columns</p>\n",
       "</div>"
      ],
      "text/plain": [
       "  Province/State Country/Region       Lat       Long  1/22/20  1/23/20  \\\n",
       "0            NaN    Afghanistan  33.93911  67.709953        0        0   \n",
       "1            NaN        Albania  41.15330  20.168300        0        0   \n",
       "2            NaN        Algeria  28.03390   1.659600        0        0   \n",
       "3            NaN        Andorra  42.50630   1.521800        0        0   \n",
       "4            NaN         Angola -11.20270  17.873900        0        0   \n",
       "\n",
       "   1/24/20  1/25/20  1/26/20  1/27/20  ...  3/28/20  3/29/20  3/30/20  \\\n",
       "0        0        0        0        0  ...        4        4        4   \n",
       "1        0        0        0        0  ...       10       10       11   \n",
       "2        0        0        0        0  ...       29       31       35   \n",
       "3        0        0        0        0  ...        3        6        8   \n",
       "4        0        0        0        0  ...        0        2        2   \n",
       "\n",
       "   3/31/20  4/1/20  4/2/20  4/3/20  4/4/20  4/5/20  4/6/20  \n",
       "0        4       4       6       6       7       7      11  \n",
       "1       15      15      16      17      20      20      21  \n",
       "2       44      58      86     105     130     152     173  \n",
       "3       12      14      15      16      17      18      21  \n",
       "4        2       2       2       2       2       2       2  \n",
       "\n",
       "[5 rows x 80 columns]"
      ]
     },
     "execution_count": 104,
     "metadata": {},
     "output_type": "execute_result"
    }
   ],
   "source": [
    "data_deaths.head()"
   ]
  },
  {
   "cell_type": "markdown",
   "metadata": {},
   "source": [
    "### Five last records of data"
   ]
  },
  {
   "cell_type": "code",
   "execution_count": 105,
   "metadata": {},
   "outputs": [
    {
     "data": {
      "text/html": [
       "<div>\n",
       "<style scoped>\n",
       "    .dataframe tbody tr th:only-of-type {\n",
       "        vertical-align: middle;\n",
       "    }\n",
       "\n",
       "    .dataframe tbody tr th {\n",
       "        vertical-align: top;\n",
       "    }\n",
       "\n",
       "    .dataframe thead th {\n",
       "        text-align: right;\n",
       "    }\n",
       "</style>\n",
       "<table border=\"1\" class=\"dataframe\">\n",
       "  <thead>\n",
       "    <tr style=\"text-align: right;\">\n",
       "      <th></th>\n",
       "      <th>Province/State</th>\n",
       "      <th>Country/Region</th>\n",
       "      <th>Lat</th>\n",
       "      <th>Long</th>\n",
       "      <th>1/22/20</th>\n",
       "      <th>1/23/20</th>\n",
       "      <th>1/24/20</th>\n",
       "      <th>1/25/20</th>\n",
       "      <th>1/26/20</th>\n",
       "      <th>1/27/20</th>\n",
       "      <th>...</th>\n",
       "      <th>3/28/20</th>\n",
       "      <th>3/29/20</th>\n",
       "      <th>3/30/20</th>\n",
       "      <th>3/31/20</th>\n",
       "      <th>4/1/20</th>\n",
       "      <th>4/2/20</th>\n",
       "      <th>4/3/20</th>\n",
       "      <th>4/4/20</th>\n",
       "      <th>4/5/20</th>\n",
       "      <th>4/6/20</th>\n",
       "    </tr>\n",
       "  </thead>\n",
       "  <tbody>\n",
       "    <tr>\n",
       "      <th>264</th>\n",
       "      <td>NaN</td>\n",
       "      <td>West Bank and Gaza</td>\n",
       "      <td>31.952200</td>\n",
       "      <td>35.233200</td>\n",
       "      <td>0</td>\n",
       "      <td>0</td>\n",
       "      <td>0</td>\n",
       "      <td>0</td>\n",
       "      <td>0</td>\n",
       "      <td>0</td>\n",
       "      <td>...</td>\n",
       "      <td>1</td>\n",
       "      <td>1</td>\n",
       "      <td>1</td>\n",
       "      <td>1</td>\n",
       "      <td>1</td>\n",
       "      <td>1</td>\n",
       "      <td>1</td>\n",
       "      <td>1</td>\n",
       "      <td>1</td>\n",
       "      <td>1</td>\n",
       "    </tr>\n",
       "    <tr>\n",
       "      <th>265</th>\n",
       "      <td>NaN</td>\n",
       "      <td>Western Sahara</td>\n",
       "      <td>24.215500</td>\n",
       "      <td>-12.885800</td>\n",
       "      <td>0</td>\n",
       "      <td>0</td>\n",
       "      <td>0</td>\n",
       "      <td>0</td>\n",
       "      <td>0</td>\n",
       "      <td>0</td>\n",
       "      <td>...</td>\n",
       "      <td>0</td>\n",
       "      <td>0</td>\n",
       "      <td>0</td>\n",
       "      <td>0</td>\n",
       "      <td>0</td>\n",
       "      <td>0</td>\n",
       "      <td>0</td>\n",
       "      <td>0</td>\n",
       "      <td>0</td>\n",
       "      <td>0</td>\n",
       "    </tr>\n",
       "    <tr>\n",
       "      <th>266</th>\n",
       "      <td>NaN</td>\n",
       "      <td>Yemen</td>\n",
       "      <td>15.552727</td>\n",
       "      <td>48.516388</td>\n",
       "      <td>0</td>\n",
       "      <td>0</td>\n",
       "      <td>0</td>\n",
       "      <td>0</td>\n",
       "      <td>0</td>\n",
       "      <td>0</td>\n",
       "      <td>...</td>\n",
       "      <td>0</td>\n",
       "      <td>0</td>\n",
       "      <td>0</td>\n",
       "      <td>0</td>\n",
       "      <td>0</td>\n",
       "      <td>0</td>\n",
       "      <td>0</td>\n",
       "      <td>0</td>\n",
       "      <td>0</td>\n",
       "      <td>0</td>\n",
       "    </tr>\n",
       "    <tr>\n",
       "      <th>267</th>\n",
       "      <td>NaN</td>\n",
       "      <td>Zambia</td>\n",
       "      <td>-13.133897</td>\n",
       "      <td>27.849332</td>\n",
       "      <td>0</td>\n",
       "      <td>0</td>\n",
       "      <td>0</td>\n",
       "      <td>0</td>\n",
       "      <td>0</td>\n",
       "      <td>0</td>\n",
       "      <td>...</td>\n",
       "      <td>0</td>\n",
       "      <td>0</td>\n",
       "      <td>0</td>\n",
       "      <td>0</td>\n",
       "      <td>0</td>\n",
       "      <td>1</td>\n",
       "      <td>1</td>\n",
       "      <td>1</td>\n",
       "      <td>1</td>\n",
       "      <td>1</td>\n",
       "    </tr>\n",
       "    <tr>\n",
       "      <th>268</th>\n",
       "      <td>NaN</td>\n",
       "      <td>Zimbabwe</td>\n",
       "      <td>-19.015438</td>\n",
       "      <td>29.154857</td>\n",
       "      <td>0</td>\n",
       "      <td>0</td>\n",
       "      <td>0</td>\n",
       "      <td>0</td>\n",
       "      <td>0</td>\n",
       "      <td>0</td>\n",
       "      <td>...</td>\n",
       "      <td>1</td>\n",
       "      <td>1</td>\n",
       "      <td>1</td>\n",
       "      <td>1</td>\n",
       "      <td>1</td>\n",
       "      <td>1</td>\n",
       "      <td>1</td>\n",
       "      <td>1</td>\n",
       "      <td>1</td>\n",
       "      <td>1</td>\n",
       "    </tr>\n",
       "  </tbody>\n",
       "</table>\n",
       "<p>5 rows × 80 columns</p>\n",
       "</div>"
      ],
      "text/plain": [
       "    Province/State      Country/Region        Lat       Long  1/22/20  \\\n",
       "264            NaN  West Bank and Gaza  31.952200  35.233200        0   \n",
       "265            NaN      Western Sahara  24.215500 -12.885800        0   \n",
       "266            NaN               Yemen  15.552727  48.516388        0   \n",
       "267            NaN              Zambia -13.133897  27.849332        0   \n",
       "268            NaN            Zimbabwe -19.015438  29.154857        0   \n",
       "\n",
       "     1/23/20  1/24/20  1/25/20  1/26/20  1/27/20  ...  3/28/20  3/29/20  \\\n",
       "264        0        0        0        0        0  ...        1        1   \n",
       "265        0        0        0        0        0  ...        0        0   \n",
       "266        0        0        0        0        0  ...        0        0   \n",
       "267        0        0        0        0        0  ...        0        0   \n",
       "268        0        0        0        0        0  ...        1        1   \n",
       "\n",
       "     3/30/20  3/31/20  4/1/20  4/2/20  4/3/20  4/4/20  4/5/20  4/6/20  \n",
       "264        1        1       1       1       1       1       1       1  \n",
       "265        0        0       0       0       0       0       0       0  \n",
       "266        0        0       0       0       0       0       0       0  \n",
       "267        0        0       0       1       1       1       1       1  \n",
       "268        1        1       1       1       1       1       1       1  \n",
       "\n",
       "[5 rows x 80 columns]"
      ]
     },
     "execution_count": 105,
     "metadata": {},
     "output_type": "execute_result"
    }
   ],
   "source": [
    "data_deaths.tail()"
   ]
  },
  {
   "cell_type": "markdown",
   "metadata": {},
   "source": [
    "### Coloumns/features in data"
   ]
  },
  {
   "cell_type": "code",
   "execution_count": 106,
   "metadata": {},
   "outputs": [
    {
     "data": {
      "text/plain": [
       "Index(['Province/State', 'Country/Region', 'Lat', 'Long', '1/22/20', '1/23/20',\n",
       "       '1/24/20', '1/25/20', '1/26/20', '1/27/20', '1/28/20', '1/29/20',\n",
       "       '1/30/20', '1/31/20', '2/1/20', '2/2/20', '2/3/20', '2/4/20', '2/5/20',\n",
       "       '2/6/20', '2/7/20', '2/8/20', '2/9/20', '2/10/20', '2/11/20', '2/12/20',\n",
       "       '2/13/20', '2/14/20', '2/15/20', '2/16/20', '2/17/20', '2/18/20',\n",
       "       '2/19/20', '2/20/20', '2/21/20', '2/22/20', '2/23/20', '2/24/20',\n",
       "       '2/25/20', '2/26/20', '2/27/20', '2/28/20', '2/29/20', '3/1/20',\n",
       "       '3/2/20', '3/3/20', '3/4/20', '3/5/20', '3/6/20', '3/7/20', '3/8/20',\n",
       "       '3/9/20', '3/10/20', '3/11/20', '3/12/20', '3/13/20', '3/14/20',\n",
       "       '3/15/20', '3/16/20', '3/17/20', '3/18/20', '3/19/20', '3/20/20',\n",
       "       '3/21/20', '3/22/20', '3/23/20', '3/24/20', '3/25/20', '3/26/20',\n",
       "       '3/27/20', '3/28/20', '3/29/20', '3/30/20', '3/31/20', '4/1/20',\n",
       "       '4/2/20', '4/3/20', '4/4/20', '4/5/20', '4/6/20'],\n",
       "      dtype='object')"
      ]
     },
     "execution_count": 106,
     "metadata": {},
     "output_type": "execute_result"
    }
   ],
   "source": [
    "data_deaths.columns"
   ]
  },
  {
   "cell_type": "markdown",
   "metadata": {},
   "source": [
    "### Data information"
   ]
  },
  {
   "cell_type": "code",
   "execution_count": 107,
   "metadata": {
    "scrolled": false
   },
   "outputs": [
    {
     "name": "stdout",
     "output_type": "stream",
     "text": [
      "<class 'pandas.core.frame.DataFrame'>\n",
      "RangeIndex: 269 entries, 0 to 268\n",
      "Data columns (total 80 columns):\n",
      " #   Column          Non-Null Count  Dtype  \n",
      "---  ------          --------------  -----  \n",
      " 0   Province/State  81 non-null     object \n",
      " 1   Country/Region  269 non-null    object \n",
      " 2   Lat             269 non-null    float64\n",
      " 3   Long            269 non-null    float64\n",
      " 4   1/22/20         269 non-null    int64  \n",
      " 5   1/23/20         269 non-null    int64  \n",
      " 6   1/24/20         269 non-null    int64  \n",
      " 7   1/25/20         269 non-null    int64  \n",
      " 8   1/26/20         269 non-null    int64  \n",
      " 9   1/27/20         269 non-null    int64  \n",
      " 10  1/28/20         269 non-null    int64  \n",
      " 11  1/29/20         269 non-null    int64  \n",
      " 12  1/30/20         269 non-null    int64  \n",
      " 13  1/31/20         269 non-null    int64  \n",
      " 14  2/1/20          269 non-null    int64  \n",
      " 15  2/2/20          269 non-null    int64  \n",
      " 16  2/3/20          269 non-null    int64  \n",
      " 17  2/4/20          269 non-null    int64  \n",
      " 18  2/5/20          269 non-null    int64  \n",
      " 19  2/6/20          269 non-null    int64  \n",
      " 20  2/7/20          269 non-null    int64  \n",
      " 21  2/8/20          269 non-null    int64  \n",
      " 22  2/9/20          269 non-null    int64  \n",
      " 23  2/10/20         269 non-null    int64  \n",
      " 24  2/11/20         269 non-null    int64  \n",
      " 25  2/12/20         269 non-null    int64  \n",
      " 26  2/13/20         269 non-null    int64  \n",
      " 27  2/14/20         269 non-null    int64  \n",
      " 28  2/15/20         269 non-null    int64  \n",
      " 29  2/16/20         269 non-null    int64  \n",
      " 30  2/17/20         269 non-null    int64  \n",
      " 31  2/18/20         269 non-null    int64  \n",
      " 32  2/19/20         269 non-null    int64  \n",
      " 33  2/20/20         269 non-null    int64  \n",
      " 34  2/21/20         269 non-null    int64  \n",
      " 35  2/22/20         269 non-null    int64  \n",
      " 36  2/23/20         269 non-null    int64  \n",
      " 37  2/24/20         269 non-null    int64  \n",
      " 38  2/25/20         269 non-null    int64  \n",
      " 39  2/26/20         269 non-null    int64  \n",
      " 40  2/27/20         269 non-null    int64  \n",
      " 41  2/28/20         269 non-null    int64  \n",
      " 42  2/29/20         269 non-null    int64  \n",
      " 43  3/1/20          269 non-null    int64  \n",
      " 44  3/2/20          269 non-null    int64  \n",
      " 45  3/3/20          269 non-null    int64  \n",
      " 46  3/4/20          269 non-null    int64  \n",
      " 47  3/5/20          269 non-null    int64  \n",
      " 48  3/6/20          269 non-null    int64  \n",
      " 49  3/7/20          269 non-null    int64  \n",
      " 50  3/8/20          269 non-null    int64  \n",
      " 51  3/9/20          269 non-null    int64  \n",
      " 52  3/10/20         269 non-null    int64  \n",
      " 53  3/11/20         269 non-null    int64  \n",
      " 54  3/12/20         269 non-null    int64  \n",
      " 55  3/13/20         269 non-null    int64  \n",
      " 56  3/14/20         269 non-null    int64  \n",
      " 57  3/15/20         269 non-null    int64  \n",
      " 58  3/16/20         269 non-null    int64  \n",
      " 59  3/17/20         269 non-null    int64  \n",
      " 60  3/18/20         269 non-null    int64  \n",
      " 61  3/19/20         269 non-null    int64  \n",
      " 62  3/20/20         269 non-null    int64  \n",
      " 63  3/21/20         269 non-null    int64  \n",
      " 64  3/22/20         269 non-null    int64  \n",
      " 65  3/23/20         269 non-null    int64  \n",
      " 66  3/24/20         269 non-null    int64  \n",
      " 67  3/25/20         269 non-null    int64  \n",
      " 68  3/26/20         269 non-null    int64  \n",
      " 69  3/27/20         269 non-null    int64  \n",
      " 70  3/28/20         269 non-null    int64  \n",
      " 71  3/29/20         269 non-null    int64  \n",
      " 72  3/30/20         269 non-null    int64  \n",
      " 73  3/31/20         269 non-null    int64  \n",
      " 74  4/1/20          269 non-null    int64  \n",
      " 75  4/2/20          269 non-null    int64  \n",
      " 76  4/3/20          269 non-null    int64  \n",
      " 77  4/4/20          269 non-null    int64  \n",
      " 78  4/5/20          269 non-null    int64  \n",
      " 79  4/6/20          269 non-null    int64  \n",
      "dtypes: float64(2), int64(76), object(2)\n",
      "memory usage: 168.2+ KB\n"
     ]
    }
   ],
   "source": [
    "data_deaths.info()"
   ]
  },
  {
   "cell_type": "markdown",
   "metadata": {},
   "source": [
    "### Data types of all coloumns"
   ]
  },
  {
   "cell_type": "code",
   "execution_count": 108,
   "metadata": {},
   "outputs": [
    {
     "data": {
      "text/plain": [
       "Province/State     object\n",
       "Country/Region     object\n",
       "Lat               float64\n",
       "Long              float64\n",
       "1/22/20             int64\n",
       "                   ...   \n",
       "4/2/20              int64\n",
       "4/3/20              int64\n",
       "4/4/20              int64\n",
       "4/5/20              int64\n",
       "4/6/20              int64\n",
       "Length: 80, dtype: object"
      ]
     },
     "execution_count": 108,
     "metadata": {},
     "output_type": "execute_result"
    }
   ],
   "source": [
    "data_deaths.dtypes"
   ]
  },
  {
   "cell_type": "markdown",
   "metadata": {},
   "source": [
    "### Checking Null Values and Province/State has Nan values, we will fix next"
   ]
  },
  {
   "cell_type": "code",
   "execution_count": 109,
   "metadata": {
    "scrolled": true
   },
   "outputs": [
    {
     "data": {
      "text/html": [
       "<div>\n",
       "<style scoped>\n",
       "    .dataframe tbody tr th:only-of-type {\n",
       "        vertical-align: middle;\n",
       "    }\n",
       "\n",
       "    .dataframe tbody tr th {\n",
       "        vertical-align: top;\n",
       "    }\n",
       "\n",
       "    .dataframe thead th {\n",
       "        text-align: right;\n",
       "    }\n",
       "</style>\n",
       "<table border=\"1\" class=\"dataframe\">\n",
       "  <thead>\n",
       "    <tr style=\"text-align: right;\">\n",
       "      <th></th>\n",
       "      <th>Province/State</th>\n",
       "      <th>Country/Region</th>\n",
       "      <th>Lat</th>\n",
       "      <th>Long</th>\n",
       "      <th>1/22/20</th>\n",
       "      <th>1/23/20</th>\n",
       "      <th>1/24/20</th>\n",
       "      <th>1/25/20</th>\n",
       "      <th>1/26/20</th>\n",
       "      <th>1/27/20</th>\n",
       "      <th>...</th>\n",
       "      <th>3/28/20</th>\n",
       "      <th>3/29/20</th>\n",
       "      <th>3/30/20</th>\n",
       "      <th>3/31/20</th>\n",
       "      <th>4/1/20</th>\n",
       "      <th>4/2/20</th>\n",
       "      <th>4/3/20</th>\n",
       "      <th>4/4/20</th>\n",
       "      <th>4/5/20</th>\n",
       "      <th>4/6/20</th>\n",
       "    </tr>\n",
       "  </thead>\n",
       "  <tbody>\n",
       "    <tr>\n",
       "      <th>0</th>\n",
       "      <td>NaN</td>\n",
       "      <td>Afghanistan</td>\n",
       "      <td>33.93911</td>\n",
       "      <td>67.709953</td>\n",
       "      <td>0</td>\n",
       "      <td>0</td>\n",
       "      <td>0</td>\n",
       "      <td>0</td>\n",
       "      <td>0</td>\n",
       "      <td>0</td>\n",
       "      <td>...</td>\n",
       "      <td>4</td>\n",
       "      <td>4</td>\n",
       "      <td>4</td>\n",
       "      <td>4</td>\n",
       "      <td>4</td>\n",
       "      <td>6</td>\n",
       "      <td>6</td>\n",
       "      <td>7</td>\n",
       "      <td>7</td>\n",
       "      <td>11</td>\n",
       "    </tr>\n",
       "    <tr>\n",
       "      <th>1</th>\n",
       "      <td>NaN</td>\n",
       "      <td>Albania</td>\n",
       "      <td>41.15330</td>\n",
       "      <td>20.168300</td>\n",
       "      <td>0</td>\n",
       "      <td>0</td>\n",
       "      <td>0</td>\n",
       "      <td>0</td>\n",
       "      <td>0</td>\n",
       "      <td>0</td>\n",
       "      <td>...</td>\n",
       "      <td>10</td>\n",
       "      <td>10</td>\n",
       "      <td>11</td>\n",
       "      <td>15</td>\n",
       "      <td>15</td>\n",
       "      <td>16</td>\n",
       "      <td>17</td>\n",
       "      <td>20</td>\n",
       "      <td>20</td>\n",
       "      <td>21</td>\n",
       "    </tr>\n",
       "    <tr>\n",
       "      <th>2</th>\n",
       "      <td>NaN</td>\n",
       "      <td>Algeria</td>\n",
       "      <td>28.03390</td>\n",
       "      <td>1.659600</td>\n",
       "      <td>0</td>\n",
       "      <td>0</td>\n",
       "      <td>0</td>\n",
       "      <td>0</td>\n",
       "      <td>0</td>\n",
       "      <td>0</td>\n",
       "      <td>...</td>\n",
       "      <td>29</td>\n",
       "      <td>31</td>\n",
       "      <td>35</td>\n",
       "      <td>44</td>\n",
       "      <td>58</td>\n",
       "      <td>86</td>\n",
       "      <td>105</td>\n",
       "      <td>130</td>\n",
       "      <td>152</td>\n",
       "      <td>173</td>\n",
       "    </tr>\n",
       "    <tr>\n",
       "      <th>3</th>\n",
       "      <td>NaN</td>\n",
       "      <td>Andorra</td>\n",
       "      <td>42.50630</td>\n",
       "      <td>1.521800</td>\n",
       "      <td>0</td>\n",
       "      <td>0</td>\n",
       "      <td>0</td>\n",
       "      <td>0</td>\n",
       "      <td>0</td>\n",
       "      <td>0</td>\n",
       "      <td>...</td>\n",
       "      <td>3</td>\n",
       "      <td>6</td>\n",
       "      <td>8</td>\n",
       "      <td>12</td>\n",
       "      <td>14</td>\n",
       "      <td>15</td>\n",
       "      <td>16</td>\n",
       "      <td>17</td>\n",
       "      <td>18</td>\n",
       "      <td>21</td>\n",
       "    </tr>\n",
       "    <tr>\n",
       "      <th>4</th>\n",
       "      <td>NaN</td>\n",
       "      <td>Angola</td>\n",
       "      <td>-11.20270</td>\n",
       "      <td>17.873900</td>\n",
       "      <td>0</td>\n",
       "      <td>0</td>\n",
       "      <td>0</td>\n",
       "      <td>0</td>\n",
       "      <td>0</td>\n",
       "      <td>0</td>\n",
       "      <td>...</td>\n",
       "      <td>0</td>\n",
       "      <td>2</td>\n",
       "      <td>2</td>\n",
       "      <td>2</td>\n",
       "      <td>2</td>\n",
       "      <td>2</td>\n",
       "      <td>2</td>\n",
       "      <td>2</td>\n",
       "      <td>2</td>\n",
       "      <td>2</td>\n",
       "    </tr>\n",
       "  </tbody>\n",
       "</table>\n",
       "<p>5 rows × 80 columns</p>\n",
       "</div>"
      ],
      "text/plain": [
       "  Province/State Country/Region       Lat       Long  1/22/20  1/23/20  \\\n",
       "0            NaN    Afghanistan  33.93911  67.709953        0        0   \n",
       "1            NaN        Albania  41.15330  20.168300        0        0   \n",
       "2            NaN        Algeria  28.03390   1.659600        0        0   \n",
       "3            NaN        Andorra  42.50630   1.521800        0        0   \n",
       "4            NaN         Angola -11.20270  17.873900        0        0   \n",
       "\n",
       "   1/24/20  1/25/20  1/26/20  1/27/20  ...  3/28/20  3/29/20  3/30/20  \\\n",
       "0        0        0        0        0  ...        4        4        4   \n",
       "1        0        0        0        0  ...       10       10       11   \n",
       "2        0        0        0        0  ...       29       31       35   \n",
       "3        0        0        0        0  ...        3        6        8   \n",
       "4        0        0        0        0  ...        0        2        2   \n",
       "\n",
       "   3/31/20  4/1/20  4/2/20  4/3/20  4/4/20  4/5/20  4/6/20  \n",
       "0        4       4       6       6       7       7      11  \n",
       "1       15      15      16      17      20      20      21  \n",
       "2       44      58      86     105     130     152     173  \n",
       "3       12      14      15      16      17      18      21  \n",
       "4        2       2       2       2       2       2       2  \n",
       "\n",
       "[5 rows x 80 columns]"
      ]
     },
     "execution_count": 109,
     "metadata": {},
     "output_type": "execute_result"
    }
   ],
   "source": [
    "data_deaths[data_deaths.isnull().any(axis=1)].head()"
   ]
  },
  {
   "cell_type": "markdown",
   "metadata": {},
   "source": [
    "### Count of Null values,  this count is 188 and all is from Province/State"
   ]
  },
  {
   "cell_type": "code",
   "execution_count": 110,
   "metadata": {
    "scrolled": true
   },
   "outputs": [
    {
     "data": {
      "text/plain": [
       "188"
      ]
     },
     "execution_count": 110,
     "metadata": {},
     "output_type": "execute_result"
    }
   ],
   "source": [
    "np.sum(data_deaths.isnull().any(axis=1))"
   ]
  },
  {
   "cell_type": "markdown",
   "metadata": {},
   "source": [
    "### Data Description, here we can see the values of columns as minimum value, maximum value, counts etc"
   ]
  },
  {
   "cell_type": "code",
   "execution_count": 111,
   "metadata": {},
   "outputs": [
    {
     "data": {
      "text/html": [
       "<div>\n",
       "<style scoped>\n",
       "    .dataframe tbody tr th:only-of-type {\n",
       "        vertical-align: middle;\n",
       "    }\n",
       "\n",
       "    .dataframe tbody tr th {\n",
       "        vertical-align: top;\n",
       "    }\n",
       "\n",
       "    .dataframe thead th {\n",
       "        text-align: right;\n",
       "    }\n",
       "</style>\n",
       "<table border=\"1\" class=\"dataframe\">\n",
       "  <thead>\n",
       "    <tr style=\"text-align: right;\">\n",
       "      <th></th>\n",
       "      <th>Lat</th>\n",
       "      <th>Long</th>\n",
       "      <th>1/22/20</th>\n",
       "      <th>1/23/20</th>\n",
       "      <th>1/24/20</th>\n",
       "      <th>1/25/20</th>\n",
       "      <th>1/26/20</th>\n",
       "      <th>1/27/20</th>\n",
       "      <th>1/28/20</th>\n",
       "      <th>1/29/20</th>\n",
       "      <th>...</th>\n",
       "      <th>3/28/20</th>\n",
       "      <th>3/29/20</th>\n",
       "      <th>3/30/20</th>\n",
       "      <th>3/31/20</th>\n",
       "      <th>4/1/20</th>\n",
       "      <th>4/2/20</th>\n",
       "      <th>4/3/20</th>\n",
       "      <th>4/4/20</th>\n",
       "      <th>4/5/20</th>\n",
       "      <th>4/6/20</th>\n",
       "    </tr>\n",
       "  </thead>\n",
       "  <tbody>\n",
       "    <tr>\n",
       "      <th>count</th>\n",
       "      <td>269.000000</td>\n",
       "      <td>269.000000</td>\n",
       "      <td>269.000000</td>\n",
       "      <td>269.000000</td>\n",
       "      <td>269.000000</td>\n",
       "      <td>269.000000</td>\n",
       "      <td>269.000000</td>\n",
       "      <td>269.000000</td>\n",
       "      <td>269.000000</td>\n",
       "      <td>269.000000</td>\n",
       "      <td>...</td>\n",
       "      <td>269.000000</td>\n",
       "      <td>269.000000</td>\n",
       "      <td>269.000000</td>\n",
       "      <td>269.000000</td>\n",
       "      <td>269.000000</td>\n",
       "      <td>269.000000</td>\n",
       "      <td>269.000000</td>\n",
       "      <td>269.000000</td>\n",
       "      <td>269.000000</td>\n",
       "      <td>269.000000</td>\n",
       "    </tr>\n",
       "    <tr>\n",
       "      <th>mean</th>\n",
       "      <td>20.775060</td>\n",
       "      <td>24.427253</td>\n",
       "      <td>0.063197</td>\n",
       "      <td>0.066914</td>\n",
       "      <td>0.096654</td>\n",
       "      <td>0.156134</td>\n",
       "      <td>0.208178</td>\n",
       "      <td>0.304833</td>\n",
       "      <td>0.486989</td>\n",
       "      <td>0.494424</td>\n",
       "      <td>...</td>\n",
       "      <td>119.356877</td>\n",
       "      <td>132.282528</td>\n",
       "      <td>147.345725</td>\n",
       "      <td>165.011152</td>\n",
       "      <td>185.479554</td>\n",
       "      <td>208.665428</td>\n",
       "      <td>231.364312</td>\n",
       "      <td>254.289963</td>\n",
       "      <td>273.490706</td>\n",
       "      <td>295.598513</td>\n",
       "    </tr>\n",
       "    <tr>\n",
       "      <th>std</th>\n",
       "      <td>24.948161</td>\n",
       "      <td>71.408080</td>\n",
       "      <td>1.036508</td>\n",
       "      <td>1.038073</td>\n",
       "      <td>1.465380</td>\n",
       "      <td>2.439906</td>\n",
       "      <td>3.171904</td>\n",
       "      <td>4.634799</td>\n",
       "      <td>7.621455</td>\n",
       "      <td>7.621954</td>\n",
       "      <td>...</td>\n",
       "      <td>786.180887</td>\n",
       "      <td>859.456337</td>\n",
       "      <td>943.279941</td>\n",
       "      <td>1033.586931</td>\n",
       "      <td>1135.910850</td>\n",
       "      <td>1253.220082</td>\n",
       "      <td>1371.727653</td>\n",
       "      <td>1490.479477</td>\n",
       "      <td>1593.138997</td>\n",
       "      <td>1714.042695</td>\n",
       "    </tr>\n",
       "    <tr>\n",
       "      <th>min</th>\n",
       "      <td>-51.796300</td>\n",
       "      <td>-135.000000</td>\n",
       "      <td>0.000000</td>\n",
       "      <td>0.000000</td>\n",
       "      <td>0.000000</td>\n",
       "      <td>0.000000</td>\n",
       "      <td>0.000000</td>\n",
       "      <td>0.000000</td>\n",
       "      <td>0.000000</td>\n",
       "      <td>0.000000</td>\n",
       "      <td>...</td>\n",
       "      <td>0.000000</td>\n",
       "      <td>0.000000</td>\n",
       "      <td>0.000000</td>\n",
       "      <td>0.000000</td>\n",
       "      <td>0.000000</td>\n",
       "      <td>0.000000</td>\n",
       "      <td>0.000000</td>\n",
       "      <td>0.000000</td>\n",
       "      <td>0.000000</td>\n",
       "      <td>0.000000</td>\n",
       "    </tr>\n",
       "    <tr>\n",
       "      <th>25%</th>\n",
       "      <td>6.428055</td>\n",
       "      <td>-15.180400</td>\n",
       "      <td>0.000000</td>\n",
       "      <td>0.000000</td>\n",
       "      <td>0.000000</td>\n",
       "      <td>0.000000</td>\n",
       "      <td>0.000000</td>\n",
       "      <td>0.000000</td>\n",
       "      <td>0.000000</td>\n",
       "      <td>0.000000</td>\n",
       "      <td>...</td>\n",
       "      <td>0.000000</td>\n",
       "      <td>0.000000</td>\n",
       "      <td>0.000000</td>\n",
       "      <td>0.000000</td>\n",
       "      <td>0.000000</td>\n",
       "      <td>0.000000</td>\n",
       "      <td>0.000000</td>\n",
       "      <td>0.000000</td>\n",
       "      <td>0.000000</td>\n",
       "      <td>0.000000</td>\n",
       "    </tr>\n",
       "    <tr>\n",
       "      <th>50%</th>\n",
       "      <td>22.166700</td>\n",
       "      <td>21.005900</td>\n",
       "      <td>0.000000</td>\n",
       "      <td>0.000000</td>\n",
       "      <td>0.000000</td>\n",
       "      <td>0.000000</td>\n",
       "      <td>0.000000</td>\n",
       "      <td>0.000000</td>\n",
       "      <td>0.000000</td>\n",
       "      <td>0.000000</td>\n",
       "      <td>...</td>\n",
       "      <td>1.000000</td>\n",
       "      <td>1.000000</td>\n",
       "      <td>1.000000</td>\n",
       "      <td>1.000000</td>\n",
       "      <td>2.000000</td>\n",
       "      <td>2.000000</td>\n",
       "      <td>2.000000</td>\n",
       "      <td>2.000000</td>\n",
       "      <td>2.000000</td>\n",
       "      <td>3.000000</td>\n",
       "    </tr>\n",
       "    <tr>\n",
       "      <th>75%</th>\n",
       "      <td>41.112900</td>\n",
       "      <td>84.250000</td>\n",
       "      <td>0.000000</td>\n",
       "      <td>0.000000</td>\n",
       "      <td>0.000000</td>\n",
       "      <td>0.000000</td>\n",
       "      <td>0.000000</td>\n",
       "      <td>0.000000</td>\n",
       "      <td>0.000000</td>\n",
       "      <td>0.000000</td>\n",
       "      <td>...</td>\n",
       "      <td>6.000000</td>\n",
       "      <td>7.000000</td>\n",
       "      <td>8.000000</td>\n",
       "      <td>8.000000</td>\n",
       "      <td>10.000000</td>\n",
       "      <td>11.000000</td>\n",
       "      <td>13.000000</td>\n",
       "      <td>15.000000</td>\n",
       "      <td>17.000000</td>\n",
       "      <td>19.000000</td>\n",
       "    </tr>\n",
       "    <tr>\n",
       "      <th>max</th>\n",
       "      <td>71.706900</td>\n",
       "      <td>178.065000</td>\n",
       "      <td>17.000000</td>\n",
       "      <td>17.000000</td>\n",
       "      <td>24.000000</td>\n",
       "      <td>40.000000</td>\n",
       "      <td>52.000000</td>\n",
       "      <td>76.000000</td>\n",
       "      <td>125.000000</td>\n",
       "      <td>125.000000</td>\n",
       "      <td>...</td>\n",
       "      <td>10023.000000</td>\n",
       "      <td>10779.000000</td>\n",
       "      <td>11591.000000</td>\n",
       "      <td>12428.000000</td>\n",
       "      <td>13155.000000</td>\n",
       "      <td>13915.000000</td>\n",
       "      <td>14681.000000</td>\n",
       "      <td>15362.000000</td>\n",
       "      <td>15887.000000</td>\n",
       "      <td>16523.000000</td>\n",
       "    </tr>\n",
       "  </tbody>\n",
       "</table>\n",
       "<p>8 rows × 78 columns</p>\n",
       "</div>"
      ],
      "text/plain": [
       "              Lat        Long     1/22/20     1/23/20     1/24/20     1/25/20  \\\n",
       "count  269.000000  269.000000  269.000000  269.000000  269.000000  269.000000   \n",
       "mean    20.775060   24.427253    0.063197    0.066914    0.096654    0.156134   \n",
       "std     24.948161   71.408080    1.036508    1.038073    1.465380    2.439906   \n",
       "min    -51.796300 -135.000000    0.000000    0.000000    0.000000    0.000000   \n",
       "25%      6.428055  -15.180400    0.000000    0.000000    0.000000    0.000000   \n",
       "50%     22.166700   21.005900    0.000000    0.000000    0.000000    0.000000   \n",
       "75%     41.112900   84.250000    0.000000    0.000000    0.000000    0.000000   \n",
       "max     71.706900  178.065000   17.000000   17.000000   24.000000   40.000000   \n",
       "\n",
       "          1/26/20     1/27/20     1/28/20     1/29/20  ...       3/28/20  \\\n",
       "count  269.000000  269.000000  269.000000  269.000000  ...    269.000000   \n",
       "mean     0.208178    0.304833    0.486989    0.494424  ...    119.356877   \n",
       "std      3.171904    4.634799    7.621455    7.621954  ...    786.180887   \n",
       "min      0.000000    0.000000    0.000000    0.000000  ...      0.000000   \n",
       "25%      0.000000    0.000000    0.000000    0.000000  ...      0.000000   \n",
       "50%      0.000000    0.000000    0.000000    0.000000  ...      1.000000   \n",
       "75%      0.000000    0.000000    0.000000    0.000000  ...      6.000000   \n",
       "max     52.000000   76.000000  125.000000  125.000000  ...  10023.000000   \n",
       "\n",
       "            3/29/20       3/30/20       3/31/20        4/1/20        4/2/20  \\\n",
       "count    269.000000    269.000000    269.000000    269.000000    269.000000   \n",
       "mean     132.282528    147.345725    165.011152    185.479554    208.665428   \n",
       "std      859.456337    943.279941   1033.586931   1135.910850   1253.220082   \n",
       "min        0.000000      0.000000      0.000000      0.000000      0.000000   \n",
       "25%        0.000000      0.000000      0.000000      0.000000      0.000000   \n",
       "50%        1.000000      1.000000      1.000000      2.000000      2.000000   \n",
       "75%        7.000000      8.000000      8.000000     10.000000     11.000000   \n",
       "max    10779.000000  11591.000000  12428.000000  13155.000000  13915.000000   \n",
       "\n",
       "             4/3/20        4/4/20        4/5/20        4/6/20  \n",
       "count    269.000000    269.000000    269.000000    269.000000  \n",
       "mean     231.364312    254.289963    273.490706    295.598513  \n",
       "std     1371.727653   1490.479477   1593.138997   1714.042695  \n",
       "min        0.000000      0.000000      0.000000      0.000000  \n",
       "25%        0.000000      0.000000      0.000000      0.000000  \n",
       "50%        2.000000      2.000000      2.000000      3.000000  \n",
       "75%       13.000000     15.000000     17.000000     19.000000  \n",
       "max    14681.000000  15362.000000  15887.000000  16523.000000  \n",
       "\n",
       "[8 rows x 78 columns]"
      ]
     },
     "execution_count": 111,
     "metadata": {},
     "output_type": "execute_result"
    }
   ],
   "source": [
    "data_deaths.describe()"
   ]
  },
  {
   "cell_type": "markdown",
   "metadata": {},
   "source": [
    "# Prepartion of data_confirmed_cases data"
   ]
  },
  {
   "cell_type": "markdown",
   "metadata": {},
   "source": [
    "### Deleitng the Province/State\tCountry/Region\tLat\tLong\t coloumns"
   ]
  },
  {
   "cell_type": "code",
   "execution_count": 112,
   "metadata": {},
   "outputs": [],
   "source": [
    "data_deaths=data_deaths.drop(columns=['Province/State','Country/Region', 'Lat','Long'])"
   ]
  },
  {
   "cell_type": "code",
   "execution_count": 113,
   "metadata": {},
   "outputs": [
    {
     "data": {
      "text/html": [
       "<div>\n",
       "<style scoped>\n",
       "    .dataframe tbody tr th:only-of-type {\n",
       "        vertical-align: middle;\n",
       "    }\n",
       "\n",
       "    .dataframe tbody tr th {\n",
       "        vertical-align: top;\n",
       "    }\n",
       "\n",
       "    .dataframe thead th {\n",
       "        text-align: right;\n",
       "    }\n",
       "</style>\n",
       "<table border=\"1\" class=\"dataframe\">\n",
       "  <thead>\n",
       "    <tr style=\"text-align: right;\">\n",
       "      <th></th>\n",
       "      <th>1/22/20</th>\n",
       "      <th>1/23/20</th>\n",
       "      <th>1/24/20</th>\n",
       "      <th>1/25/20</th>\n",
       "      <th>1/26/20</th>\n",
       "      <th>1/27/20</th>\n",
       "      <th>1/28/20</th>\n",
       "      <th>1/29/20</th>\n",
       "      <th>1/30/20</th>\n",
       "      <th>1/31/20</th>\n",
       "      <th>...</th>\n",
       "      <th>3/28/20</th>\n",
       "      <th>3/29/20</th>\n",
       "      <th>3/30/20</th>\n",
       "      <th>3/31/20</th>\n",
       "      <th>4/1/20</th>\n",
       "      <th>4/2/20</th>\n",
       "      <th>4/3/20</th>\n",
       "      <th>4/4/20</th>\n",
       "      <th>4/5/20</th>\n",
       "      <th>4/6/20</th>\n",
       "    </tr>\n",
       "  </thead>\n",
       "  <tbody>\n",
       "    <tr>\n",
       "      <th>0</th>\n",
       "      <td>0</td>\n",
       "      <td>0</td>\n",
       "      <td>0</td>\n",
       "      <td>0</td>\n",
       "      <td>0</td>\n",
       "      <td>0</td>\n",
       "      <td>0</td>\n",
       "      <td>0</td>\n",
       "      <td>0</td>\n",
       "      <td>0</td>\n",
       "      <td>...</td>\n",
       "      <td>4</td>\n",
       "      <td>4</td>\n",
       "      <td>4</td>\n",
       "      <td>4</td>\n",
       "      <td>4</td>\n",
       "      <td>6</td>\n",
       "      <td>6</td>\n",
       "      <td>7</td>\n",
       "      <td>7</td>\n",
       "      <td>11</td>\n",
       "    </tr>\n",
       "    <tr>\n",
       "      <th>1</th>\n",
       "      <td>0</td>\n",
       "      <td>0</td>\n",
       "      <td>0</td>\n",
       "      <td>0</td>\n",
       "      <td>0</td>\n",
       "      <td>0</td>\n",
       "      <td>0</td>\n",
       "      <td>0</td>\n",
       "      <td>0</td>\n",
       "      <td>0</td>\n",
       "      <td>...</td>\n",
       "      <td>10</td>\n",
       "      <td>10</td>\n",
       "      <td>11</td>\n",
       "      <td>15</td>\n",
       "      <td>15</td>\n",
       "      <td>16</td>\n",
       "      <td>17</td>\n",
       "      <td>20</td>\n",
       "      <td>20</td>\n",
       "      <td>21</td>\n",
       "    </tr>\n",
       "    <tr>\n",
       "      <th>2</th>\n",
       "      <td>0</td>\n",
       "      <td>0</td>\n",
       "      <td>0</td>\n",
       "      <td>0</td>\n",
       "      <td>0</td>\n",
       "      <td>0</td>\n",
       "      <td>0</td>\n",
       "      <td>0</td>\n",
       "      <td>0</td>\n",
       "      <td>0</td>\n",
       "      <td>...</td>\n",
       "      <td>29</td>\n",
       "      <td>31</td>\n",
       "      <td>35</td>\n",
       "      <td>44</td>\n",
       "      <td>58</td>\n",
       "      <td>86</td>\n",
       "      <td>105</td>\n",
       "      <td>130</td>\n",
       "      <td>152</td>\n",
       "      <td>173</td>\n",
       "    </tr>\n",
       "    <tr>\n",
       "      <th>3</th>\n",
       "      <td>0</td>\n",
       "      <td>0</td>\n",
       "      <td>0</td>\n",
       "      <td>0</td>\n",
       "      <td>0</td>\n",
       "      <td>0</td>\n",
       "      <td>0</td>\n",
       "      <td>0</td>\n",
       "      <td>0</td>\n",
       "      <td>0</td>\n",
       "      <td>...</td>\n",
       "      <td>3</td>\n",
       "      <td>6</td>\n",
       "      <td>8</td>\n",
       "      <td>12</td>\n",
       "      <td>14</td>\n",
       "      <td>15</td>\n",
       "      <td>16</td>\n",
       "      <td>17</td>\n",
       "      <td>18</td>\n",
       "      <td>21</td>\n",
       "    </tr>\n",
       "    <tr>\n",
       "      <th>4</th>\n",
       "      <td>0</td>\n",
       "      <td>0</td>\n",
       "      <td>0</td>\n",
       "      <td>0</td>\n",
       "      <td>0</td>\n",
       "      <td>0</td>\n",
       "      <td>0</td>\n",
       "      <td>0</td>\n",
       "      <td>0</td>\n",
       "      <td>0</td>\n",
       "      <td>...</td>\n",
       "      <td>0</td>\n",
       "      <td>2</td>\n",
       "      <td>2</td>\n",
       "      <td>2</td>\n",
       "      <td>2</td>\n",
       "      <td>2</td>\n",
       "      <td>2</td>\n",
       "      <td>2</td>\n",
       "      <td>2</td>\n",
       "      <td>2</td>\n",
       "    </tr>\n",
       "  </tbody>\n",
       "</table>\n",
       "<p>5 rows × 76 columns</p>\n",
       "</div>"
      ],
      "text/plain": [
       "   1/22/20  1/23/20  1/24/20  1/25/20  1/26/20  1/27/20  1/28/20  1/29/20  \\\n",
       "0        0        0        0        0        0        0        0        0   \n",
       "1        0        0        0        0        0        0        0        0   \n",
       "2        0        0        0        0        0        0        0        0   \n",
       "3        0        0        0        0        0        0        0        0   \n",
       "4        0        0        0        0        0        0        0        0   \n",
       "\n",
       "   1/30/20  1/31/20  ...  3/28/20  3/29/20  3/30/20  3/31/20  4/1/20  4/2/20  \\\n",
       "0        0        0  ...        4        4        4        4       4       6   \n",
       "1        0        0  ...       10       10       11       15      15      16   \n",
       "2        0        0  ...       29       31       35       44      58      86   \n",
       "3        0        0  ...        3        6        8       12      14      15   \n",
       "4        0        0  ...        0        2        2        2       2       2   \n",
       "\n",
       "   4/3/20  4/4/20  4/5/20  4/6/20  \n",
       "0       6       7       7      11  \n",
       "1      17      20      20      21  \n",
       "2     105     130     152     173  \n",
       "3      16      17      18      21  \n",
       "4       2       2       2       2  \n",
       "\n",
       "[5 rows x 76 columns]"
      ]
     },
     "execution_count": 113,
     "metadata": {},
     "output_type": "execute_result"
    }
   ],
   "source": [
    "data_deaths.head()"
   ]
  },
  {
   "cell_type": "markdown",
   "metadata": {},
   "source": [
    "### Getting sum of all dates"
   ]
  },
  {
   "cell_type": "code",
   "execution_count": 114,
   "metadata": {},
   "outputs": [
    {
     "data": {
      "text/plain": [
       "1/22/20    17\n",
       "1/23/20    18\n",
       "1/24/20    26\n",
       "1/25/20    42\n",
       "1/26/20    56\n",
       "dtype: int64"
      ]
     },
     "execution_count": 114,
     "metadata": {},
     "output_type": "execute_result"
    }
   ],
   "source": [
    "data_deaths=data_deaths.sum()\n",
    "data_deaths.head()"
   ]
  },
  {
   "cell_type": "markdown",
   "metadata": {},
   "source": [
    "### Saving the sum of all dates in dataframe"
   ]
  },
  {
   "cell_type": "code",
   "execution_count": 115,
   "metadata": {},
   "outputs": [
    {
     "data": {
      "text/html": [
       "<div>\n",
       "<style scoped>\n",
       "    .dataframe tbody tr th:only-of-type {\n",
       "        vertical-align: middle;\n",
       "    }\n",
       "\n",
       "    .dataframe tbody tr th {\n",
       "        vertical-align: top;\n",
       "    }\n",
       "\n",
       "    .dataframe thead th {\n",
       "        text-align: right;\n",
       "    }\n",
       "</style>\n",
       "<table border=\"1\" class=\"dataframe\">\n",
       "  <thead>\n",
       "    <tr style=\"text-align: right;\">\n",
       "      <th></th>\n",
       "      <th>0</th>\n",
       "    </tr>\n",
       "  </thead>\n",
       "  <tbody>\n",
       "    <tr>\n",
       "      <th>1/22/20</th>\n",
       "      <td>17</td>\n",
       "    </tr>\n",
       "    <tr>\n",
       "      <th>1/23/20</th>\n",
       "      <td>18</td>\n",
       "    </tr>\n",
       "    <tr>\n",
       "      <th>1/24/20</th>\n",
       "      <td>26</td>\n",
       "    </tr>\n",
       "    <tr>\n",
       "      <th>1/25/20</th>\n",
       "      <td>42</td>\n",
       "    </tr>\n",
       "    <tr>\n",
       "      <th>1/26/20</th>\n",
       "      <td>56</td>\n",
       "    </tr>\n",
       "  </tbody>\n",
       "</table>\n",
       "</div>"
      ],
      "text/plain": [
       "          0\n",
       "1/22/20  17\n",
       "1/23/20  18\n",
       "1/24/20  26\n",
       "1/25/20  42\n",
       "1/26/20  56"
      ]
     },
     "execution_count": 115,
     "metadata": {},
     "output_type": "execute_result"
    }
   ],
   "source": [
    "data_deaths_cases=pd.DataFrame(data_deaths)\n",
    "data_deaths_cases.head()"
   ]
  },
  {
   "cell_type": "markdown",
   "metadata": {},
   "source": [
    "### Creating new column of Dates"
   ]
  },
  {
   "cell_type": "code",
   "execution_count": 116,
   "metadata": {},
   "outputs": [
    {
     "data": {
      "text/html": [
       "<div>\n",
       "<style scoped>\n",
       "    .dataframe tbody tr th:only-of-type {\n",
       "        vertical-align: middle;\n",
       "    }\n",
       "\n",
       "    .dataframe tbody tr th {\n",
       "        vertical-align: top;\n",
       "    }\n",
       "\n",
       "    .dataframe thead th {\n",
       "        text-align: right;\n",
       "    }\n",
       "</style>\n",
       "<table border=\"1\" class=\"dataframe\">\n",
       "  <thead>\n",
       "    <tr style=\"text-align: right;\">\n",
       "      <th></th>\n",
       "      <th>0</th>\n",
       "      <th>Dates</th>\n",
       "    </tr>\n",
       "  </thead>\n",
       "  <tbody>\n",
       "    <tr>\n",
       "      <th>1/22/20</th>\n",
       "      <td>17</td>\n",
       "      <td>1/22/20</td>\n",
       "    </tr>\n",
       "    <tr>\n",
       "      <th>1/23/20</th>\n",
       "      <td>18</td>\n",
       "      <td>1/23/20</td>\n",
       "    </tr>\n",
       "    <tr>\n",
       "      <th>1/24/20</th>\n",
       "      <td>26</td>\n",
       "      <td>1/24/20</td>\n",
       "    </tr>\n",
       "    <tr>\n",
       "      <th>1/25/20</th>\n",
       "      <td>42</td>\n",
       "      <td>1/25/20</td>\n",
       "    </tr>\n",
       "    <tr>\n",
       "      <th>1/26/20</th>\n",
       "      <td>56</td>\n",
       "      <td>1/26/20</td>\n",
       "    </tr>\n",
       "  </tbody>\n",
       "</table>\n",
       "</div>"
      ],
      "text/plain": [
       "          0    Dates\n",
       "1/22/20  17  1/22/20\n",
       "1/23/20  18  1/23/20\n",
       "1/24/20  26  1/24/20\n",
       "1/25/20  42  1/25/20\n",
       "1/26/20  56  1/26/20"
      ]
     },
     "execution_count": 116,
     "metadata": {},
     "output_type": "execute_result"
    }
   ],
   "source": [
    "data_deaths_cases['Dates']=data_deaths_cases.index\n",
    "data_deaths_cases.head()"
   ]
  },
  {
   "cell_type": "markdown",
   "metadata": {},
   "source": [
    "### Reseting the index"
   ]
  },
  {
   "cell_type": "code",
   "execution_count": 117,
   "metadata": {},
   "outputs": [
    {
     "data": {
      "text/html": [
       "<div>\n",
       "<style scoped>\n",
       "    .dataframe tbody tr th:only-of-type {\n",
       "        vertical-align: middle;\n",
       "    }\n",
       "\n",
       "    .dataframe tbody tr th {\n",
       "        vertical-align: top;\n",
       "    }\n",
       "\n",
       "    .dataframe thead th {\n",
       "        text-align: right;\n",
       "    }\n",
       "</style>\n",
       "<table border=\"1\" class=\"dataframe\">\n",
       "  <thead>\n",
       "    <tr style=\"text-align: right;\">\n",
       "      <th></th>\n",
       "      <th>0</th>\n",
       "      <th>Dates</th>\n",
       "    </tr>\n",
       "  </thead>\n",
       "  <tbody>\n",
       "    <tr>\n",
       "      <th>0</th>\n",
       "      <td>17</td>\n",
       "      <td>1/22/20</td>\n",
       "    </tr>\n",
       "    <tr>\n",
       "      <th>1</th>\n",
       "      <td>18</td>\n",
       "      <td>1/23/20</td>\n",
       "    </tr>\n",
       "    <tr>\n",
       "      <th>2</th>\n",
       "      <td>26</td>\n",
       "      <td>1/24/20</td>\n",
       "    </tr>\n",
       "    <tr>\n",
       "      <th>3</th>\n",
       "      <td>42</td>\n",
       "      <td>1/25/20</td>\n",
       "    </tr>\n",
       "    <tr>\n",
       "      <th>4</th>\n",
       "      <td>56</td>\n",
       "      <td>1/26/20</td>\n",
       "    </tr>\n",
       "  </tbody>\n",
       "</table>\n",
       "</div>"
      ],
      "text/plain": [
       "    0    Dates\n",
       "0  17  1/22/20\n",
       "1  18  1/23/20\n",
       "2  26  1/24/20\n",
       "3  42  1/25/20\n",
       "4  56  1/26/20"
      ]
     },
     "execution_count": 117,
     "metadata": {},
     "output_type": "execute_result"
    }
   ],
   "source": [
    "data_deaths_cases=data_deaths_cases.reset_index(drop=True)\n",
    "data_deaths_cases.head()"
   ]
  },
  {
   "cell_type": "markdown",
   "metadata": {},
   "source": [
    "### Renaming the column"
   ]
  },
  {
   "cell_type": "code",
   "execution_count": 118,
   "metadata": {},
   "outputs": [
    {
     "data": {
      "text/html": [
       "<div>\n",
       "<style scoped>\n",
       "    .dataframe tbody tr th:only-of-type {\n",
       "        vertical-align: middle;\n",
       "    }\n",
       "\n",
       "    .dataframe tbody tr th {\n",
       "        vertical-align: top;\n",
       "    }\n",
       "\n",
       "    .dataframe thead th {\n",
       "        text-align: right;\n",
       "    }\n",
       "</style>\n",
       "<table border=\"1\" class=\"dataframe\">\n",
       "  <thead>\n",
       "    <tr style=\"text-align: right;\">\n",
       "      <th></th>\n",
       "      <th>Dates</th>\n",
       "      <th>data_deaths_cases</th>\n",
       "    </tr>\n",
       "  </thead>\n",
       "  <tbody>\n",
       "    <tr>\n",
       "      <th>0</th>\n",
       "      <td>1/22/20</td>\n",
       "      <td>17</td>\n",
       "    </tr>\n",
       "    <tr>\n",
       "      <th>1</th>\n",
       "      <td>1/23/20</td>\n",
       "      <td>18</td>\n",
       "    </tr>\n",
       "    <tr>\n",
       "      <th>2</th>\n",
       "      <td>1/24/20</td>\n",
       "      <td>26</td>\n",
       "    </tr>\n",
       "    <tr>\n",
       "      <th>3</th>\n",
       "      <td>1/25/20</td>\n",
       "      <td>42</td>\n",
       "    </tr>\n",
       "    <tr>\n",
       "      <th>4</th>\n",
       "      <td>1/26/20</td>\n",
       "      <td>56</td>\n",
       "    </tr>\n",
       "  </tbody>\n",
       "</table>\n",
       "</div>"
      ],
      "text/plain": [
       "     Dates  data_deaths_cases\n",
       "0  1/22/20                 17\n",
       "1  1/23/20                 18\n",
       "2  1/24/20                 26\n",
       "3  1/25/20                 42\n",
       "4  1/26/20                 56"
      ]
     },
     "execution_count": 118,
     "metadata": {},
     "output_type": "execute_result"
    }
   ],
   "source": [
    "data_deaths_cases=data_deaths_cases.rename(columns={0:'data_deaths_cases'})\n",
    "data_deaths_cases=data_deaths_cases[['Dates','data_deaths_cases']]\n",
    "data_deaths_cases.head()"
   ]
  },
  {
   "cell_type": "markdown",
   "metadata": {},
   "source": [
    "### Date settings and data preparation"
   ]
  },
  {
   "cell_type": "code",
   "execution_count": 119,
   "metadata": {},
   "outputs": [],
   "source": [
    "data_deaths_cases['times'] = pd.to_datetime(data_deaths_cases['Dates'])  \n",
    "data_deaths_cases.set_index('times', inplace=True)                   \n",
    "data_deaths_cases.sort_index(ascending=True, inplace=True)\n",
    "tar='Deaths Predictions'\n",
    "data_deaths_cases.rename(columns={'data_deaths_cases':tar}, inplace=True)\n",
    "data_deaths_cases=data_deaths_cases[[tar]]"
   ]
  },
  {
   "cell_type": "markdown",
   "metadata": {},
   "source": [
    "### Spliting date into  month, year and Day of month"
   ]
  },
  {
   "cell_type": "code",
   "execution_count": 120,
   "metadata": {
    "colab": {},
    "colab_type": "code",
    "id": "Ex001kdIl_3y"
   },
   "outputs": [],
   "source": [
    "def create_features(data, label=None):\n",
    "    data['date'] = data.index\n",
    "    data['month'] = data['date'].dt.month\n",
    "    data['year'] = data['date'].dt.year\n",
    "    data['dayofmonth'] = data['date'].dt.day\n",
    "    X = data[['month','year','dayofmonth']]\n",
    "    if label:\n",
    "        y = data[label]\n",
    "        return X, y\n",
    "    return X"
   ]
  },
  {
   "cell_type": "markdown",
   "metadata": {},
   "source": [
    "### Data for training input and prediction output"
   ]
  },
  {
   "cell_type": "code",
   "execution_count": 121,
   "metadata": {
    "colab": {},
    "colab_type": "code",
    "id": "UqWiH-M8l_tr"
   },
   "outputs": [],
   "source": [
    "X=data_deaths_cases.copy()\n",
    "X= create_features(X)\n",
    "y=data_deaths_cases\n",
    "y=np.array(y)\n",
    "y_t = y[:int(0.87*(len(y)))]"
   ]
  },
  {
   "cell_type": "markdown",
   "metadata": {
    "_cell_guid": "47f0fdc5-2871-494f-9158-1a88c449a7d6",
    "_uuid": "609d7ed4c45f18359ad51745f03b2a686175b7ad",
    "colab_type": "text",
    "id": "fT9MAv0Dww7f"
   },
   "source": [
    "# Ensemble Technique to combine algorithms (GradientBoostingRegressor + random Forest Regressor) and making one"
   ]
  },
  {
   "cell_type": "code",
   "execution_count": 130,
   "metadata": {
    "_cell_guid": "532dcc6f-33a1-4726-a07a-e4bb2ef0b396",
    "_kg_hide-input": true,
    "_uuid": "40c82b43dd34bb9b7685c76bea0f5ca7e761c1d4",
    "colab": {},
    "colab_type": "code",
    "id": "0lcJ9UZSww7f"
   },
   "outputs": [],
   "source": [
    "RF_model = RandomForestRegressor()\n",
    "GB_model  = GradientBoostingRegressor()"
   ]
  },
  {
   "cell_type": "code",
   "execution_count": 131,
   "metadata": {},
   "outputs": [
    {
     "data": {
      "text/plain": [
       "VotingRegressor(estimators=[('model1', RandomForestRegressor()),\n",
       "                            ('model2', GradientBoostingRegressor())])"
      ]
     },
     "execution_count": 131,
     "metadata": {},
     "output_type": "execute_result"
    }
   ],
   "source": [
    "Ens = VotingRegressor( estimators= [('model1',RF_model),('model2',GB_model)])\n",
    "Ens= Ens.fit(X , y)\n",
    "Ens"
   ]
  },
  {
   "cell_type": "markdown",
   "metadata": {},
   "source": [
    "# Graph of the actual and predicted Deaths with 10 days forecasting"
   ]
  },
  {
   "cell_type": "markdown",
   "metadata": {
    "id": "qkcalTi0ZGC2",
    "pycharm": {
     "name": "#%% md\n"
    }
   },
   "source": [
    "### R2"
   ]
  },
  {
   "cell_type": "code",
   "execution_count": 132,
   "metadata": {
    "pycharm": {
     "name": "#%%\n"
    }
   },
   "outputs": [
    {
     "data": {
      "image/png": "[encoded data removed]",
      "text/plain": [
       "<Figure size 1440x720 with 1 Axes>"
      ]
     },
     "metadata": {
      "needs_background": "light"
     },
     "output_type": "display_data"
    }
   ],
   "source": [
    "plt.figure(figsize=(20, 10))\n",
    "plt.subplot(1,1,1)\n",
    "pred=Ens.predict(X)\n",
    "plt.plot(y_t,color='blue',label='Deaths cases')\n",
    "plt.plot(pred,color='purple',label='Enemble Predictions',marker= \"s\")\n",
    "plt.title('Predicted Deaths Cases')\n",
    "plt.xlabel('Days since 1/22/2020')\n",
    "plt.ylabel('NO. of Deaths')\n",
    "plt.legend(bbox_to_anchor=(1, 1))\n",
    "plt.show()"
   ]
  },
  {
   "cell_type": "markdown",
   "metadata": {
    "id": "Pf58ZqXBLG92"
   },
   "source": [
    "# Evaluation Measures"
   ]
  },
  {
   "cell_type": "code",
   "execution_count": 105,
   "metadata": {
    "colab": {
     "base_uri": "https://localhost:8080/"
    },
    "id": "1XrbLKYnZGC4",
    "outputId": "c0542e93-bd99-4eae-c134-5268a4e2c3fc"
   },
   "outputs": [
    {
     "name": "stdout",
     "output_type": "stream",
     "text": [
      "R2 :  0.99942\n"
     ]
    }
   ],
   "source": [
    "y_pred = Ens.predict(X)\n",
    "R_square=r2_score(y,y_pred)\n",
    "print('R2 : ', round(R_square,5))"
   ]
  },
  {
   "cell_type": "markdown",
   "metadata": {},
   "source": [
    "### Adjusted R2"
   ]
  },
  {
   "cell_type": "code",
   "execution_count": 106,
   "metadata": {},
   "outputs": [
    {
     "name": "stdout",
     "output_type": "stream",
     "text": [
      "Adjusted R2 : 0.99941\n"
     ]
    }
   ],
   "source": [
    "print('Adjusted R2 :', round(1-(1-R_square)*(len(X)-1)/(len(X)-2-1), 5))"
   ]
  },
  {
   "cell_type": "markdown",
   "metadata": {
    "id": "w1BTf8THZGC-"
   },
   "source": [
    "### MSE"
   ]
  },
  {
   "cell_type": "code",
   "execution_count": 107,
   "metadata": {
    "colab": {
     "base_uri": "https://localhost:8080/"
    },
    "id": "UGGMF4-KZGDA",
    "outputId": "d9ed4eb7-a5f9-499f-a185-458f7f001012"
   },
   "outputs": [
    {
     "name": "stdout",
     "output_type": "stream",
     "text": [
      "Mean Squared Error:  200297.36\n"
     ]
    }
   ],
   "source": [
    "mse=mean_squared_error(y,y_pred)\n",
    "print('Mean Squared Error: ', round(mse,2))"
   ]
  },
  {
   "cell_type": "markdown",
   "metadata": {
    "id": "ecIh2V5aZGDG"
   },
   "source": [
    "### MAE"
   ]
  },
  {
   "cell_type": "code",
   "execution_count": 108,
   "metadata": {
    "colab": {
     "base_uri": "https://localhost:8080/"
    },
    "id": "EPewmcfSZGDJ",
    "outputId": "5153a04e-29c0-44a5-82d3-9e5c083eae89"
   },
   "outputs": [
    {
     "name": "stdout",
     "output_type": "stream",
     "text": [
      "Mean Absolute Error:  215.2\n"
     ]
    }
   ],
   "source": [
    "mae=mean_absolute_error(y,y_pred)\n",
    "print('Mean Absolute Error: ', round(mae,2))"
   ]
  },
  {
   "cell_type": "markdown",
   "metadata": {},
   "source": [
    "### RMSE"
   ]
  },
  {
   "cell_type": "code",
   "execution_count": 109,
   "metadata": {},
   "outputs": [
    {
     "name": "stdout",
     "output_type": "stream",
     "text": [
      "RMSE:  447.55\n"
     ]
    }
   ],
   "source": [
    "rmse = math.sqrt(mse)\n",
    "print('RMSE: ', round(rmse,2))"
   ]
  },
  {
   "cell_type": "markdown",
   "metadata": {},
   "source": [
    "#aouther @alrehaili_meaad"
   ]
  }
 ],
 "metadata": {
  "kernelspec": {
   "display_name": "Python 3",
   "language": "python",
   "name": "python3"
  },
  "language_info": {
   "codemirror_mode": {
    "name": "ipython",
    "version": 3
   },
   "file_extension": ".py",
   "mimetype": "text/x-python",
   "name": "python",
   "nbconvert_exporter": "python",
   "pygments_lexer": "ipython3",
   "version": "3.8.3"
  }
 },
 "nbformat": 4,
 "nbformat_minor": 4
}
